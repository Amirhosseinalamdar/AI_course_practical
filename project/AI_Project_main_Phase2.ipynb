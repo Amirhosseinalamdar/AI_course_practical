{
  "cells": [
    {
      "cell_type": "markdown",
      "metadata": {
        "id": "koI4MqJpFs2D"
      },
      "source": [
        "# AI Project - Phase 2 (Destination Suggestion)\n",
        "<div style=\"text-align: center\">\n",
        "<h1 style = \"color: red\"> Sharif University Of Technology</h1>\n",
        "<h2 style = \"color: green\"> DR. Mahdieh Soleymani | DR. MohammadHossein Rohban </h2>\n",
        "<h3 style = \"color: cyan\"> Head of Project: AmirHossein Razlighi <h3>\n",
        "<h3 style = \"color: cyan\"> Designed By: AmirHossein Razlighi, Javad Hezareh, Payam Taebi, Alireza Sakhaei, Ali Banayeean, Yalda Shabanzadeh, Hamidreza Yaghoubi, Alireza Heidari <h3>\n",
        "<h4 style = \"color: white\"> Ask your questions via quera</h4>\n",
        "<h5> Save your file with format: STUDENT NUMBER_Phase2.ipynb or .zip </h5>\n",
        "</div>"
      ]
    },
    {
      "cell_type": "markdown",
      "metadata": {
        "id": "SCn4mvUnFs2H"
      },
      "source": [
        "## Overview"
      ]
    },
    {
      "cell_type": "markdown",
      "metadata": {
        "id": "uL_wwIVuFs2H"
      },
      "source": [
        "<div style=\"text-align: center\">\n",
        "<img src=\"./Images/Uber_research.jpg\" width=\"100%\" height=\"auto\" />\n",
        "</div>"
      ]
    },
    {
      "cell_type": "markdown",
      "metadata": {
        "id": "ZAkfHjMoFs2H"
      },
      "source": [
        "Suppose you are a research engineer at Uber and you are asked to design a system that suggests destinations to the passengers. The system should be able to suggest destinations based on the passenger's history. For example, one passenger may save a variety of locations (like home, work, gym, etc.). This passenger may go to gym, often on weekends and when he/she requests a car from Home.\n",
        "\n",
        "So, for example, if I am a student, going to university usually from Saturday to Wednesday on 8:00 from \"home\", the next time I request a car from \"home\" on 8:00, the system should suggest \"university\" as the destination. Now, it's not that simple always, so we should seek for smart wayys to solve this problem!\n",
        "\n",
        "As you may understood by now, we should engineer some of features from the data we have and try to predict the next destination of the passenger.\n",
        "\n",
        "Let's begin!"
      ]
    },
    {
      "cell_type": "markdown",
      "metadata": {
        "id": "iQlzw5gtFs2I"
      },
      "source": [
        "## Setup"
      ]
    },
    {
      "cell_type": "code",
      "execution_count": 1,
      "metadata": {
        "id": "QWEQ81TwFs2I"
      },
      "outputs": [],
      "source": [
        "import random\n",
        "import json\n",
        "import pandas as pd\n",
        "import numpy as np\n",
        "import matplotlib.pyplot as plt\n",
        "import torch\n",
        "import torch.nn as nn\n",
        "\n",
        "random.seed(2024)\n",
        "np.random.seed(2024)"
      ]
    },
    {
      "cell_type": "code",
      "source": [
        "from google.colab import drive\n",
        "drive.mount('/content/drive/')"
      ],
      "metadata": {
        "colab": {
          "base_uri": "https://localhost:8080/"
        },
        "id": "SERcH9raGXcy",
        "outputId": "24cf6339-9245-4ae3-8861-b1b92eea077f"
      },
      "execution_count": 2,
      "outputs": [
        {
          "output_type": "stream",
          "name": "stdout",
          "text": [
            "Mounted at /content/drive/\n"
          ]
        }
      ]
    },
    {
      "cell_type": "code",
      "source": [
        "root_path= './drive/MyDrive/AI_project_phase_1/ph2/'"
      ],
      "metadata": {
        "id": "4WqHQtPsF3xS"
      },
      "execution_count": 3,
      "outputs": []
    },
    {
      "cell_type": "markdown",
      "metadata": {
        "id": "D0eSmzy7Fs2J"
      },
      "source": [
        "# First Approach: Using KNN"
      ]
    },
    {
      "cell_type": "markdown",
      "metadata": {
        "id": "2GPrjZ-UFs2J"
      },
      "source": [
        "## Data Preparation for KNN"
      ]
    },
    {
      "cell_type": "markdown",
      "metadata": {
        "id": "yfN98CUJFs2J"
      },
      "source": [
        "In this part, you should prepare the data for KNN. You should load the dataset file that we provided, named `Data/output.json` and then clean it, do all the required preprocessings and then split into train-test-val sets if necessary. Note that we provided a splitted test set for you, named `Data/output_test.json`. You should not use this file for training or validation. You should only use it for testing your model."
      ]
    },
    {
      "cell_type": "code",
      "execution_count": 4,
      "metadata": {
        "colab": {
          "base_uri": "https://localhost:8080/",
          "height": 206
        },
        "id": "qBFHpcLgFs2J",
        "outputId": "1b2c7d48-52e6-4db0-c929-20062e0494f2"
      },
      "outputs": [
        {
          "output_type": "execute_result",
          "data": {
            "text/plain": [
              "   user_id  Day  origin lat  origin lon  dest lat  dest lon  \\\n",
              "0        0    0      35.625      51.375    36.000    51.085   \n",
              "1        0    0      36.000      51.085    35.625    51.375   \n",
              "2        0    0      35.680      51.445    35.745    51.465   \n",
              "3        0    0      35.745      51.465    35.680    51.445   \n",
              "4        0    1      35.625      51.375    35.680    51.445   \n",
              "\n",
              "           start_time            end_time  price  \n",
              "0 2024-01-30 13:07:00 2024-01-30 14:43:00  43.99  \n",
              "1 2024-01-30 15:13:00 2024-01-30 16:49:00  36.66  \n",
              "2 2024-01-30 20:41:00 2024-01-30 20:54:00  15.08  \n",
              "3 2024-01-30 21:24:00 2024-01-30 21:37:00  10.00  \n",
              "4 2024-01-30 23:38:00 2024-01-30 23:58:00  19.48  "
            ],
            "text/html": [
              "\n",
              "  <div id=\"df-9e03f815-741e-4b8e-8c06-f0d2f33cb9b9\" class=\"colab-df-container\">\n",
              "    <div>\n",
              "<style scoped>\n",
              "    .dataframe tbody tr th:only-of-type {\n",
              "        vertical-align: middle;\n",
              "    }\n",
              "\n",
              "    .dataframe tbody tr th {\n",
              "        vertical-align: top;\n",
              "    }\n",
              "\n",
              "    .dataframe thead th {\n",
              "        text-align: right;\n",
              "    }\n",
              "</style>\n",
              "<table border=\"1\" class=\"dataframe\">\n",
              "  <thead>\n",
              "    <tr style=\"text-align: right;\">\n",
              "      <th></th>\n",
              "      <th>user_id</th>\n",
              "      <th>Day</th>\n",
              "      <th>origin lat</th>\n",
              "      <th>origin lon</th>\n",
              "      <th>dest lat</th>\n",
              "      <th>dest lon</th>\n",
              "      <th>start_time</th>\n",
              "      <th>end_time</th>\n",
              "      <th>price</th>\n",
              "    </tr>\n",
              "  </thead>\n",
              "  <tbody>\n",
              "    <tr>\n",
              "      <th>0</th>\n",
              "      <td>0</td>\n",
              "      <td>0</td>\n",
              "      <td>35.625</td>\n",
              "      <td>51.375</td>\n",
              "      <td>36.000</td>\n",
              "      <td>51.085</td>\n",
              "      <td>2024-01-30 13:07:00</td>\n",
              "      <td>2024-01-30 14:43:00</td>\n",
              "      <td>43.99</td>\n",
              "    </tr>\n",
              "    <tr>\n",
              "      <th>1</th>\n",
              "      <td>0</td>\n",
              "      <td>0</td>\n",
              "      <td>36.000</td>\n",
              "      <td>51.085</td>\n",
              "      <td>35.625</td>\n",
              "      <td>51.375</td>\n",
              "      <td>2024-01-30 15:13:00</td>\n",
              "      <td>2024-01-30 16:49:00</td>\n",
              "      <td>36.66</td>\n",
              "    </tr>\n",
              "    <tr>\n",
              "      <th>2</th>\n",
              "      <td>0</td>\n",
              "      <td>0</td>\n",
              "      <td>35.680</td>\n",
              "      <td>51.445</td>\n",
              "      <td>35.745</td>\n",
              "      <td>51.465</td>\n",
              "      <td>2024-01-30 20:41:00</td>\n",
              "      <td>2024-01-30 20:54:00</td>\n",
              "      <td>15.08</td>\n",
              "    </tr>\n",
              "    <tr>\n",
              "      <th>3</th>\n",
              "      <td>0</td>\n",
              "      <td>0</td>\n",
              "      <td>35.745</td>\n",
              "      <td>51.465</td>\n",
              "      <td>35.680</td>\n",
              "      <td>51.445</td>\n",
              "      <td>2024-01-30 21:24:00</td>\n",
              "      <td>2024-01-30 21:37:00</td>\n",
              "      <td>10.00</td>\n",
              "    </tr>\n",
              "    <tr>\n",
              "      <th>4</th>\n",
              "      <td>0</td>\n",
              "      <td>1</td>\n",
              "      <td>35.625</td>\n",
              "      <td>51.375</td>\n",
              "      <td>35.680</td>\n",
              "      <td>51.445</td>\n",
              "      <td>2024-01-30 23:38:00</td>\n",
              "      <td>2024-01-30 23:58:00</td>\n",
              "      <td>19.48</td>\n",
              "    </tr>\n",
              "  </tbody>\n",
              "</table>\n",
              "</div>\n",
              "    <div class=\"colab-df-buttons\">\n",
              "\n",
              "  <div class=\"colab-df-container\">\n",
              "    <button class=\"colab-df-convert\" onclick=\"convertToInteractive('df-9e03f815-741e-4b8e-8c06-f0d2f33cb9b9')\"\n",
              "            title=\"Convert this dataframe to an interactive table.\"\n",
              "            style=\"display:none;\">\n",
              "\n",
              "  <svg xmlns=\"http://www.w3.org/2000/svg\" height=\"24px\" viewBox=\"0 -960 960 960\">\n",
              "    <path d=\"M120-120v-720h720v720H120Zm60-500h600v-160H180v160Zm220 220h160v-160H400v160Zm0 220h160v-160H400v160ZM180-400h160v-160H180v160Zm440 0h160v-160H620v160ZM180-180h160v-160H180v160Zm440 0h160v-160H620v160Z\"/>\n",
              "  </svg>\n",
              "    </button>\n",
              "\n",
              "  <style>\n",
              "    .colab-df-container {\n",
              "      display:flex;\n",
              "      gap: 12px;\n",
              "    }\n",
              "\n",
              "    .colab-df-convert {\n",
              "      background-color: #E8F0FE;\n",
              "      border: none;\n",
              "      border-radius: 50%;\n",
              "      cursor: pointer;\n",
              "      display: none;\n",
              "      fill: #1967D2;\n",
              "      height: 32px;\n",
              "      padding: 0 0 0 0;\n",
              "      width: 32px;\n",
              "    }\n",
              "\n",
              "    .colab-df-convert:hover {\n",
              "      background-color: #E2EBFA;\n",
              "      box-shadow: 0px 1px 2px rgba(60, 64, 67, 0.3), 0px 1px 3px 1px rgba(60, 64, 67, 0.15);\n",
              "      fill: #174EA6;\n",
              "    }\n",
              "\n",
              "    .colab-df-buttons div {\n",
              "      margin-bottom: 4px;\n",
              "    }\n",
              "\n",
              "    [theme=dark] .colab-df-convert {\n",
              "      background-color: #3B4455;\n",
              "      fill: #D2E3FC;\n",
              "    }\n",
              "\n",
              "    [theme=dark] .colab-df-convert:hover {\n",
              "      background-color: #434B5C;\n",
              "      box-shadow: 0px 1px 3px 1px rgba(0, 0, 0, 0.15);\n",
              "      filter: drop-shadow(0px 1px 2px rgba(0, 0, 0, 0.3));\n",
              "      fill: #FFFFFF;\n",
              "    }\n",
              "  </style>\n",
              "\n",
              "    <script>\n",
              "      const buttonEl =\n",
              "        document.querySelector('#df-9e03f815-741e-4b8e-8c06-f0d2f33cb9b9 button.colab-df-convert');\n",
              "      buttonEl.style.display =\n",
              "        google.colab.kernel.accessAllowed ? 'block' : 'none';\n",
              "\n",
              "      async function convertToInteractive(key) {\n",
              "        const element = document.querySelector('#df-9e03f815-741e-4b8e-8c06-f0d2f33cb9b9');\n",
              "        const dataTable =\n",
              "          await google.colab.kernel.invokeFunction('convertToInteractive',\n",
              "                                                    [key], {});\n",
              "        if (!dataTable) return;\n",
              "\n",
              "        const docLinkHtml = 'Like what you see? Visit the ' +\n",
              "          '<a target=\"_blank\" href=https://colab.research.google.com/notebooks/data_table.ipynb>data table notebook</a>'\n",
              "          + ' to learn more about interactive tables.';\n",
              "        element.innerHTML = '';\n",
              "        dataTable['output_type'] = 'display_data';\n",
              "        await google.colab.output.renderOutput(dataTable, element);\n",
              "        const docLink = document.createElement('div');\n",
              "        docLink.innerHTML = docLinkHtml;\n",
              "        element.appendChild(docLink);\n",
              "      }\n",
              "    </script>\n",
              "  </div>\n",
              "\n",
              "\n",
              "<div id=\"df-a67551b1-739d-4e51-9d7d-3167dbfa9cea\">\n",
              "  <button class=\"colab-df-quickchart\" onclick=\"quickchart('df-a67551b1-739d-4e51-9d7d-3167dbfa9cea')\"\n",
              "            title=\"Suggest charts\"\n",
              "            style=\"display:none;\">\n",
              "\n",
              "<svg xmlns=\"http://www.w3.org/2000/svg\" height=\"24px\"viewBox=\"0 0 24 24\"\n",
              "     width=\"24px\">\n",
              "    <g>\n",
              "        <path d=\"M19 3H5c-1.1 0-2 .9-2 2v14c0 1.1.9 2 2 2h14c1.1 0 2-.9 2-2V5c0-1.1-.9-2-2-2zM9 17H7v-7h2v7zm4 0h-2V7h2v10zm4 0h-2v-4h2v4z\"/>\n",
              "    </g>\n",
              "</svg>\n",
              "  </button>\n",
              "\n",
              "<style>\n",
              "  .colab-df-quickchart {\n",
              "      --bg-color: #E8F0FE;\n",
              "      --fill-color: #1967D2;\n",
              "      --hover-bg-color: #E2EBFA;\n",
              "      --hover-fill-color: #174EA6;\n",
              "      --disabled-fill-color: #AAA;\n",
              "      --disabled-bg-color: #DDD;\n",
              "  }\n",
              "\n",
              "  [theme=dark] .colab-df-quickchart {\n",
              "      --bg-color: #3B4455;\n",
              "      --fill-color: #D2E3FC;\n",
              "      --hover-bg-color: #434B5C;\n",
              "      --hover-fill-color: #FFFFFF;\n",
              "      --disabled-bg-color: #3B4455;\n",
              "      --disabled-fill-color: #666;\n",
              "  }\n",
              "\n",
              "  .colab-df-quickchart {\n",
              "    background-color: var(--bg-color);\n",
              "    border: none;\n",
              "    border-radius: 50%;\n",
              "    cursor: pointer;\n",
              "    display: none;\n",
              "    fill: var(--fill-color);\n",
              "    height: 32px;\n",
              "    padding: 0;\n",
              "    width: 32px;\n",
              "  }\n",
              "\n",
              "  .colab-df-quickchart:hover {\n",
              "    background-color: var(--hover-bg-color);\n",
              "    box-shadow: 0 1px 2px rgba(60, 64, 67, 0.3), 0 1px 3px 1px rgba(60, 64, 67, 0.15);\n",
              "    fill: var(--button-hover-fill-color);\n",
              "  }\n",
              "\n",
              "  .colab-df-quickchart-complete:disabled,\n",
              "  .colab-df-quickchart-complete:disabled:hover {\n",
              "    background-color: var(--disabled-bg-color);\n",
              "    fill: var(--disabled-fill-color);\n",
              "    box-shadow: none;\n",
              "  }\n",
              "\n",
              "  .colab-df-spinner {\n",
              "    border: 2px solid var(--fill-color);\n",
              "    border-color: transparent;\n",
              "    border-bottom-color: var(--fill-color);\n",
              "    animation:\n",
              "      spin 1s steps(1) infinite;\n",
              "  }\n",
              "\n",
              "  @keyframes spin {\n",
              "    0% {\n",
              "      border-color: transparent;\n",
              "      border-bottom-color: var(--fill-color);\n",
              "      border-left-color: var(--fill-color);\n",
              "    }\n",
              "    20% {\n",
              "      border-color: transparent;\n",
              "      border-left-color: var(--fill-color);\n",
              "      border-top-color: var(--fill-color);\n",
              "    }\n",
              "    30% {\n",
              "      border-color: transparent;\n",
              "      border-left-color: var(--fill-color);\n",
              "      border-top-color: var(--fill-color);\n",
              "      border-right-color: var(--fill-color);\n",
              "    }\n",
              "    40% {\n",
              "      border-color: transparent;\n",
              "      border-right-color: var(--fill-color);\n",
              "      border-top-color: var(--fill-color);\n",
              "    }\n",
              "    60% {\n",
              "      border-color: transparent;\n",
              "      border-right-color: var(--fill-color);\n",
              "    }\n",
              "    80% {\n",
              "      border-color: transparent;\n",
              "      border-right-color: var(--fill-color);\n",
              "      border-bottom-color: var(--fill-color);\n",
              "    }\n",
              "    90% {\n",
              "      border-color: transparent;\n",
              "      border-bottom-color: var(--fill-color);\n",
              "    }\n",
              "  }\n",
              "</style>\n",
              "\n",
              "  <script>\n",
              "    async function quickchart(key) {\n",
              "      const quickchartButtonEl =\n",
              "        document.querySelector('#' + key + ' button');\n",
              "      quickchartButtonEl.disabled = true;  // To prevent multiple clicks.\n",
              "      quickchartButtonEl.classList.add('colab-df-spinner');\n",
              "      try {\n",
              "        const charts = await google.colab.kernel.invokeFunction(\n",
              "            'suggestCharts', [key], {});\n",
              "      } catch (error) {\n",
              "        console.error('Error during call to suggestCharts:', error);\n",
              "      }\n",
              "      quickchartButtonEl.classList.remove('colab-df-spinner');\n",
              "      quickchartButtonEl.classList.add('colab-df-quickchart-complete');\n",
              "    }\n",
              "    (() => {\n",
              "      let quickchartButtonEl =\n",
              "        document.querySelector('#df-a67551b1-739d-4e51-9d7d-3167dbfa9cea button');\n",
              "      quickchartButtonEl.style.display =\n",
              "        google.colab.kernel.accessAllowed ? 'block' : 'none';\n",
              "    })();\n",
              "  </script>\n",
              "</div>\n",
              "    </div>\n",
              "  </div>\n"
            ]
          },
          "metadata": {},
          "execution_count": 4
        }
      ],
      "source": [
        "# TODO: Load the dataset for training\n",
        "df = pd.read_json(root_path+'Data/output.json')\n",
        "df.head()"
      ]
    },
    {
      "cell_type": "code",
      "execution_count": 5,
      "metadata": {
        "colab": {
          "base_uri": "https://localhost:8080/",
          "height": 206
        },
        "id": "YIDcj38GFs2K",
        "outputId": "81a36c85-47da-4af7-dfe7-3d14b15ed8c0"
      },
      "outputs": [
        {
          "output_type": "execute_result",
          "data": {
            "text/plain": [
              "   user_id  Day  origin lat  origin lon  dest lat  dest lon  \\\n",
              "0       24    6      35.650      51.225    35.640    51.270   \n",
              "1       46    2      35.625      51.250    35.690    51.295   \n",
              "2       27    5      35.650      51.225    35.865    51.045   \n",
              "3        7    4      35.875      51.375    35.890    51.315   \n",
              "4       27    3      35.625      51.375    35.650    51.385   \n",
              "\n",
              "           start_time            end_time  price  \n",
              "0 2024-01-30 11:58:00 2024-01-30 12:12:00  10.00  \n",
              "1 2024-01-30 21:58:00 2024-01-30 22:18:00  11.84  \n",
              "2 2024-01-30 20:05:00 2024-01-30 20:58:00  23.36  \n",
              "3 2024-01-30 17:39:00 2024-01-30 18:17:00  13.74  \n",
              "4 2024-01-30 13:16:00 2024-01-30 13:19:00  15.08  "
            ],
            "text/html": [
              "\n",
              "  <div id=\"df-291f385d-69d7-4f9b-86f1-f63db2e7f7c5\" class=\"colab-df-container\">\n",
              "    <div>\n",
              "<style scoped>\n",
              "    .dataframe tbody tr th:only-of-type {\n",
              "        vertical-align: middle;\n",
              "    }\n",
              "\n",
              "    .dataframe tbody tr th {\n",
              "        vertical-align: top;\n",
              "    }\n",
              "\n",
              "    .dataframe thead th {\n",
              "        text-align: right;\n",
              "    }\n",
              "</style>\n",
              "<table border=\"1\" class=\"dataframe\">\n",
              "  <thead>\n",
              "    <tr style=\"text-align: right;\">\n",
              "      <th></th>\n",
              "      <th>user_id</th>\n",
              "      <th>Day</th>\n",
              "      <th>origin lat</th>\n",
              "      <th>origin lon</th>\n",
              "      <th>dest lat</th>\n",
              "      <th>dest lon</th>\n",
              "      <th>start_time</th>\n",
              "      <th>end_time</th>\n",
              "      <th>price</th>\n",
              "    </tr>\n",
              "  </thead>\n",
              "  <tbody>\n",
              "    <tr>\n",
              "      <th>0</th>\n",
              "      <td>24</td>\n",
              "      <td>6</td>\n",
              "      <td>35.650</td>\n",
              "      <td>51.225</td>\n",
              "      <td>35.640</td>\n",
              "      <td>51.270</td>\n",
              "      <td>2024-01-30 11:58:00</td>\n",
              "      <td>2024-01-30 12:12:00</td>\n",
              "      <td>10.00</td>\n",
              "    </tr>\n",
              "    <tr>\n",
              "      <th>1</th>\n",
              "      <td>46</td>\n",
              "      <td>2</td>\n",
              "      <td>35.625</td>\n",
              "      <td>51.250</td>\n",
              "      <td>35.690</td>\n",
              "      <td>51.295</td>\n",
              "      <td>2024-01-30 21:58:00</td>\n",
              "      <td>2024-01-30 22:18:00</td>\n",
              "      <td>11.84</td>\n",
              "    </tr>\n",
              "    <tr>\n",
              "      <th>2</th>\n",
              "      <td>27</td>\n",
              "      <td>5</td>\n",
              "      <td>35.650</td>\n",
              "      <td>51.225</td>\n",
              "      <td>35.865</td>\n",
              "      <td>51.045</td>\n",
              "      <td>2024-01-30 20:05:00</td>\n",
              "      <td>2024-01-30 20:58:00</td>\n",
              "      <td>23.36</td>\n",
              "    </tr>\n",
              "    <tr>\n",
              "      <th>3</th>\n",
              "      <td>7</td>\n",
              "      <td>4</td>\n",
              "      <td>35.875</td>\n",
              "      <td>51.375</td>\n",
              "      <td>35.890</td>\n",
              "      <td>51.315</td>\n",
              "      <td>2024-01-30 17:39:00</td>\n",
              "      <td>2024-01-30 18:17:00</td>\n",
              "      <td>13.74</td>\n",
              "    </tr>\n",
              "    <tr>\n",
              "      <th>4</th>\n",
              "      <td>27</td>\n",
              "      <td>3</td>\n",
              "      <td>35.625</td>\n",
              "      <td>51.375</td>\n",
              "      <td>35.650</td>\n",
              "      <td>51.385</td>\n",
              "      <td>2024-01-30 13:16:00</td>\n",
              "      <td>2024-01-30 13:19:00</td>\n",
              "      <td>15.08</td>\n",
              "    </tr>\n",
              "  </tbody>\n",
              "</table>\n",
              "</div>\n",
              "    <div class=\"colab-df-buttons\">\n",
              "\n",
              "  <div class=\"colab-df-container\">\n",
              "    <button class=\"colab-df-convert\" onclick=\"convertToInteractive('df-291f385d-69d7-4f9b-86f1-f63db2e7f7c5')\"\n",
              "            title=\"Convert this dataframe to an interactive table.\"\n",
              "            style=\"display:none;\">\n",
              "\n",
              "  <svg xmlns=\"http://www.w3.org/2000/svg\" height=\"24px\" viewBox=\"0 -960 960 960\">\n",
              "    <path d=\"M120-120v-720h720v720H120Zm60-500h600v-160H180v160Zm220 220h160v-160H400v160Zm0 220h160v-160H400v160ZM180-400h160v-160H180v160Zm440 0h160v-160H620v160ZM180-180h160v-160H180v160Zm440 0h160v-160H620v160Z\"/>\n",
              "  </svg>\n",
              "    </button>\n",
              "\n",
              "  <style>\n",
              "    .colab-df-container {\n",
              "      display:flex;\n",
              "      gap: 12px;\n",
              "    }\n",
              "\n",
              "    .colab-df-convert {\n",
              "      background-color: #E8F0FE;\n",
              "      border: none;\n",
              "      border-radius: 50%;\n",
              "      cursor: pointer;\n",
              "      display: none;\n",
              "      fill: #1967D2;\n",
              "      height: 32px;\n",
              "      padding: 0 0 0 0;\n",
              "      width: 32px;\n",
              "    }\n",
              "\n",
              "    .colab-df-convert:hover {\n",
              "      background-color: #E2EBFA;\n",
              "      box-shadow: 0px 1px 2px rgba(60, 64, 67, 0.3), 0px 1px 3px 1px rgba(60, 64, 67, 0.15);\n",
              "      fill: #174EA6;\n",
              "    }\n",
              "\n",
              "    .colab-df-buttons div {\n",
              "      margin-bottom: 4px;\n",
              "    }\n",
              "\n",
              "    [theme=dark] .colab-df-convert {\n",
              "      background-color: #3B4455;\n",
              "      fill: #D2E3FC;\n",
              "    }\n",
              "\n",
              "    [theme=dark] .colab-df-convert:hover {\n",
              "      background-color: #434B5C;\n",
              "      box-shadow: 0px 1px 3px 1px rgba(0, 0, 0, 0.15);\n",
              "      filter: drop-shadow(0px 1px 2px rgba(0, 0, 0, 0.3));\n",
              "      fill: #FFFFFF;\n",
              "    }\n",
              "  </style>\n",
              "\n",
              "    <script>\n",
              "      const buttonEl =\n",
              "        document.querySelector('#df-291f385d-69d7-4f9b-86f1-f63db2e7f7c5 button.colab-df-convert');\n",
              "      buttonEl.style.display =\n",
              "        google.colab.kernel.accessAllowed ? 'block' : 'none';\n",
              "\n",
              "      async function convertToInteractive(key) {\n",
              "        const element = document.querySelector('#df-291f385d-69d7-4f9b-86f1-f63db2e7f7c5');\n",
              "        const dataTable =\n",
              "          await google.colab.kernel.invokeFunction('convertToInteractive',\n",
              "                                                    [key], {});\n",
              "        if (!dataTable) return;\n",
              "\n",
              "        const docLinkHtml = 'Like what you see? Visit the ' +\n",
              "          '<a target=\"_blank\" href=https://colab.research.google.com/notebooks/data_table.ipynb>data table notebook</a>'\n",
              "          + ' to learn more about interactive tables.';\n",
              "        element.innerHTML = '';\n",
              "        dataTable['output_type'] = 'display_data';\n",
              "        await google.colab.output.renderOutput(dataTable, element);\n",
              "        const docLink = document.createElement('div');\n",
              "        docLink.innerHTML = docLinkHtml;\n",
              "        element.appendChild(docLink);\n",
              "      }\n",
              "    </script>\n",
              "  </div>\n",
              "\n",
              "\n",
              "<div id=\"df-544e994e-c3b8-420b-8a27-99a80f10a87d\">\n",
              "  <button class=\"colab-df-quickchart\" onclick=\"quickchart('df-544e994e-c3b8-420b-8a27-99a80f10a87d')\"\n",
              "            title=\"Suggest charts\"\n",
              "            style=\"display:none;\">\n",
              "\n",
              "<svg xmlns=\"http://www.w3.org/2000/svg\" height=\"24px\"viewBox=\"0 0 24 24\"\n",
              "     width=\"24px\">\n",
              "    <g>\n",
              "        <path d=\"M19 3H5c-1.1 0-2 .9-2 2v14c0 1.1.9 2 2 2h14c1.1 0 2-.9 2-2V5c0-1.1-.9-2-2-2zM9 17H7v-7h2v7zm4 0h-2V7h2v10zm4 0h-2v-4h2v4z\"/>\n",
              "    </g>\n",
              "</svg>\n",
              "  </button>\n",
              "\n",
              "<style>\n",
              "  .colab-df-quickchart {\n",
              "      --bg-color: #E8F0FE;\n",
              "      --fill-color: #1967D2;\n",
              "      --hover-bg-color: #E2EBFA;\n",
              "      --hover-fill-color: #174EA6;\n",
              "      --disabled-fill-color: #AAA;\n",
              "      --disabled-bg-color: #DDD;\n",
              "  }\n",
              "\n",
              "  [theme=dark] .colab-df-quickchart {\n",
              "      --bg-color: #3B4455;\n",
              "      --fill-color: #D2E3FC;\n",
              "      --hover-bg-color: #434B5C;\n",
              "      --hover-fill-color: #FFFFFF;\n",
              "      --disabled-bg-color: #3B4455;\n",
              "      --disabled-fill-color: #666;\n",
              "  }\n",
              "\n",
              "  .colab-df-quickchart {\n",
              "    background-color: var(--bg-color);\n",
              "    border: none;\n",
              "    border-radius: 50%;\n",
              "    cursor: pointer;\n",
              "    display: none;\n",
              "    fill: var(--fill-color);\n",
              "    height: 32px;\n",
              "    padding: 0;\n",
              "    width: 32px;\n",
              "  }\n",
              "\n",
              "  .colab-df-quickchart:hover {\n",
              "    background-color: var(--hover-bg-color);\n",
              "    box-shadow: 0 1px 2px rgba(60, 64, 67, 0.3), 0 1px 3px 1px rgba(60, 64, 67, 0.15);\n",
              "    fill: var(--button-hover-fill-color);\n",
              "  }\n",
              "\n",
              "  .colab-df-quickchart-complete:disabled,\n",
              "  .colab-df-quickchart-complete:disabled:hover {\n",
              "    background-color: var(--disabled-bg-color);\n",
              "    fill: var(--disabled-fill-color);\n",
              "    box-shadow: none;\n",
              "  }\n",
              "\n",
              "  .colab-df-spinner {\n",
              "    border: 2px solid var(--fill-color);\n",
              "    border-color: transparent;\n",
              "    border-bottom-color: var(--fill-color);\n",
              "    animation:\n",
              "      spin 1s steps(1) infinite;\n",
              "  }\n",
              "\n",
              "  @keyframes spin {\n",
              "    0% {\n",
              "      border-color: transparent;\n",
              "      border-bottom-color: var(--fill-color);\n",
              "      border-left-color: var(--fill-color);\n",
              "    }\n",
              "    20% {\n",
              "      border-color: transparent;\n",
              "      border-left-color: var(--fill-color);\n",
              "      border-top-color: var(--fill-color);\n",
              "    }\n",
              "    30% {\n",
              "      border-color: transparent;\n",
              "      border-left-color: var(--fill-color);\n",
              "      border-top-color: var(--fill-color);\n",
              "      border-right-color: var(--fill-color);\n",
              "    }\n",
              "    40% {\n",
              "      border-color: transparent;\n",
              "      border-right-color: var(--fill-color);\n",
              "      border-top-color: var(--fill-color);\n",
              "    }\n",
              "    60% {\n",
              "      border-color: transparent;\n",
              "      border-right-color: var(--fill-color);\n",
              "    }\n",
              "    80% {\n",
              "      border-color: transparent;\n",
              "      border-right-color: var(--fill-color);\n",
              "      border-bottom-color: var(--fill-color);\n",
              "    }\n",
              "    90% {\n",
              "      border-color: transparent;\n",
              "      border-bottom-color: var(--fill-color);\n",
              "    }\n",
              "  }\n",
              "</style>\n",
              "\n",
              "  <script>\n",
              "    async function quickchart(key) {\n",
              "      const quickchartButtonEl =\n",
              "        document.querySelector('#' + key + ' button');\n",
              "      quickchartButtonEl.disabled = true;  // To prevent multiple clicks.\n",
              "      quickchartButtonEl.classList.add('colab-df-spinner');\n",
              "      try {\n",
              "        const charts = await google.colab.kernel.invokeFunction(\n",
              "            'suggestCharts', [key], {});\n",
              "      } catch (error) {\n",
              "        console.error('Error during call to suggestCharts:', error);\n",
              "      }\n",
              "      quickchartButtonEl.classList.remove('colab-df-spinner');\n",
              "      quickchartButtonEl.classList.add('colab-df-quickchart-complete');\n",
              "    }\n",
              "    (() => {\n",
              "      let quickchartButtonEl =\n",
              "        document.querySelector('#df-544e994e-c3b8-420b-8a27-99a80f10a87d button');\n",
              "      quickchartButtonEl.style.display =\n",
              "        google.colab.kernel.accessAllowed ? 'block' : 'none';\n",
              "    })();\n",
              "  </script>\n",
              "</div>\n",
              "    </div>\n",
              "  </div>\n"
            ]
          },
          "metadata": {},
          "execution_count": 5
        }
      ],
      "source": [
        "# TODO: Load the dataset for testing\n",
        "df_test = pd.read_json(root_path+'Data/output_test.json')\n",
        "df_test.head()"
      ]
    },
    {
      "cell_type": "code",
      "execution_count": 6,
      "metadata": {
        "colab": {
          "base_uri": "https://localhost:8080/"
        },
        "id": "FY2TFeFpFs2K",
        "outputId": "8a78654d-44ac-4f03-8970-0ffdcc29c975"
      },
      "outputs": [
        {
          "output_type": "stream",
          "name": "stdout",
          "text": [
            "60\n",
            "50\n"
          ]
        }
      ],
      "source": [
        "# print out the number of unique users and also randomly select one user\n",
        "# TODO\n",
        "print(df['user_id'].nunique())\n",
        "sample_user_id = df['user_id'].sample().iloc[0]\n",
        "print(sample_user_id)"
      ]
    },
    {
      "cell_type": "code",
      "execution_count": 7,
      "metadata": {
        "colab": {
          "base_uri": "https://localhost:8080/"
        },
        "id": "gPUYd6C7Fs2K",
        "outputId": "0df9e301-f3d5-414d-dac8-797137655a21"
      },
      "outputs": [
        {
          "output_type": "stream",
          "name": "stdout",
          "text": [
            "Collecting keplergl\n",
            "  Downloading keplergl-0.3.2.tar.gz (9.7 MB)\n",
            "\u001b[2K     \u001b[90m━━━━━━━━━━━━━━━━━━━━━━━━━━━━━━━━━━━━━━━━\u001b[0m \u001b[32m9.7/9.7 MB\u001b[0m \u001b[31m18.8 MB/s\u001b[0m eta \u001b[36m0:00:00\u001b[0m\n",
            "\u001b[?25h  Installing build dependencies ... \u001b[?25l\u001b[?25hdone\n",
            "  Getting requirements to build wheel ... \u001b[?25l\u001b[?25hdone\n",
            "  Preparing metadata (pyproject.toml) ... \u001b[?25l\u001b[?25hdone\n",
            "Requirement already satisfied: ipywidgets<8,>=7.0.0 in /usr/local/lib/python3.10/dist-packages (from keplergl) (7.7.1)\n",
            "Requirement already satisfied: traittypes>=0.2.1 in /usr/local/lib/python3.10/dist-packages (from keplergl) (0.2.1)\n",
            "Requirement already satisfied: geopandas>=0.5.0 in /usr/local/lib/python3.10/dist-packages (from keplergl) (0.13.2)\n",
            "Requirement already satisfied: pandas>=0.23.0 in /usr/local/lib/python3.10/dist-packages (from keplergl) (1.5.3)\n",
            "Requirement already satisfied: Shapely>=1.6.4.post2 in /usr/local/lib/python3.10/dist-packages (from keplergl) (2.0.2)\n",
            "Requirement already satisfied: fiona>=1.8.19 in /usr/local/lib/python3.10/dist-packages (from geopandas>=0.5.0->keplergl) (1.9.5)\n",
            "Requirement already satisfied: packaging in /usr/local/lib/python3.10/dist-packages (from geopandas>=0.5.0->keplergl) (23.2)\n",
            "Requirement already satisfied: pyproj>=3.0.1 in /usr/local/lib/python3.10/dist-packages (from geopandas>=0.5.0->keplergl) (3.6.1)\n",
            "Requirement already satisfied: ipykernel>=4.5.1 in /usr/local/lib/python3.10/dist-packages (from ipywidgets<8,>=7.0.0->keplergl) (5.5.6)\n",
            "Requirement already satisfied: ipython-genutils~=0.2.0 in /usr/local/lib/python3.10/dist-packages (from ipywidgets<8,>=7.0.0->keplergl) (0.2.0)\n",
            "Requirement already satisfied: traitlets>=4.3.1 in /usr/local/lib/python3.10/dist-packages (from ipywidgets<8,>=7.0.0->keplergl) (5.7.1)\n",
            "Requirement already satisfied: widgetsnbextension~=3.6.0 in /usr/local/lib/python3.10/dist-packages (from ipywidgets<8,>=7.0.0->keplergl) (3.6.6)\n",
            "Requirement already satisfied: ipython>=4.0.0 in /usr/local/lib/python3.10/dist-packages (from ipywidgets<8,>=7.0.0->keplergl) (7.34.0)\n",
            "Requirement already satisfied: jupyterlab-widgets>=1.0.0 in /usr/local/lib/python3.10/dist-packages (from ipywidgets<8,>=7.0.0->keplergl) (3.0.9)\n",
            "Requirement already satisfied: python-dateutil>=2.8.1 in /usr/local/lib/python3.10/dist-packages (from pandas>=0.23.0->keplergl) (2.8.2)\n",
            "Requirement already satisfied: pytz>=2020.1 in /usr/local/lib/python3.10/dist-packages (from pandas>=0.23.0->keplergl) (2023.3.post1)\n",
            "Requirement already satisfied: numpy>=1.21.0 in /usr/local/lib/python3.10/dist-packages (from pandas>=0.23.0->keplergl) (1.23.5)\n",
            "Requirement already satisfied: attrs>=19.2.0 in /usr/local/lib/python3.10/dist-packages (from fiona>=1.8.19->geopandas>=0.5.0->keplergl) (23.2.0)\n",
            "Requirement already satisfied: certifi in /usr/local/lib/python3.10/dist-packages (from fiona>=1.8.19->geopandas>=0.5.0->keplergl) (2023.11.17)\n",
            "Requirement already satisfied: click~=8.0 in /usr/local/lib/python3.10/dist-packages (from fiona>=1.8.19->geopandas>=0.5.0->keplergl) (8.1.7)\n",
            "Requirement already satisfied: click-plugins>=1.0 in /usr/local/lib/python3.10/dist-packages (from fiona>=1.8.19->geopandas>=0.5.0->keplergl) (1.1.1)\n",
            "Requirement already satisfied: cligj>=0.5 in /usr/local/lib/python3.10/dist-packages (from fiona>=1.8.19->geopandas>=0.5.0->keplergl) (0.7.2)\n",
            "Requirement already satisfied: six in /usr/local/lib/python3.10/dist-packages (from fiona>=1.8.19->geopandas>=0.5.0->keplergl) (1.16.0)\n",
            "Requirement already satisfied: setuptools in /usr/local/lib/python3.10/dist-packages (from fiona>=1.8.19->geopandas>=0.5.0->keplergl) (67.7.2)\n",
            "Requirement already satisfied: jupyter-client in /usr/local/lib/python3.10/dist-packages (from ipykernel>=4.5.1->ipywidgets<8,>=7.0.0->keplergl) (6.1.12)\n",
            "Requirement already satisfied: tornado>=4.2 in /usr/local/lib/python3.10/dist-packages (from ipykernel>=4.5.1->ipywidgets<8,>=7.0.0->keplergl) (6.3.2)\n",
            "Collecting jedi>=0.16 (from ipython>=4.0.0->ipywidgets<8,>=7.0.0->keplergl)\n",
            "  Using cached jedi-0.19.1-py2.py3-none-any.whl (1.6 MB)\n",
            "Requirement already satisfied: decorator in /usr/local/lib/python3.10/dist-packages (from ipython>=4.0.0->ipywidgets<8,>=7.0.0->keplergl) (4.4.2)\n",
            "Requirement already satisfied: pickleshare in /usr/local/lib/python3.10/dist-packages (from ipython>=4.0.0->ipywidgets<8,>=7.0.0->keplergl) (0.7.5)\n",
            "Requirement already satisfied: prompt-toolkit!=3.0.0,!=3.0.1,<3.1.0,>=2.0.0 in /usr/local/lib/python3.10/dist-packages (from ipython>=4.0.0->ipywidgets<8,>=7.0.0->keplergl) (3.0.43)\n",
            "Requirement already satisfied: pygments in /usr/local/lib/python3.10/dist-packages (from ipython>=4.0.0->ipywidgets<8,>=7.0.0->keplergl) (2.16.1)\n",
            "Requirement already satisfied: backcall in /usr/local/lib/python3.10/dist-packages (from ipython>=4.0.0->ipywidgets<8,>=7.0.0->keplergl) (0.2.0)\n",
            "Requirement already satisfied: matplotlib-inline in /usr/local/lib/python3.10/dist-packages (from ipython>=4.0.0->ipywidgets<8,>=7.0.0->keplergl) (0.1.6)\n",
            "Requirement already satisfied: pexpect>4.3 in /usr/local/lib/python3.10/dist-packages (from ipython>=4.0.0->ipywidgets<8,>=7.0.0->keplergl) (4.9.0)\n",
            "Requirement already satisfied: notebook>=4.4.1 in /usr/local/lib/python3.10/dist-packages (from widgetsnbextension~=3.6.0->ipywidgets<8,>=7.0.0->keplergl) (6.5.5)\n",
            "Requirement already satisfied: parso<0.9.0,>=0.8.3 in /usr/local/lib/python3.10/dist-packages (from jedi>=0.16->ipython>=4.0.0->ipywidgets<8,>=7.0.0->keplergl) (0.8.3)\n",
            "Requirement already satisfied: jinja2 in /usr/local/lib/python3.10/dist-packages (from notebook>=4.4.1->widgetsnbextension~=3.6.0->ipywidgets<8,>=7.0.0->keplergl) (3.1.3)\n",
            "Requirement already satisfied: pyzmq<25,>=17 in /usr/local/lib/python3.10/dist-packages (from notebook>=4.4.1->widgetsnbextension~=3.6.0->ipywidgets<8,>=7.0.0->keplergl) (23.2.1)\n",
            "Requirement already satisfied: argon2-cffi in /usr/local/lib/python3.10/dist-packages (from notebook>=4.4.1->widgetsnbextension~=3.6.0->ipywidgets<8,>=7.0.0->keplergl) (23.1.0)\n",
            "Requirement already satisfied: jupyter-core>=4.6.1 in /usr/local/lib/python3.10/dist-packages (from notebook>=4.4.1->widgetsnbextension~=3.6.0->ipywidgets<8,>=7.0.0->keplergl) (5.7.1)\n",
            "Requirement already satisfied: nbformat in /usr/local/lib/python3.10/dist-packages (from notebook>=4.4.1->widgetsnbextension~=3.6.0->ipywidgets<8,>=7.0.0->keplergl) (5.9.2)\n",
            "Requirement already satisfied: nbconvert>=5 in /usr/local/lib/python3.10/dist-packages (from notebook>=4.4.1->widgetsnbextension~=3.6.0->ipywidgets<8,>=7.0.0->keplergl) (6.5.4)\n",
            "Requirement already satisfied: nest-asyncio>=1.5 in /usr/local/lib/python3.10/dist-packages (from notebook>=4.4.1->widgetsnbextension~=3.6.0->ipywidgets<8,>=7.0.0->keplergl) (1.6.0)\n",
            "Requirement already satisfied: Send2Trash>=1.8.0 in /usr/local/lib/python3.10/dist-packages (from notebook>=4.4.1->widgetsnbextension~=3.6.0->ipywidgets<8,>=7.0.0->keplergl) (1.8.2)\n",
            "Requirement already satisfied: terminado>=0.8.3 in /usr/local/lib/python3.10/dist-packages (from notebook>=4.4.1->widgetsnbextension~=3.6.0->ipywidgets<8,>=7.0.0->keplergl) (0.18.0)\n",
            "Requirement already satisfied: prometheus-client in /usr/local/lib/python3.10/dist-packages (from notebook>=4.4.1->widgetsnbextension~=3.6.0->ipywidgets<8,>=7.0.0->keplergl) (0.19.0)\n",
            "Requirement already satisfied: nbclassic>=0.4.7 in /usr/local/lib/python3.10/dist-packages (from notebook>=4.4.1->widgetsnbextension~=3.6.0->ipywidgets<8,>=7.0.0->keplergl) (1.0.0)\n",
            "Requirement already satisfied: ptyprocess>=0.5 in /usr/local/lib/python3.10/dist-packages (from pexpect>4.3->ipython>=4.0.0->ipywidgets<8,>=7.0.0->keplergl) (0.7.0)\n",
            "Requirement already satisfied: wcwidth in /usr/local/lib/python3.10/dist-packages (from prompt-toolkit!=3.0.0,!=3.0.1,<3.1.0,>=2.0.0->ipython>=4.0.0->ipywidgets<8,>=7.0.0->keplergl) (0.2.13)\n",
            "Requirement already satisfied: platformdirs>=2.5 in /usr/local/lib/python3.10/dist-packages (from jupyter-core>=4.6.1->notebook>=4.4.1->widgetsnbextension~=3.6.0->ipywidgets<8,>=7.0.0->keplergl) (4.1.0)\n",
            "Requirement already satisfied: jupyter-server>=1.8 in /usr/local/lib/python3.10/dist-packages (from nbclassic>=0.4.7->notebook>=4.4.1->widgetsnbextension~=3.6.0->ipywidgets<8,>=7.0.0->keplergl) (1.24.0)\n",
            "Requirement already satisfied: notebook-shim>=0.2.3 in /usr/local/lib/python3.10/dist-packages (from nbclassic>=0.4.7->notebook>=4.4.1->widgetsnbextension~=3.6.0->ipywidgets<8,>=7.0.0->keplergl) (0.2.3)\n",
            "Requirement already satisfied: lxml in /usr/local/lib/python3.10/dist-packages (from nbconvert>=5->notebook>=4.4.1->widgetsnbextension~=3.6.0->ipywidgets<8,>=7.0.0->keplergl) (4.9.4)\n",
            "Requirement already satisfied: beautifulsoup4 in /usr/local/lib/python3.10/dist-packages (from nbconvert>=5->notebook>=4.4.1->widgetsnbextension~=3.6.0->ipywidgets<8,>=7.0.0->keplergl) (4.11.2)\n",
            "Requirement already satisfied: bleach in /usr/local/lib/python3.10/dist-packages (from nbconvert>=5->notebook>=4.4.1->widgetsnbextension~=3.6.0->ipywidgets<8,>=7.0.0->keplergl) (6.1.0)\n",
            "Requirement already satisfied: defusedxml in /usr/local/lib/python3.10/dist-packages (from nbconvert>=5->notebook>=4.4.1->widgetsnbextension~=3.6.0->ipywidgets<8,>=7.0.0->keplergl) (0.7.1)\n",
            "Requirement already satisfied: entrypoints>=0.2.2 in /usr/local/lib/python3.10/dist-packages (from nbconvert>=5->notebook>=4.4.1->widgetsnbextension~=3.6.0->ipywidgets<8,>=7.0.0->keplergl) (0.4)\n",
            "Requirement already satisfied: jupyterlab-pygments in /usr/local/lib/python3.10/dist-packages (from nbconvert>=5->notebook>=4.4.1->widgetsnbextension~=3.6.0->ipywidgets<8,>=7.0.0->keplergl) (0.3.0)\n",
            "Requirement already satisfied: MarkupSafe>=2.0 in /usr/local/lib/python3.10/dist-packages (from nbconvert>=5->notebook>=4.4.1->widgetsnbextension~=3.6.0->ipywidgets<8,>=7.0.0->keplergl) (2.1.4)\n",
            "Requirement already satisfied: mistune<2,>=0.8.1 in /usr/local/lib/python3.10/dist-packages (from nbconvert>=5->notebook>=4.4.1->widgetsnbextension~=3.6.0->ipywidgets<8,>=7.0.0->keplergl) (0.8.4)\n",
            "Requirement already satisfied: nbclient>=0.5.0 in /usr/local/lib/python3.10/dist-packages (from nbconvert>=5->notebook>=4.4.1->widgetsnbextension~=3.6.0->ipywidgets<8,>=7.0.0->keplergl) (0.9.0)\n",
            "Requirement already satisfied: pandocfilters>=1.4.1 in /usr/local/lib/python3.10/dist-packages (from nbconvert>=5->notebook>=4.4.1->widgetsnbextension~=3.6.0->ipywidgets<8,>=7.0.0->keplergl) (1.5.1)\n",
            "Requirement already satisfied: tinycss2 in /usr/local/lib/python3.10/dist-packages (from nbconvert>=5->notebook>=4.4.1->widgetsnbextension~=3.6.0->ipywidgets<8,>=7.0.0->keplergl) (1.2.1)\n",
            "Requirement already satisfied: fastjsonschema in /usr/local/lib/python3.10/dist-packages (from nbformat->notebook>=4.4.1->widgetsnbextension~=3.6.0->ipywidgets<8,>=7.0.0->keplergl) (2.19.1)\n",
            "Requirement already satisfied: jsonschema>=2.6 in /usr/local/lib/python3.10/dist-packages (from nbformat->notebook>=4.4.1->widgetsnbextension~=3.6.0->ipywidgets<8,>=7.0.0->keplergl) (4.19.2)\n",
            "Requirement already satisfied: argon2-cffi-bindings in /usr/local/lib/python3.10/dist-packages (from argon2-cffi->notebook>=4.4.1->widgetsnbextension~=3.6.0->ipywidgets<8,>=7.0.0->keplergl) (21.2.0)\n",
            "Requirement already satisfied: jsonschema-specifications>=2023.03.6 in /usr/local/lib/python3.10/dist-packages (from jsonschema>=2.6->nbformat->notebook>=4.4.1->widgetsnbextension~=3.6.0->ipywidgets<8,>=7.0.0->keplergl) (2023.12.1)\n",
            "Requirement already satisfied: referencing>=0.28.4 in /usr/local/lib/python3.10/dist-packages (from jsonschema>=2.6->nbformat->notebook>=4.4.1->widgetsnbextension~=3.6.0->ipywidgets<8,>=7.0.0->keplergl) (0.32.1)\n",
            "Requirement already satisfied: rpds-py>=0.7.1 in /usr/local/lib/python3.10/dist-packages (from jsonschema>=2.6->nbformat->notebook>=4.4.1->widgetsnbextension~=3.6.0->ipywidgets<8,>=7.0.0->keplergl) (0.17.1)\n",
            "Requirement already satisfied: anyio<4,>=3.1.0 in /usr/local/lib/python3.10/dist-packages (from jupyter-server>=1.8->nbclassic>=0.4.7->notebook>=4.4.1->widgetsnbextension~=3.6.0->ipywidgets<8,>=7.0.0->keplergl) (3.7.1)\n",
            "Requirement already satisfied: websocket-client in /usr/local/lib/python3.10/dist-packages (from jupyter-server>=1.8->nbclassic>=0.4.7->notebook>=4.4.1->widgetsnbextension~=3.6.0->ipywidgets<8,>=7.0.0->keplergl) (1.7.0)\n",
            "Requirement already satisfied: cffi>=1.0.1 in /usr/local/lib/python3.10/dist-packages (from argon2-cffi-bindings->argon2-cffi->notebook>=4.4.1->widgetsnbextension~=3.6.0->ipywidgets<8,>=7.0.0->keplergl) (1.16.0)\n",
            "Requirement already satisfied: soupsieve>1.2 in /usr/local/lib/python3.10/dist-packages (from beautifulsoup4->nbconvert>=5->notebook>=4.4.1->widgetsnbextension~=3.6.0->ipywidgets<8,>=7.0.0->keplergl) (2.5)\n",
            "Requirement already satisfied: webencodings in /usr/local/lib/python3.10/dist-packages (from bleach->nbconvert>=5->notebook>=4.4.1->widgetsnbextension~=3.6.0->ipywidgets<8,>=7.0.0->keplergl) (0.5.1)\n",
            "Requirement already satisfied: idna>=2.8 in /usr/local/lib/python3.10/dist-packages (from anyio<4,>=3.1.0->jupyter-server>=1.8->nbclassic>=0.4.7->notebook>=4.4.1->widgetsnbextension~=3.6.0->ipywidgets<8,>=7.0.0->keplergl) (3.6)\n",
            "Requirement already satisfied: sniffio>=1.1 in /usr/local/lib/python3.10/dist-packages (from anyio<4,>=3.1.0->jupyter-server>=1.8->nbclassic>=0.4.7->notebook>=4.4.1->widgetsnbextension~=3.6.0->ipywidgets<8,>=7.0.0->keplergl) (1.3.0)\n",
            "Requirement already satisfied: exceptiongroup in /usr/local/lib/python3.10/dist-packages (from anyio<4,>=3.1.0->jupyter-server>=1.8->nbclassic>=0.4.7->notebook>=4.4.1->widgetsnbextension~=3.6.0->ipywidgets<8,>=7.0.0->keplergl) (1.2.0)\n",
            "Requirement already satisfied: pycparser in /usr/local/lib/python3.10/dist-packages (from cffi>=1.0.1->argon2-cffi-bindings->argon2-cffi->notebook>=4.4.1->widgetsnbextension~=3.6.0->ipywidgets<8,>=7.0.0->keplergl) (2.21)\n",
            "Building wheels for collected packages: keplergl\n",
            "  Building wheel for keplergl (pyproject.toml) ... \u001b[?25l\u001b[?25hdone\n",
            "  Created wheel for keplergl: filename=keplergl-0.3.2-py2.py3-none-any.whl size=17922315 sha256=4134ec25a1f3540205fea84b5869f7e9b831f016381ad953a62543a4ccc89223\n",
            "  Stored in directory: /root/.cache/pip/wheels/e5/e9/db/b8b8f2fcb5cb1cd7268d88959fce267bc00697cb8f50dcd0d9\n",
            "Successfully built keplergl\n",
            "Installing collected packages: jedi, keplergl\n",
            "Successfully installed jedi-0.19.1 keplergl-0.3.2\n"
          ]
        }
      ],
      "source": [
        "!pip install keplergl\n",
        "from keplergl import KeplerGl\n",
        "# Uncomment the following line if you are using Google Colab\n",
        "from google.colab import output\n",
        "output.enable_custom_widget_manager()"
      ]
    },
    {
      "cell_type": "code",
      "execution_count": 8,
      "metadata": {
        "colab": {
          "base_uri": "https://localhost:8080/",
          "height": 424
        },
        "id": "VokB3aOCFs2L",
        "outputId": "5fb65606-f274-48e7-e81f-409b6c6d5173"
      },
      "outputs": [
        {
          "output_type": "execute_result",
          "data": {
            "text/plain": [
              "      dest lat  dest lon\n",
              "9161    35.625    51.250\n",
              "9162    35.950    51.280\n",
              "9163    35.820    51.225\n",
              "9164    35.950    51.280\n",
              "9165    35.625    51.250\n",
              "...        ...       ...\n",
              "9349    35.625    51.250\n",
              "9350    35.650    51.260\n",
              "9351    35.950    51.280\n",
              "9352    35.875    51.275\n",
              "9353    35.950    51.280\n",
              "\n",
              "[193 rows x 2 columns]"
            ],
            "text/html": [
              "\n",
              "  <div id=\"df-5907f81d-ee81-43ab-8976-795c383f74a2\" class=\"colab-df-container\">\n",
              "    <div>\n",
              "<style scoped>\n",
              "    .dataframe tbody tr th:only-of-type {\n",
              "        vertical-align: middle;\n",
              "    }\n",
              "\n",
              "    .dataframe tbody tr th {\n",
              "        vertical-align: top;\n",
              "    }\n",
              "\n",
              "    .dataframe thead th {\n",
              "        text-align: right;\n",
              "    }\n",
              "</style>\n",
              "<table border=\"1\" class=\"dataframe\">\n",
              "  <thead>\n",
              "    <tr style=\"text-align: right;\">\n",
              "      <th></th>\n",
              "      <th>dest lat</th>\n",
              "      <th>dest lon</th>\n",
              "    </tr>\n",
              "  </thead>\n",
              "  <tbody>\n",
              "    <tr>\n",
              "      <th>9161</th>\n",
              "      <td>35.625</td>\n",
              "      <td>51.250</td>\n",
              "    </tr>\n",
              "    <tr>\n",
              "      <th>9162</th>\n",
              "      <td>35.950</td>\n",
              "      <td>51.280</td>\n",
              "    </tr>\n",
              "    <tr>\n",
              "      <th>9163</th>\n",
              "      <td>35.820</td>\n",
              "      <td>51.225</td>\n",
              "    </tr>\n",
              "    <tr>\n",
              "      <th>9164</th>\n",
              "      <td>35.950</td>\n",
              "      <td>51.280</td>\n",
              "    </tr>\n",
              "    <tr>\n",
              "      <th>9165</th>\n",
              "      <td>35.625</td>\n",
              "      <td>51.250</td>\n",
              "    </tr>\n",
              "    <tr>\n",
              "      <th>...</th>\n",
              "      <td>...</td>\n",
              "      <td>...</td>\n",
              "    </tr>\n",
              "    <tr>\n",
              "      <th>9349</th>\n",
              "      <td>35.625</td>\n",
              "      <td>51.250</td>\n",
              "    </tr>\n",
              "    <tr>\n",
              "      <th>9350</th>\n",
              "      <td>35.650</td>\n",
              "      <td>51.260</td>\n",
              "    </tr>\n",
              "    <tr>\n",
              "      <th>9351</th>\n",
              "      <td>35.950</td>\n",
              "      <td>51.280</td>\n",
              "    </tr>\n",
              "    <tr>\n",
              "      <th>9352</th>\n",
              "      <td>35.875</td>\n",
              "      <td>51.275</td>\n",
              "    </tr>\n",
              "    <tr>\n",
              "      <th>9353</th>\n",
              "      <td>35.950</td>\n",
              "      <td>51.280</td>\n",
              "    </tr>\n",
              "  </tbody>\n",
              "</table>\n",
              "<p>193 rows × 2 columns</p>\n",
              "</div>\n",
              "    <div class=\"colab-df-buttons\">\n",
              "\n",
              "  <div class=\"colab-df-container\">\n",
              "    <button class=\"colab-df-convert\" onclick=\"convertToInteractive('df-5907f81d-ee81-43ab-8976-795c383f74a2')\"\n",
              "            title=\"Convert this dataframe to an interactive table.\"\n",
              "            style=\"display:none;\">\n",
              "\n",
              "  <svg xmlns=\"http://www.w3.org/2000/svg\" height=\"24px\" viewBox=\"0 -960 960 960\">\n",
              "    <path d=\"M120-120v-720h720v720H120Zm60-500h600v-160H180v160Zm220 220h160v-160H400v160Zm0 220h160v-160H400v160ZM180-400h160v-160H180v160Zm440 0h160v-160H620v160ZM180-180h160v-160H180v160Zm440 0h160v-160H620v160Z\"/>\n",
              "  </svg>\n",
              "    </button>\n",
              "\n",
              "  <style>\n",
              "    .colab-df-container {\n",
              "      display:flex;\n",
              "      gap: 12px;\n",
              "    }\n",
              "\n",
              "    .colab-df-convert {\n",
              "      background-color: #E8F0FE;\n",
              "      border: none;\n",
              "      border-radius: 50%;\n",
              "      cursor: pointer;\n",
              "      display: none;\n",
              "      fill: #1967D2;\n",
              "      height: 32px;\n",
              "      padding: 0 0 0 0;\n",
              "      width: 32px;\n",
              "    }\n",
              "\n",
              "    .colab-df-convert:hover {\n",
              "      background-color: #E2EBFA;\n",
              "      box-shadow: 0px 1px 2px rgba(60, 64, 67, 0.3), 0px 1px 3px 1px rgba(60, 64, 67, 0.15);\n",
              "      fill: #174EA6;\n",
              "    }\n",
              "\n",
              "    .colab-df-buttons div {\n",
              "      margin-bottom: 4px;\n",
              "    }\n",
              "\n",
              "    [theme=dark] .colab-df-convert {\n",
              "      background-color: #3B4455;\n",
              "      fill: #D2E3FC;\n",
              "    }\n",
              "\n",
              "    [theme=dark] .colab-df-convert:hover {\n",
              "      background-color: #434B5C;\n",
              "      box-shadow: 0px 1px 3px 1px rgba(0, 0, 0, 0.15);\n",
              "      filter: drop-shadow(0px 1px 2px rgba(0, 0, 0, 0.3));\n",
              "      fill: #FFFFFF;\n",
              "    }\n",
              "  </style>\n",
              "\n",
              "    <script>\n",
              "      const buttonEl =\n",
              "        document.querySelector('#df-5907f81d-ee81-43ab-8976-795c383f74a2 button.colab-df-convert');\n",
              "      buttonEl.style.display =\n",
              "        google.colab.kernel.accessAllowed ? 'block' : 'none';\n",
              "\n",
              "      async function convertToInteractive(key) {\n",
              "        const element = document.querySelector('#df-5907f81d-ee81-43ab-8976-795c383f74a2');\n",
              "        const dataTable =\n",
              "          await google.colab.kernel.invokeFunction('convertToInteractive',\n",
              "                                                    [key], {});\n",
              "        if (!dataTable) return;\n",
              "\n",
              "        const docLinkHtml = 'Like what you see? Visit the ' +\n",
              "          '<a target=\"_blank\" href=https://colab.research.google.com/notebooks/data_table.ipynb>data table notebook</a>'\n",
              "          + ' to learn more about interactive tables.';\n",
              "        element.innerHTML = '';\n",
              "        dataTable['output_type'] = 'display_data';\n",
              "        await google.colab.output.renderOutput(dataTable, element);\n",
              "        const docLink = document.createElement('div');\n",
              "        docLink.innerHTML = docLinkHtml;\n",
              "        element.appendChild(docLink);\n",
              "      }\n",
              "    </script>\n",
              "  </div>\n",
              "\n",
              "\n",
              "<div id=\"df-283ec03f-424b-47c6-90b2-cd8eb7e94ee7\">\n",
              "  <button class=\"colab-df-quickchart\" onclick=\"quickchart('df-283ec03f-424b-47c6-90b2-cd8eb7e94ee7')\"\n",
              "            title=\"Suggest charts\"\n",
              "            style=\"display:none;\">\n",
              "\n",
              "<svg xmlns=\"http://www.w3.org/2000/svg\" height=\"24px\"viewBox=\"0 0 24 24\"\n",
              "     width=\"24px\">\n",
              "    <g>\n",
              "        <path d=\"M19 3H5c-1.1 0-2 .9-2 2v14c0 1.1.9 2 2 2h14c1.1 0 2-.9 2-2V5c0-1.1-.9-2-2-2zM9 17H7v-7h2v7zm4 0h-2V7h2v10zm4 0h-2v-4h2v4z\"/>\n",
              "    </g>\n",
              "</svg>\n",
              "  </button>\n",
              "\n",
              "<style>\n",
              "  .colab-df-quickchart {\n",
              "      --bg-color: #E8F0FE;\n",
              "      --fill-color: #1967D2;\n",
              "      --hover-bg-color: #E2EBFA;\n",
              "      --hover-fill-color: #174EA6;\n",
              "      --disabled-fill-color: #AAA;\n",
              "      --disabled-bg-color: #DDD;\n",
              "  }\n",
              "\n",
              "  [theme=dark] .colab-df-quickchart {\n",
              "      --bg-color: #3B4455;\n",
              "      --fill-color: #D2E3FC;\n",
              "      --hover-bg-color: #434B5C;\n",
              "      --hover-fill-color: #FFFFFF;\n",
              "      --disabled-bg-color: #3B4455;\n",
              "      --disabled-fill-color: #666;\n",
              "  }\n",
              "\n",
              "  .colab-df-quickchart {\n",
              "    background-color: var(--bg-color);\n",
              "    border: none;\n",
              "    border-radius: 50%;\n",
              "    cursor: pointer;\n",
              "    display: none;\n",
              "    fill: var(--fill-color);\n",
              "    height: 32px;\n",
              "    padding: 0;\n",
              "    width: 32px;\n",
              "  }\n",
              "\n",
              "  .colab-df-quickchart:hover {\n",
              "    background-color: var(--hover-bg-color);\n",
              "    box-shadow: 0 1px 2px rgba(60, 64, 67, 0.3), 0 1px 3px 1px rgba(60, 64, 67, 0.15);\n",
              "    fill: var(--button-hover-fill-color);\n",
              "  }\n",
              "\n",
              "  .colab-df-quickchart-complete:disabled,\n",
              "  .colab-df-quickchart-complete:disabled:hover {\n",
              "    background-color: var(--disabled-bg-color);\n",
              "    fill: var(--disabled-fill-color);\n",
              "    box-shadow: none;\n",
              "  }\n",
              "\n",
              "  .colab-df-spinner {\n",
              "    border: 2px solid var(--fill-color);\n",
              "    border-color: transparent;\n",
              "    border-bottom-color: var(--fill-color);\n",
              "    animation:\n",
              "      spin 1s steps(1) infinite;\n",
              "  }\n",
              "\n",
              "  @keyframes spin {\n",
              "    0% {\n",
              "      border-color: transparent;\n",
              "      border-bottom-color: var(--fill-color);\n",
              "      border-left-color: var(--fill-color);\n",
              "    }\n",
              "    20% {\n",
              "      border-color: transparent;\n",
              "      border-left-color: var(--fill-color);\n",
              "      border-top-color: var(--fill-color);\n",
              "    }\n",
              "    30% {\n",
              "      border-color: transparent;\n",
              "      border-left-color: var(--fill-color);\n",
              "      border-top-color: var(--fill-color);\n",
              "      border-right-color: var(--fill-color);\n",
              "    }\n",
              "    40% {\n",
              "      border-color: transparent;\n",
              "      border-right-color: var(--fill-color);\n",
              "      border-top-color: var(--fill-color);\n",
              "    }\n",
              "    60% {\n",
              "      border-color: transparent;\n",
              "      border-right-color: var(--fill-color);\n",
              "    }\n",
              "    80% {\n",
              "      border-color: transparent;\n",
              "      border-right-color: var(--fill-color);\n",
              "      border-bottom-color: var(--fill-color);\n",
              "    }\n",
              "    90% {\n",
              "      border-color: transparent;\n",
              "      border-bottom-color: var(--fill-color);\n",
              "    }\n",
              "  }\n",
              "</style>\n",
              "\n",
              "  <script>\n",
              "    async function quickchart(key) {\n",
              "      const quickchartButtonEl =\n",
              "        document.querySelector('#' + key + ' button');\n",
              "      quickchartButtonEl.disabled = true;  // To prevent multiple clicks.\n",
              "      quickchartButtonEl.classList.add('colab-df-spinner');\n",
              "      try {\n",
              "        const charts = await google.colab.kernel.invokeFunction(\n",
              "            'suggestCharts', [key], {});\n",
              "      } catch (error) {\n",
              "        console.error('Error during call to suggestCharts:', error);\n",
              "      }\n",
              "      quickchartButtonEl.classList.remove('colab-df-spinner');\n",
              "      quickchartButtonEl.classList.add('colab-df-quickchart-complete');\n",
              "    }\n",
              "    (() => {\n",
              "      let quickchartButtonEl =\n",
              "        document.querySelector('#df-283ec03f-424b-47c6-90b2-cd8eb7e94ee7 button');\n",
              "      quickchartButtonEl.style.display =\n",
              "        google.colab.kernel.accessAllowed ? 'block' : 'none';\n",
              "    })();\n",
              "  </script>\n",
              "</div>\n",
              "    </div>\n",
              "  </div>\n"
            ]
          },
          "metadata": {},
          "execution_count": 8
        }
      ],
      "source": [
        "# choose the data related to the randomly selected user\n",
        "# show destinations of this user on map\n",
        "# You should Use Kepler.gl to visualize the data\n",
        "\n",
        "# TODO\n",
        "sample_user_id = 31\n",
        "user_df = df[df['user_id']==sample_user_id]\n",
        "user_df_dests = user_df[['dest lat', 'dest lon']]\n",
        "user_df_dests"
      ]
    },
    {
      "cell_type": "code",
      "execution_count": 9,
      "metadata": {
        "colab": {
          "base_uri": "https://localhost:8080/",
          "height": 421,
          "referenced_widgets": [
            "88d34b6c57994346ba0f026e61b27806",
            "0bf076abcd44460780bd2bc83d129f31"
          ]
        },
        "id": "JNf4xv8fFs2L",
        "outputId": "b3ca5d1c-85ef-41fc-9803-b73ba33fe46f"
      },
      "outputs": [
        {
          "output_type": "stream",
          "name": "stdout",
          "text": [
            "User Guide: https://docs.kepler.gl/docs/keplergl-jupyter\n"
          ]
        },
        {
          "output_type": "display_data",
          "data": {
            "text/plain": [
              "KeplerGl(data={'my_data': {'index': [9161, 9162, 9163, 9164, 9165, 9166, 9167, 9168, 9169, 9170, 9171, 9172, 9…"
            ],
            "application/vnd.jupyter.widget-view+json": {
              "version_major": 2,
              "version_minor": 0,
              "model_id": "88d34b6c57994346ba0f026e61b27806"
            }
          },
          "metadata": {
            "application/vnd.jupyter.widget-view+json": {
              "colab": {
                "custom_widget_manager": {
                  "url": "https://ssl.gstatic.com/colaboratory-static/widgets/colab-cdn-widget-manager/2b70e893a8ba7c0f/manager.min.js"
                }
              }
            }
          }
        }
      ],
      "source": [
        "# Sample output:\n",
        "map_1 = KeplerGl()\n",
        "\n",
        "# Add data to the map\n",
        "\n",
        "map_1.add_data(data=user_df_dests, name='my_data')\n",
        "\n",
        "# Visualize the map (opens in a new browser window)\n",
        "map_1"
      ]
    },
    {
      "cell_type": "markdown",
      "metadata": {
        "id": "lfxfsavZFs2L"
      },
      "source": [
        "Here, you should do feature engineering stuff! Extract the features that you think are important. Split the features into training set and also extract the related outputs (used for our model further). These outputs may be strings (name of destination) or destination's latitude/longitude or etc. Use your creativity!"
      ]
    },
    {
      "cell_type": "code",
      "execution_count": 10,
      "metadata": {
        "colab": {
          "base_uri": "https://localhost:8080/",
          "height": 424
        },
        "id": "a3t0-RGQFs2L",
        "outputId": "68b2833e-0154-48ea-df48-c1afc1126b2d"
      },
      "outputs": [
        {
          "output_type": "execute_result",
          "data": {
            "text/plain": [
              "       user_id  Day  origin lat  origin lon  dest lat  dest lon\n",
              "0            0    0      35.625      51.375    36.000    51.085\n",
              "1            0    0      36.000      51.085    35.625    51.375\n",
              "2            0    0      35.680      51.445    35.745    51.465\n",
              "3            0    0      35.745      51.465    35.680    51.445\n",
              "4            0    1      35.625      51.375    35.680    51.445\n",
              "...        ...  ...         ...         ...       ...       ...\n",
              "17989       59    0      35.950      51.225    35.875    51.125\n",
              "17990       59    0      35.875      51.125    35.690    51.295\n",
              "17991       59    0      35.875      51.125    35.525    51.100\n",
              "17992       59    0      35.525      51.100    35.815    51.320\n",
              "17993       59    0      35.815      51.320    35.950    51.225\n",
              "\n",
              "[17994 rows x 6 columns]"
            ],
            "text/html": [
              "\n",
              "  <div id=\"df-7d3de7e4-2f2c-4a5a-ab10-f995df50d862\" class=\"colab-df-container\">\n",
              "    <div>\n",
              "<style scoped>\n",
              "    .dataframe tbody tr th:only-of-type {\n",
              "        vertical-align: middle;\n",
              "    }\n",
              "\n",
              "    .dataframe tbody tr th {\n",
              "        vertical-align: top;\n",
              "    }\n",
              "\n",
              "    .dataframe thead th {\n",
              "        text-align: right;\n",
              "    }\n",
              "</style>\n",
              "<table border=\"1\" class=\"dataframe\">\n",
              "  <thead>\n",
              "    <tr style=\"text-align: right;\">\n",
              "      <th></th>\n",
              "      <th>user_id</th>\n",
              "      <th>Day</th>\n",
              "      <th>origin lat</th>\n",
              "      <th>origin lon</th>\n",
              "      <th>dest lat</th>\n",
              "      <th>dest lon</th>\n",
              "    </tr>\n",
              "  </thead>\n",
              "  <tbody>\n",
              "    <tr>\n",
              "      <th>0</th>\n",
              "      <td>0</td>\n",
              "      <td>0</td>\n",
              "      <td>35.625</td>\n",
              "      <td>51.375</td>\n",
              "      <td>36.000</td>\n",
              "      <td>51.085</td>\n",
              "    </tr>\n",
              "    <tr>\n",
              "      <th>1</th>\n",
              "      <td>0</td>\n",
              "      <td>0</td>\n",
              "      <td>36.000</td>\n",
              "      <td>51.085</td>\n",
              "      <td>35.625</td>\n",
              "      <td>51.375</td>\n",
              "    </tr>\n",
              "    <tr>\n",
              "      <th>2</th>\n",
              "      <td>0</td>\n",
              "      <td>0</td>\n",
              "      <td>35.680</td>\n",
              "      <td>51.445</td>\n",
              "      <td>35.745</td>\n",
              "      <td>51.465</td>\n",
              "    </tr>\n",
              "    <tr>\n",
              "      <th>3</th>\n",
              "      <td>0</td>\n",
              "      <td>0</td>\n",
              "      <td>35.745</td>\n",
              "      <td>51.465</td>\n",
              "      <td>35.680</td>\n",
              "      <td>51.445</td>\n",
              "    </tr>\n",
              "    <tr>\n",
              "      <th>4</th>\n",
              "      <td>0</td>\n",
              "      <td>1</td>\n",
              "      <td>35.625</td>\n",
              "      <td>51.375</td>\n",
              "      <td>35.680</td>\n",
              "      <td>51.445</td>\n",
              "    </tr>\n",
              "    <tr>\n",
              "      <th>...</th>\n",
              "      <td>...</td>\n",
              "      <td>...</td>\n",
              "      <td>...</td>\n",
              "      <td>...</td>\n",
              "      <td>...</td>\n",
              "      <td>...</td>\n",
              "    </tr>\n",
              "    <tr>\n",
              "      <th>17989</th>\n",
              "      <td>59</td>\n",
              "      <td>0</td>\n",
              "      <td>35.950</td>\n",
              "      <td>51.225</td>\n",
              "      <td>35.875</td>\n",
              "      <td>51.125</td>\n",
              "    </tr>\n",
              "    <tr>\n",
              "      <th>17990</th>\n",
              "      <td>59</td>\n",
              "      <td>0</td>\n",
              "      <td>35.875</td>\n",
              "      <td>51.125</td>\n",
              "      <td>35.690</td>\n",
              "      <td>51.295</td>\n",
              "    </tr>\n",
              "    <tr>\n",
              "      <th>17991</th>\n",
              "      <td>59</td>\n",
              "      <td>0</td>\n",
              "      <td>35.875</td>\n",
              "      <td>51.125</td>\n",
              "      <td>35.525</td>\n",
              "      <td>51.100</td>\n",
              "    </tr>\n",
              "    <tr>\n",
              "      <th>17992</th>\n",
              "      <td>59</td>\n",
              "      <td>0</td>\n",
              "      <td>35.525</td>\n",
              "      <td>51.100</td>\n",
              "      <td>35.815</td>\n",
              "      <td>51.320</td>\n",
              "    </tr>\n",
              "    <tr>\n",
              "      <th>17993</th>\n",
              "      <td>59</td>\n",
              "      <td>0</td>\n",
              "      <td>35.815</td>\n",
              "      <td>51.320</td>\n",
              "      <td>35.950</td>\n",
              "      <td>51.225</td>\n",
              "    </tr>\n",
              "  </tbody>\n",
              "</table>\n",
              "<p>17994 rows × 6 columns</p>\n",
              "</div>\n",
              "    <div class=\"colab-df-buttons\">\n",
              "\n",
              "  <div class=\"colab-df-container\">\n",
              "    <button class=\"colab-df-convert\" onclick=\"convertToInteractive('df-7d3de7e4-2f2c-4a5a-ab10-f995df50d862')\"\n",
              "            title=\"Convert this dataframe to an interactive table.\"\n",
              "            style=\"display:none;\">\n",
              "\n",
              "  <svg xmlns=\"http://www.w3.org/2000/svg\" height=\"24px\" viewBox=\"0 -960 960 960\">\n",
              "    <path d=\"M120-120v-720h720v720H120Zm60-500h600v-160H180v160Zm220 220h160v-160H400v160Zm0 220h160v-160H400v160ZM180-400h160v-160H180v160Zm440 0h160v-160H620v160ZM180-180h160v-160H180v160Zm440 0h160v-160H620v160Z\"/>\n",
              "  </svg>\n",
              "    </button>\n",
              "\n",
              "  <style>\n",
              "    .colab-df-container {\n",
              "      display:flex;\n",
              "      gap: 12px;\n",
              "    }\n",
              "\n",
              "    .colab-df-convert {\n",
              "      background-color: #E8F0FE;\n",
              "      border: none;\n",
              "      border-radius: 50%;\n",
              "      cursor: pointer;\n",
              "      display: none;\n",
              "      fill: #1967D2;\n",
              "      height: 32px;\n",
              "      padding: 0 0 0 0;\n",
              "      width: 32px;\n",
              "    }\n",
              "\n",
              "    .colab-df-convert:hover {\n",
              "      background-color: #E2EBFA;\n",
              "      box-shadow: 0px 1px 2px rgba(60, 64, 67, 0.3), 0px 1px 3px 1px rgba(60, 64, 67, 0.15);\n",
              "      fill: #174EA6;\n",
              "    }\n",
              "\n",
              "    .colab-df-buttons div {\n",
              "      margin-bottom: 4px;\n",
              "    }\n",
              "\n",
              "    [theme=dark] .colab-df-convert {\n",
              "      background-color: #3B4455;\n",
              "      fill: #D2E3FC;\n",
              "    }\n",
              "\n",
              "    [theme=dark] .colab-df-convert:hover {\n",
              "      background-color: #434B5C;\n",
              "      box-shadow: 0px 1px 3px 1px rgba(0, 0, 0, 0.15);\n",
              "      filter: drop-shadow(0px 1px 2px rgba(0, 0, 0, 0.3));\n",
              "      fill: #FFFFFF;\n",
              "    }\n",
              "  </style>\n",
              "\n",
              "    <script>\n",
              "      const buttonEl =\n",
              "        document.querySelector('#df-7d3de7e4-2f2c-4a5a-ab10-f995df50d862 button.colab-df-convert');\n",
              "      buttonEl.style.display =\n",
              "        google.colab.kernel.accessAllowed ? 'block' : 'none';\n",
              "\n",
              "      async function convertToInteractive(key) {\n",
              "        const element = document.querySelector('#df-7d3de7e4-2f2c-4a5a-ab10-f995df50d862');\n",
              "        const dataTable =\n",
              "          await google.colab.kernel.invokeFunction('convertToInteractive',\n",
              "                                                    [key], {});\n",
              "        if (!dataTable) return;\n",
              "\n",
              "        const docLinkHtml = 'Like what you see? Visit the ' +\n",
              "          '<a target=\"_blank\" href=https://colab.research.google.com/notebooks/data_table.ipynb>data table notebook</a>'\n",
              "          + ' to learn more about interactive tables.';\n",
              "        element.innerHTML = '';\n",
              "        dataTable['output_type'] = 'display_data';\n",
              "        await google.colab.output.renderOutput(dataTable, element);\n",
              "        const docLink = document.createElement('div');\n",
              "        docLink.innerHTML = docLinkHtml;\n",
              "        element.appendChild(docLink);\n",
              "      }\n",
              "    </script>\n",
              "  </div>\n",
              "\n",
              "\n",
              "<div id=\"df-15038550-8c77-431e-9a95-eedff1d2d753\">\n",
              "  <button class=\"colab-df-quickchart\" onclick=\"quickchart('df-15038550-8c77-431e-9a95-eedff1d2d753')\"\n",
              "            title=\"Suggest charts\"\n",
              "            style=\"display:none;\">\n",
              "\n",
              "<svg xmlns=\"http://www.w3.org/2000/svg\" height=\"24px\"viewBox=\"0 0 24 24\"\n",
              "     width=\"24px\">\n",
              "    <g>\n",
              "        <path d=\"M19 3H5c-1.1 0-2 .9-2 2v14c0 1.1.9 2 2 2h14c1.1 0 2-.9 2-2V5c0-1.1-.9-2-2-2zM9 17H7v-7h2v7zm4 0h-2V7h2v10zm4 0h-2v-4h2v4z\"/>\n",
              "    </g>\n",
              "</svg>\n",
              "  </button>\n",
              "\n",
              "<style>\n",
              "  .colab-df-quickchart {\n",
              "      --bg-color: #E8F0FE;\n",
              "      --fill-color: #1967D2;\n",
              "      --hover-bg-color: #E2EBFA;\n",
              "      --hover-fill-color: #174EA6;\n",
              "      --disabled-fill-color: #AAA;\n",
              "      --disabled-bg-color: #DDD;\n",
              "  }\n",
              "\n",
              "  [theme=dark] .colab-df-quickchart {\n",
              "      --bg-color: #3B4455;\n",
              "      --fill-color: #D2E3FC;\n",
              "      --hover-bg-color: #434B5C;\n",
              "      --hover-fill-color: #FFFFFF;\n",
              "      --disabled-bg-color: #3B4455;\n",
              "      --disabled-fill-color: #666;\n",
              "  }\n",
              "\n",
              "  .colab-df-quickchart {\n",
              "    background-color: var(--bg-color);\n",
              "    border: none;\n",
              "    border-radius: 50%;\n",
              "    cursor: pointer;\n",
              "    display: none;\n",
              "    fill: var(--fill-color);\n",
              "    height: 32px;\n",
              "    padding: 0;\n",
              "    width: 32px;\n",
              "  }\n",
              "\n",
              "  .colab-df-quickchart:hover {\n",
              "    background-color: var(--hover-bg-color);\n",
              "    box-shadow: 0 1px 2px rgba(60, 64, 67, 0.3), 0 1px 3px 1px rgba(60, 64, 67, 0.15);\n",
              "    fill: var(--button-hover-fill-color);\n",
              "  }\n",
              "\n",
              "  .colab-df-quickchart-complete:disabled,\n",
              "  .colab-df-quickchart-complete:disabled:hover {\n",
              "    background-color: var(--disabled-bg-color);\n",
              "    fill: var(--disabled-fill-color);\n",
              "    box-shadow: none;\n",
              "  }\n",
              "\n",
              "  .colab-df-spinner {\n",
              "    border: 2px solid var(--fill-color);\n",
              "    border-color: transparent;\n",
              "    border-bottom-color: var(--fill-color);\n",
              "    animation:\n",
              "      spin 1s steps(1) infinite;\n",
              "  }\n",
              "\n",
              "  @keyframes spin {\n",
              "    0% {\n",
              "      border-color: transparent;\n",
              "      border-bottom-color: var(--fill-color);\n",
              "      border-left-color: var(--fill-color);\n",
              "    }\n",
              "    20% {\n",
              "      border-color: transparent;\n",
              "      border-left-color: var(--fill-color);\n",
              "      border-top-color: var(--fill-color);\n",
              "    }\n",
              "    30% {\n",
              "      border-color: transparent;\n",
              "      border-left-color: var(--fill-color);\n",
              "      border-top-color: var(--fill-color);\n",
              "      border-right-color: var(--fill-color);\n",
              "    }\n",
              "    40% {\n",
              "      border-color: transparent;\n",
              "      border-right-color: var(--fill-color);\n",
              "      border-top-color: var(--fill-color);\n",
              "    }\n",
              "    60% {\n",
              "      border-color: transparent;\n",
              "      border-right-color: var(--fill-color);\n",
              "    }\n",
              "    80% {\n",
              "      border-color: transparent;\n",
              "      border-right-color: var(--fill-color);\n",
              "      border-bottom-color: var(--fill-color);\n",
              "    }\n",
              "    90% {\n",
              "      border-color: transparent;\n",
              "      border-bottom-color: var(--fill-color);\n",
              "    }\n",
              "  }\n",
              "</style>\n",
              "\n",
              "  <script>\n",
              "    async function quickchart(key) {\n",
              "      const quickchartButtonEl =\n",
              "        document.querySelector('#' + key + ' button');\n",
              "      quickchartButtonEl.disabled = true;  // To prevent multiple clicks.\n",
              "      quickchartButtonEl.classList.add('colab-df-spinner');\n",
              "      try {\n",
              "        const charts = await google.colab.kernel.invokeFunction(\n",
              "            'suggestCharts', [key], {});\n",
              "      } catch (error) {\n",
              "        console.error('Error during call to suggestCharts:', error);\n",
              "      }\n",
              "      quickchartButtonEl.classList.remove('colab-df-spinner');\n",
              "      quickchartButtonEl.classList.add('colab-df-quickchart-complete');\n",
              "    }\n",
              "    (() => {\n",
              "      let quickchartButtonEl =\n",
              "        document.querySelector('#df-15038550-8c77-431e-9a95-eedff1d2d753 button');\n",
              "      quickchartButtonEl.style.display =\n",
              "        google.colab.kernel.accessAllowed ? 'block' : 'none';\n",
              "    })();\n",
              "  </script>\n",
              "</div>\n",
              "    </div>\n",
              "  </div>\n"
            ]
          },
          "metadata": {},
          "execution_count": 10
        }
      ],
      "source": [
        "# TODO\n",
        "# import pandas as pd\n",
        "\n",
        "# unique_combinations_labels = {}\n",
        "# for i, (value1, value2) in enumerate(df[['dest lat', 'dest lon']].itertuples(index=False)):\n",
        "#     if (value1, value2) not in unique_combinations_labels:\n",
        "#       label = f'Label_{i + 1}'\n",
        "#       unique_combinations_labels[(value1, value2)] = label\n",
        "\n",
        "# df['dest_label'] = df.apply(lambda row: unique_combinations_labels.get((row['dest lat'], row['dest lon'])), axis=1)\n",
        "\n",
        "# df.head()\n",
        "def overfit_prep(df):\n",
        "  df_pre = df.copy()\n",
        "  df_pre['min'] = df_pre['start_time'].dt.minute\n",
        "  df_pre['start_time'] = df_pre['start_time'] + pd.to_timedelta(30, unit='T')\n",
        "  df_pre['hour'] = df_pre['start_time'].dt.hour\n",
        "  df_pre = df.drop(['price', 'start_time'], axis = 1)\n",
        "  return df_pre\n",
        "\n",
        "def prep(df):\n",
        "  df_pre = df.copy()\n",
        "  df_pre['start_time'] = df_pre['start_time'] + pd.to_timedelta(30, unit='T')\n",
        "  df_pre['hour'] = df_pre['start_time'].dt.hour\n",
        "  df_pre = df.drop(['price', 'end_time', 'start_time'], axis = 1)\n",
        "  return df_pre\n",
        "\n",
        "df_train_pre = prep(df)\n",
        "df_test_pre = prep(df_test)\n",
        "\n",
        "df_train_pre"
      ]
    },
    {
      "cell_type": "code",
      "execution_count": 11,
      "metadata": {
        "id": "elcRyGZwFs2L",
        "outputId": "c58d7d10-d99d-4553-b4ad-8a81739a1cfb",
        "colab": {
          "base_uri": "https://localhost:8080/"
        }
      },
      "outputs": [
        {
          "output_type": "stream",
          "name": "stdout",
          "text": [
            "(17994, 4) (17994, 2)\n",
            "(4499, 4) (4499, 2)\n"
          ]
        }
      ],
      "source": [
        "# print out the shape of the train and test dataframes\n",
        "target = ['dest lat', 'dest lon']\n",
        "y_train = df_train_pre[target].values\n",
        "X_train = df_train_pre.drop(target, axis = 1).values\n",
        "\n",
        "y_test = df_test_pre[target].values\n",
        "X_test = df_test_pre.drop(target, axis = 1).values\n",
        "print(X_train.shape, y_train.shape)\n",
        "print(X_test.shape, y_test.shape)\n",
        "\n",
        "# TODO"
      ]
    },
    {
      "cell_type": "markdown",
      "metadata": {
        "id": "FDr-XmL6Fs2L"
      },
      "source": [
        "## KNN Model"
      ]
    },
    {
      "cell_type": "markdown",
      "metadata": {
        "id": "C4aulBFWFs2M"
      },
      "source": [
        "In this section, we are going to implement our KNN model. For further information on how KNN works, please refer to [this](https://en.wikipedia.org/wiki/K-nearest_neighbors_algorithm) link. As you can see, it's a simple algorithm. We will start with this and see the results of our _destination suggestion_ system."
      ]
    },
    {
      "cell_type": "code",
      "execution_count": 12,
      "metadata": {
        "id": "NEvxUwh0Fs2M"
      },
      "outputs": [],
      "source": [
        "import pandas as pd\n",
        "import numpy as np\n",
        "\n",
        "class NearestNeighbor:\n",
        "    def __init__(self, n_neighbors=3):\n",
        "        self.n_neighbors = n_neighbors\n",
        "\n",
        "    def fit(self, train_X, train_y):\n",
        "        self.train_X = train_X\n",
        "        self.train_y = train_y\n",
        "\n",
        "    def predict(self, x):\n",
        "        predictions = []\n",
        "        for i in range(len(x)):\n",
        "            distances = np.linalg.norm(self.train_X - x[i], axis=1)\n",
        "            nearest_indices = np.argsort(distances)[:self.n_neighbors]\n",
        "\n",
        "            unique_arrays, counts = np.unique(self.train_y[nearest_indices], axis=0, return_counts=True)\n",
        "            most_repeated_index = np.argmax(counts)\n",
        "\n",
        "            predictions.append(unique_arrays[most_repeated_index])\n",
        "\n",
        "        return np.array(predictions)\n",
        ""
      ]
    },
    {
      "cell_type": "code",
      "execution_count": 13,
      "metadata": {
        "id": "Ava08wDuFs2M"
      },
      "outputs": [],
      "source": [
        "# Fit the model on training data\n",
        "KNN_model = NearestNeighbor(10)\n",
        "KNN_model.fit(X_train, y_train)\n",
        "# TODO"
      ]
    },
    {
      "cell_type": "code",
      "execution_count": 14,
      "metadata": {
        "id": "D9tpcfGbFs2M",
        "outputId": "d37c2727-4048-4c18-afcd-7a7d9d51b644",
        "colab": {
          "base_uri": "https://localhost:8080/"
        }
      },
      "outputs": [
        {
          "output_type": "execute_result",
          "data": {
            "text/plain": [
              "0.5661331554962765"
            ]
          },
          "metadata": {},
          "execution_count": 14
        }
      ],
      "source": [
        "# from sklearn.metrics import accuracy_score\n",
        "# Calculate the accuracy on training data\n",
        "preds = KNN_model.predict(X_train)\n",
        "def cal_acc(preds, y_train):\n",
        "    cnt = 0\n",
        "    for i in range(len(preds)):\n",
        "        if all(preds[i] == y_train[i]):\n",
        "            cnt += 1\n",
        "    return cnt / len(preds)\n",
        "\n",
        "cal_acc(preds, y_train)\n",
        "# TODO"
      ]
    },
    {
      "cell_type": "code",
      "execution_count": 15,
      "metadata": {
        "id": "-mgpNwnDFs2M",
        "outputId": "3ec4d19f-285c-40e9-9b0d-da40b46a4960",
        "colab": {
          "base_uri": "https://localhost:8080/"
        }
      },
      "outputs": [
        {
          "output_type": "execute_result",
          "data": {
            "text/plain": [
              "0.5145587908424094"
            ]
          },
          "metadata": {},
          "execution_count": 15
        }
      ],
      "source": [
        "# Calculate the accuracy on test data\n",
        "preds = KNN_model.predict(X_test)\n",
        "cal_acc(preds, y_test)\n",
        "# TODO"
      ]
    },
    {
      "cell_type": "markdown",
      "metadata": {
        "id": "yXWuJeECFs2M"
      },
      "source": [
        "**QUESTION**: What do you think about this approach? Is it a good idea to use KNN for this problem? Why (or why not)? If the patterns in our datatset (passengers' history) get more complicated, will our model be robust to it in comparison to other models?\n",
        "\n",
        "Your Answer:"
      ]
    },
    {
      "cell_type": "code",
      "source": [
        "# I fought with overfitting by reducing feature space, but if we choose bad features, the model will overfit on the training data.\n",
        "# note that KNN performance will decrease in high dimensionalities. So it is not a good idea.\n",
        "# As i said, KNN will not perform well in complex feature space. (because you are not learning general patterns. you are learning each individual trip)"
      ],
      "metadata": {
        "id": "4gupGZ7dm2AY"
      },
      "execution_count": 16,
      "outputs": []
    },
    {
      "cell_type": "markdown",
      "metadata": {
        "id": "DQm5R-_AFs2M"
      },
      "source": [
        "# Second Approach: Using XGBoost"
      ]
    },
    {
      "cell_type": "markdown",
      "metadata": {
        "id": "6eGuCjn1Fs2M"
      },
      "source": [
        "In this part, we are going to use XGBoost to predict the next destination of the passenger. You can use `xgboost` library to implement this model. To learn more about XGBoost, please refer to [this](https://en.wikipedia.org/wiki/XGBoost) link. It should be familiar to you, as you saw decision trees in the class.\n",
        "\n",
        "For this part, you can use the same data (that you did all the processes on) from the previous part. Or, if you need, you can reload the dataset and do new preprocessings on it."
      ]
    },
    {
      "cell_type": "markdown",
      "metadata": {
        "id": "L-3n6E9OFs2M"
      },
      "source": [
        "You can see the overview of how XGBoost works in the image below:\n",
        "\n",
        "<dev style=\"text-align: center\">\n",
        "<img src=\"./Images/XGBoost.png\" />\n",
        "</dev>"
      ]
    },
    {
      "cell_type": "markdown",
      "metadata": {
        "id": "oXAEN8O8Fs2N"
      },
      "source": [
        "Although, this is for more information and you **do not** need to implement `XGBoost` from scratch. You can use the library that we mentioned above."
      ]
    },
    {
      "cell_type": "code",
      "execution_count": 17,
      "metadata": {
        "id": "usXgFwTbFs2N",
        "colab": {
          "base_uri": "https://localhost:8080/"
        },
        "outputId": "5948d534-6e5c-462b-c3fe-a3d4d1e636d3"
      },
      "outputs": [
        {
          "output_type": "stream",
          "name": "stdout",
          "text": [
            "Requirement already satisfied: xgboost in /usr/local/lib/python3.10/dist-packages (2.0.3)\n",
            "Requirement already satisfied: numpy in /usr/local/lib/python3.10/dist-packages (from xgboost) (1.23.5)\n",
            "Requirement already satisfied: scipy in /usr/local/lib/python3.10/dist-packages (from xgboost) (1.11.4)\n"
          ]
        }
      ],
      "source": [
        "%pip install xgboost"
      ]
    },
    {
      "cell_type": "code",
      "execution_count": 18,
      "metadata": {
        "id": "0vLQc_DeFs2N"
      },
      "outputs": [],
      "source": [
        "import xgboost as xgb\n",
        "\n",
        "# Defining the model\n",
        "\n",
        "class Encoder:\n",
        "    def __init__(self):\n",
        "        self.mapping = {}\n",
        "        self.inverse_mapping = {}\n",
        "\n",
        "    def fit(self, y):\n",
        "        unique_values = np.unique(y, axis = 0)\n",
        "\n",
        "        self.mapping = {tuple(val): idx for idx, val in enumerate(unique_values)}\n",
        "        self.inverse_mapping = {idx: val for val, idx in self.mapping.items()}\n",
        "\n",
        "    def transform(self, y):\n",
        "        return np.array([self.mapping[tuple(val)] for val in y])\n",
        "\n",
        "    def inverse_transform(self, enc):\n",
        "        return np.array([self.inverse_mapping[idx] for idx in enc])\n",
        "\n"
      ]
    },
    {
      "cell_type": "code",
      "execution_count": 19,
      "metadata": {
        "id": "WM5sevKOFs2N"
      },
      "outputs": [],
      "source": [
        "# TODO: fit the Encoder on training data\n",
        "encoder = Encoder()\n",
        "encoder.fit(y_train)\n",
        "\n",
        "y_train_enc = encoder.transform(y_train)\n",
        "y_test_enc = encoder.transform(y_test)"
      ]
    },
    {
      "cell_type": "code",
      "execution_count": 20,
      "metadata": {
        "id": "lIQn9m_rFs2N",
        "outputId": "28252ec9-6e12-4ce6-a32f-7e05f225596f",
        "colab": {
          "base_uri": "https://localhost:8080/",
          "height": 248
        }
      },
      "outputs": [
        {
          "output_type": "execute_result",
          "data": {
            "text/plain": [
              "XGBClassifier(base_score=None, booster=None, callbacks=None,\n",
              "              colsample_bylevel=None, colsample_bynode=None,\n",
              "              colsample_bytree=None, device=None, early_stopping_rounds=None,\n",
              "              enable_categorical=False, eval_metric=None, feature_types=None,\n",
              "              gamma=None, grow_policy=None, importance_type=None,\n",
              "              interaction_constraints=None, learning_rate=None, max_bin=None,\n",
              "              max_cat_threshold=None, max_cat_to_onehot=None,\n",
              "              max_delta_step=None, max_depth=None, max_leaves=None,\n",
              "              min_child_weight=None, missing=nan, monotone_constraints=None,\n",
              "              multi_strategy=None, n_estimators=None, n_jobs=None,\n",
              "              num_parallel_tree=None, objective='multi:softprob', ...)"
            ],
            "text/html": [
              "<style>#sk-container-id-1 {color: black;background-color: white;}#sk-container-id-1 pre{padding: 0;}#sk-container-id-1 div.sk-toggleable {background-color: white;}#sk-container-id-1 label.sk-toggleable__label {cursor: pointer;display: block;width: 100%;margin-bottom: 0;padding: 0.3em;box-sizing: border-box;text-align: center;}#sk-container-id-1 label.sk-toggleable__label-arrow:before {content: \"▸\";float: left;margin-right: 0.25em;color: #696969;}#sk-container-id-1 label.sk-toggleable__label-arrow:hover:before {color: black;}#sk-container-id-1 div.sk-estimator:hover label.sk-toggleable__label-arrow:before {color: black;}#sk-container-id-1 div.sk-toggleable__content {max-height: 0;max-width: 0;overflow: hidden;text-align: left;background-color: #f0f8ff;}#sk-container-id-1 div.sk-toggleable__content pre {margin: 0.2em;color: black;border-radius: 0.25em;background-color: #f0f8ff;}#sk-container-id-1 input.sk-toggleable__control:checked~div.sk-toggleable__content {max-height: 200px;max-width: 100%;overflow: auto;}#sk-container-id-1 input.sk-toggleable__control:checked~label.sk-toggleable__label-arrow:before {content: \"▾\";}#sk-container-id-1 div.sk-estimator input.sk-toggleable__control:checked~label.sk-toggleable__label {background-color: #d4ebff;}#sk-container-id-1 div.sk-label input.sk-toggleable__control:checked~label.sk-toggleable__label {background-color: #d4ebff;}#sk-container-id-1 input.sk-hidden--visually {border: 0;clip: rect(1px 1px 1px 1px);clip: rect(1px, 1px, 1px, 1px);height: 1px;margin: -1px;overflow: hidden;padding: 0;position: absolute;width: 1px;}#sk-container-id-1 div.sk-estimator {font-family: monospace;background-color: #f0f8ff;border: 1px dotted black;border-radius: 0.25em;box-sizing: border-box;margin-bottom: 0.5em;}#sk-container-id-1 div.sk-estimator:hover {background-color: #d4ebff;}#sk-container-id-1 div.sk-parallel-item::after {content: \"\";width: 100%;border-bottom: 1px solid gray;flex-grow: 1;}#sk-container-id-1 div.sk-label:hover label.sk-toggleable__label {background-color: #d4ebff;}#sk-container-id-1 div.sk-serial::before {content: \"\";position: absolute;border-left: 1px solid gray;box-sizing: border-box;top: 0;bottom: 0;left: 50%;z-index: 0;}#sk-container-id-1 div.sk-serial {display: flex;flex-direction: column;align-items: center;background-color: white;padding-right: 0.2em;padding-left: 0.2em;position: relative;}#sk-container-id-1 div.sk-item {position: relative;z-index: 1;}#sk-container-id-1 div.sk-parallel {display: flex;align-items: stretch;justify-content: center;background-color: white;position: relative;}#sk-container-id-1 div.sk-item::before, #sk-container-id-1 div.sk-parallel-item::before {content: \"\";position: absolute;border-left: 1px solid gray;box-sizing: border-box;top: 0;bottom: 0;left: 50%;z-index: -1;}#sk-container-id-1 div.sk-parallel-item {display: flex;flex-direction: column;z-index: 1;position: relative;background-color: white;}#sk-container-id-1 div.sk-parallel-item:first-child::after {align-self: flex-end;width: 50%;}#sk-container-id-1 div.sk-parallel-item:last-child::after {align-self: flex-start;width: 50%;}#sk-container-id-1 div.sk-parallel-item:only-child::after {width: 0;}#sk-container-id-1 div.sk-dashed-wrapped {border: 1px dashed gray;margin: 0 0.4em 0.5em 0.4em;box-sizing: border-box;padding-bottom: 0.4em;background-color: white;}#sk-container-id-1 div.sk-label label {font-family: monospace;font-weight: bold;display: inline-block;line-height: 1.2em;}#sk-container-id-1 div.sk-label-container {text-align: center;}#sk-container-id-1 div.sk-container {/* jupyter's `normalize.less` sets `[hidden] { display: none; }` but bootstrap.min.css set `[hidden] { display: none !important; }` so we also need the `!important` here to be able to override the default hidden behavior on the sphinx rendered scikit-learn.org. See: https://github.com/scikit-learn/scikit-learn/issues/21755 */display: inline-block !important;position: relative;}#sk-container-id-1 div.sk-text-repr-fallback {display: none;}</style><div id=\"sk-container-id-1\" class=\"sk-top-container\"><div class=\"sk-text-repr-fallback\"><pre>XGBClassifier(base_score=None, booster=None, callbacks=None,\n",
              "              colsample_bylevel=None, colsample_bynode=None,\n",
              "              colsample_bytree=None, device=None, early_stopping_rounds=None,\n",
              "              enable_categorical=False, eval_metric=None, feature_types=None,\n",
              "              gamma=None, grow_policy=None, importance_type=None,\n",
              "              interaction_constraints=None, learning_rate=None, max_bin=None,\n",
              "              max_cat_threshold=None, max_cat_to_onehot=None,\n",
              "              max_delta_step=None, max_depth=None, max_leaves=None,\n",
              "              min_child_weight=None, missing=nan, monotone_constraints=None,\n",
              "              multi_strategy=None, n_estimators=None, n_jobs=None,\n",
              "              num_parallel_tree=None, objective=&#x27;multi:softprob&#x27;, ...)</pre><b>In a Jupyter environment, please rerun this cell to show the HTML representation or trust the notebook. <br />On GitHub, the HTML representation is unable to render, please try loading this page with nbviewer.org.</b></div><div class=\"sk-container\" hidden><div class=\"sk-item\"><div class=\"sk-estimator sk-toggleable\"><input class=\"sk-toggleable__control sk-hidden--visually\" id=\"sk-estimator-id-1\" type=\"checkbox\" checked><label for=\"sk-estimator-id-1\" class=\"sk-toggleable__label sk-toggleable__label-arrow\">XGBClassifier</label><div class=\"sk-toggleable__content\"><pre>XGBClassifier(base_score=None, booster=None, callbacks=None,\n",
              "              colsample_bylevel=None, colsample_bynode=None,\n",
              "              colsample_bytree=None, device=None, early_stopping_rounds=None,\n",
              "              enable_categorical=False, eval_metric=None, feature_types=None,\n",
              "              gamma=None, grow_policy=None, importance_type=None,\n",
              "              interaction_constraints=None, learning_rate=None, max_bin=None,\n",
              "              max_cat_threshold=None, max_cat_to_onehot=None,\n",
              "              max_delta_step=None, max_depth=None, max_leaves=None,\n",
              "              min_child_weight=None, missing=nan, monotone_constraints=None,\n",
              "              multi_strategy=None, n_estimators=None, n_jobs=None,\n",
              "              num_parallel_tree=None, objective=&#x27;multi:softprob&#x27;, ...)</pre></div></div></div></div></div>"
            ]
          },
          "metadata": {},
          "execution_count": 20
        }
      ],
      "source": [
        "# TODO: transform the training and test data\n",
        "# and fit the model on training data\n",
        "classifier = xgb.XGBClassifier()\n",
        "classifier.fit(X_train, y_train_enc)\n"
      ]
    },
    {
      "cell_type": "code",
      "execution_count": 21,
      "metadata": {
        "id": "wDTRahayFs2N",
        "outputId": "3af8cc90-add9-4daa-f115-7958120cc4d9",
        "colab": {
          "base_uri": "https://localhost:8080/"
        }
      },
      "outputs": [
        {
          "output_type": "execute_result",
          "data": {
            "text/plain": [
              "0.6726686673335557"
            ]
          },
          "metadata": {},
          "execution_count": 21
        }
      ],
      "source": [
        "# TODO: print out train-data accuracy\n",
        "train_preds = classifier.predict(X_train)\n",
        "def cal_acc(preds, y_train):\n",
        "    cnt = 0\n",
        "    for i in range(len(preds)):\n",
        "        if preds[i] == y_train[i]:\n",
        "            cnt += 1\n",
        "    return cnt / len(preds)\n",
        "\n",
        "cal_acc(train_preds, y_train_enc)"
      ]
    },
    {
      "cell_type": "code",
      "execution_count": 22,
      "metadata": {
        "id": "b5c6edgnFs2N",
        "outputId": "6f70625a-d706-41d5-c376-d2b40f8cce4a",
        "colab": {
          "base_uri": "https://localhost:8080/"
        }
      },
      "outputs": [
        {
          "output_type": "execute_result",
          "data": {
            "text/plain": [
              "0.5730162258279617"
            ]
          },
          "metadata": {},
          "execution_count": 22
        }
      ],
      "source": [
        "# TODO: print out test-data accuracy\n",
        "test_preds = classifier.predict(X_test)\n",
        "cal_acc(test_preds, y_test_enc)"
      ]
    },
    {
      "cell_type": "markdown",
      "metadata": {
        "id": "4eRbSH5EFs2N"
      },
      "source": [
        "**QUESTION**: What do you think about this approach? Is it a good idea to use XGBoost for this problem? Why (or why not)? If the patterns in our datatset (passengers' history) get more complicated, will our model be robust to it in comparison to other models?\n",
        "\n",
        "Your Answer: AS I mentioned below, if the data gets too complex, xgboost starts to memorizing the training data and it will overfit on the training set.\n",
        "xgboost in gerenal is a very good model but our data here is complex and it can't extract all the patterns and it has to memorize training data so it's performance is not well on test set.\n",
        "the reason KNN and xgboost acc is low on training, is because I just selected 4 or 5 features and they can't memorize the training becaue features are too simple and they can't overfit quite well.\n"
      ]
    },
    {
      "cell_type": "markdown",
      "metadata": {
        "id": "TNTme2QCFs2N"
      },
      "source": [
        "**Question**: Please explain the problem of overfitting in XGBoost. How can you solve it? Provide a brief explanation.\n",
        "\n",
        "Your Answer: ..."
      ]
    },
    {
      "cell_type": "code",
      "source": [
        "# by a good feature selection. if data gets too complex, xgboost starts to memorizing training data\n",
        "# max dapth limit for the trees\n",
        "# good learning rate: in xgboost methods learning rate controls contribution of each tree to final result which is quite important\n",
        "# in boosting methods, increasing the number of estimators may increase the chance of overfitting"
      ],
      "metadata": {
        "id": "saIDX67ZozOz"
      },
      "execution_count": 23,
      "outputs": []
    },
    {
      "cell_type": "markdown",
      "metadata": {
        "id": "z3zbMgBiFs2O"
      },
      "source": [
        "# Third Approach: Classifier Using Neural Networks"
      ]
    },
    {
      "cell_type": "markdown",
      "metadata": {
        "id": "5r-gDez1Fs2O"
      },
      "source": [
        "In this approach, we are going to use a classifier using neural networks. You can think of this approach and how to model the problem as a classification problem in many ways! So, we are not going to restrict your creativity. Just a hint: You can consider each of the unique destinations (in whole dataset) as a class and then train a classifier to classify the destinations."
      ]
    },
    {
      "cell_type": "markdown",
      "metadata": {
        "id": "2zrkxbZAFs2Q"
      },
      "source": [
        "## Data for Neural Network"
      ]
    },
    {
      "cell_type": "markdown",
      "metadata": {
        "id": "jaR754CrFs2R"
      },
      "source": [
        "Let's prepare the data for our neural network. Again, you should extract required features from the dataset and then split the dataset into train-test-val sets if necessary. For your ease, we prepared another version of `output.json` that helps you to extract features for this part, easier. So, please load `Data/trip_data.json` and use it for training set and validation set. You should use `Data/trip_data_test.json` for testing your model."
      ]
    },
    {
      "cell_type": "code",
      "execution_count": 24,
      "metadata": {
        "id": "vOb29SBPFs2R",
        "outputId": "0e208cac-962f-4423-c7eb-a24b0a286375",
        "colab": {
          "base_uri": "https://localhost:8080/",
          "height": 206
        }
      },
      "outputs": [
        {
          "output_type": "execute_result",
          "data": {
            "text/plain": [
              "   user_id  Day                          origin  \\\n",
              "0        0    0        [work, [35.625, 51.375]]   \n",
              "1        0    0    [restaurant, [36.0, 51.085]]   \n",
              "2        0    0         [home, [35.68, 51.445]]   \n",
              "3        0    0  [restaurant, [35.745, 51.465]]   \n",
              "4        0    1        [work, [35.625, 51.375]]   \n",
              "\n",
              "                      destination          start_time            end_time  \\\n",
              "0    [restaurant, [36.0, 51.085]] 2024-01-30 13:07:00 2024-01-30 14:43:00   \n",
              "1        [work, [35.625, 51.375]] 2024-01-30 15:13:00 2024-01-30 16:49:00   \n",
              "2  [restaurant, [35.745, 51.465]] 2024-01-30 20:41:00 2024-01-30 20:54:00   \n",
              "3         [home, [35.68, 51.445]] 2024-01-30 21:24:00 2024-01-30 21:37:00   \n",
              "4         [home, [35.68, 51.445]] 2024-01-30 23:38:00 2024-01-30 23:58:00   \n",
              "\n",
              "   price  \n",
              "0  43.99  \n",
              "1  36.66  \n",
              "2  15.08  \n",
              "3  10.00  \n",
              "4  19.48  "
            ],
            "text/html": [
              "\n",
              "  <div id=\"df-fcca0cb0-a37f-476d-8ef2-56afb3099456\" class=\"colab-df-container\">\n",
              "    <div>\n",
              "<style scoped>\n",
              "    .dataframe tbody tr th:only-of-type {\n",
              "        vertical-align: middle;\n",
              "    }\n",
              "\n",
              "    .dataframe tbody tr th {\n",
              "        vertical-align: top;\n",
              "    }\n",
              "\n",
              "    .dataframe thead th {\n",
              "        text-align: right;\n",
              "    }\n",
              "</style>\n",
              "<table border=\"1\" class=\"dataframe\">\n",
              "  <thead>\n",
              "    <tr style=\"text-align: right;\">\n",
              "      <th></th>\n",
              "      <th>user_id</th>\n",
              "      <th>Day</th>\n",
              "      <th>origin</th>\n",
              "      <th>destination</th>\n",
              "      <th>start_time</th>\n",
              "      <th>end_time</th>\n",
              "      <th>price</th>\n",
              "    </tr>\n",
              "  </thead>\n",
              "  <tbody>\n",
              "    <tr>\n",
              "      <th>0</th>\n",
              "      <td>0</td>\n",
              "      <td>0</td>\n",
              "      <td>[work, [35.625, 51.375]]</td>\n",
              "      <td>[restaurant, [36.0, 51.085]]</td>\n",
              "      <td>2024-01-30 13:07:00</td>\n",
              "      <td>2024-01-30 14:43:00</td>\n",
              "      <td>43.99</td>\n",
              "    </tr>\n",
              "    <tr>\n",
              "      <th>1</th>\n",
              "      <td>0</td>\n",
              "      <td>0</td>\n",
              "      <td>[restaurant, [36.0, 51.085]]</td>\n",
              "      <td>[work, [35.625, 51.375]]</td>\n",
              "      <td>2024-01-30 15:13:00</td>\n",
              "      <td>2024-01-30 16:49:00</td>\n",
              "      <td>36.66</td>\n",
              "    </tr>\n",
              "    <tr>\n",
              "      <th>2</th>\n",
              "      <td>0</td>\n",
              "      <td>0</td>\n",
              "      <td>[home, [35.68, 51.445]]</td>\n",
              "      <td>[restaurant, [35.745, 51.465]]</td>\n",
              "      <td>2024-01-30 20:41:00</td>\n",
              "      <td>2024-01-30 20:54:00</td>\n",
              "      <td>15.08</td>\n",
              "    </tr>\n",
              "    <tr>\n",
              "      <th>3</th>\n",
              "      <td>0</td>\n",
              "      <td>0</td>\n",
              "      <td>[restaurant, [35.745, 51.465]]</td>\n",
              "      <td>[home, [35.68, 51.445]]</td>\n",
              "      <td>2024-01-30 21:24:00</td>\n",
              "      <td>2024-01-30 21:37:00</td>\n",
              "      <td>10.00</td>\n",
              "    </tr>\n",
              "    <tr>\n",
              "      <th>4</th>\n",
              "      <td>0</td>\n",
              "      <td>1</td>\n",
              "      <td>[work, [35.625, 51.375]]</td>\n",
              "      <td>[home, [35.68, 51.445]]</td>\n",
              "      <td>2024-01-30 23:38:00</td>\n",
              "      <td>2024-01-30 23:58:00</td>\n",
              "      <td>19.48</td>\n",
              "    </tr>\n",
              "  </tbody>\n",
              "</table>\n",
              "</div>\n",
              "    <div class=\"colab-df-buttons\">\n",
              "\n",
              "  <div class=\"colab-df-container\">\n",
              "    <button class=\"colab-df-convert\" onclick=\"convertToInteractive('df-fcca0cb0-a37f-476d-8ef2-56afb3099456')\"\n",
              "            title=\"Convert this dataframe to an interactive table.\"\n",
              "            style=\"display:none;\">\n",
              "\n",
              "  <svg xmlns=\"http://www.w3.org/2000/svg\" height=\"24px\" viewBox=\"0 -960 960 960\">\n",
              "    <path d=\"M120-120v-720h720v720H120Zm60-500h600v-160H180v160Zm220 220h160v-160H400v160Zm0 220h160v-160H400v160ZM180-400h160v-160H180v160Zm440 0h160v-160H620v160ZM180-180h160v-160H180v160Zm440 0h160v-160H620v160Z\"/>\n",
              "  </svg>\n",
              "    </button>\n",
              "\n",
              "  <style>\n",
              "    .colab-df-container {\n",
              "      display:flex;\n",
              "      gap: 12px;\n",
              "    }\n",
              "\n",
              "    .colab-df-convert {\n",
              "      background-color: #E8F0FE;\n",
              "      border: none;\n",
              "      border-radius: 50%;\n",
              "      cursor: pointer;\n",
              "      display: none;\n",
              "      fill: #1967D2;\n",
              "      height: 32px;\n",
              "      padding: 0 0 0 0;\n",
              "      width: 32px;\n",
              "    }\n",
              "\n",
              "    .colab-df-convert:hover {\n",
              "      background-color: #E2EBFA;\n",
              "      box-shadow: 0px 1px 2px rgba(60, 64, 67, 0.3), 0px 1px 3px 1px rgba(60, 64, 67, 0.15);\n",
              "      fill: #174EA6;\n",
              "    }\n",
              "\n",
              "    .colab-df-buttons div {\n",
              "      margin-bottom: 4px;\n",
              "    }\n",
              "\n",
              "    [theme=dark] .colab-df-convert {\n",
              "      background-color: #3B4455;\n",
              "      fill: #D2E3FC;\n",
              "    }\n",
              "\n",
              "    [theme=dark] .colab-df-convert:hover {\n",
              "      background-color: #434B5C;\n",
              "      box-shadow: 0px 1px 3px 1px rgba(0, 0, 0, 0.15);\n",
              "      filter: drop-shadow(0px 1px 2px rgba(0, 0, 0, 0.3));\n",
              "      fill: #FFFFFF;\n",
              "    }\n",
              "  </style>\n",
              "\n",
              "    <script>\n",
              "      const buttonEl =\n",
              "        document.querySelector('#df-fcca0cb0-a37f-476d-8ef2-56afb3099456 button.colab-df-convert');\n",
              "      buttonEl.style.display =\n",
              "        google.colab.kernel.accessAllowed ? 'block' : 'none';\n",
              "\n",
              "      async function convertToInteractive(key) {\n",
              "        const element = document.querySelector('#df-fcca0cb0-a37f-476d-8ef2-56afb3099456');\n",
              "        const dataTable =\n",
              "          await google.colab.kernel.invokeFunction('convertToInteractive',\n",
              "                                                    [key], {});\n",
              "        if (!dataTable) return;\n",
              "\n",
              "        const docLinkHtml = 'Like what you see? Visit the ' +\n",
              "          '<a target=\"_blank\" href=https://colab.research.google.com/notebooks/data_table.ipynb>data table notebook</a>'\n",
              "          + ' to learn more about interactive tables.';\n",
              "        element.innerHTML = '';\n",
              "        dataTable['output_type'] = 'display_data';\n",
              "        await google.colab.output.renderOutput(dataTable, element);\n",
              "        const docLink = document.createElement('div');\n",
              "        docLink.innerHTML = docLinkHtml;\n",
              "        element.appendChild(docLink);\n",
              "      }\n",
              "    </script>\n",
              "  </div>\n",
              "\n",
              "\n",
              "<div id=\"df-f29f06e7-39bf-40a1-8b9a-6d3273ae005a\">\n",
              "  <button class=\"colab-df-quickchart\" onclick=\"quickchart('df-f29f06e7-39bf-40a1-8b9a-6d3273ae005a')\"\n",
              "            title=\"Suggest charts\"\n",
              "            style=\"display:none;\">\n",
              "\n",
              "<svg xmlns=\"http://www.w3.org/2000/svg\" height=\"24px\"viewBox=\"0 0 24 24\"\n",
              "     width=\"24px\">\n",
              "    <g>\n",
              "        <path d=\"M19 3H5c-1.1 0-2 .9-2 2v14c0 1.1.9 2 2 2h14c1.1 0 2-.9 2-2V5c0-1.1-.9-2-2-2zM9 17H7v-7h2v7zm4 0h-2V7h2v10zm4 0h-2v-4h2v4z\"/>\n",
              "    </g>\n",
              "</svg>\n",
              "  </button>\n",
              "\n",
              "<style>\n",
              "  .colab-df-quickchart {\n",
              "      --bg-color: #E8F0FE;\n",
              "      --fill-color: #1967D2;\n",
              "      --hover-bg-color: #E2EBFA;\n",
              "      --hover-fill-color: #174EA6;\n",
              "      --disabled-fill-color: #AAA;\n",
              "      --disabled-bg-color: #DDD;\n",
              "  }\n",
              "\n",
              "  [theme=dark] .colab-df-quickchart {\n",
              "      --bg-color: #3B4455;\n",
              "      --fill-color: #D2E3FC;\n",
              "      --hover-bg-color: #434B5C;\n",
              "      --hover-fill-color: #FFFFFF;\n",
              "      --disabled-bg-color: #3B4455;\n",
              "      --disabled-fill-color: #666;\n",
              "  }\n",
              "\n",
              "  .colab-df-quickchart {\n",
              "    background-color: var(--bg-color);\n",
              "    border: none;\n",
              "    border-radius: 50%;\n",
              "    cursor: pointer;\n",
              "    display: none;\n",
              "    fill: var(--fill-color);\n",
              "    height: 32px;\n",
              "    padding: 0;\n",
              "    width: 32px;\n",
              "  }\n",
              "\n",
              "  .colab-df-quickchart:hover {\n",
              "    background-color: var(--hover-bg-color);\n",
              "    box-shadow: 0 1px 2px rgba(60, 64, 67, 0.3), 0 1px 3px 1px rgba(60, 64, 67, 0.15);\n",
              "    fill: var(--button-hover-fill-color);\n",
              "  }\n",
              "\n",
              "  .colab-df-quickchart-complete:disabled,\n",
              "  .colab-df-quickchart-complete:disabled:hover {\n",
              "    background-color: var(--disabled-bg-color);\n",
              "    fill: var(--disabled-fill-color);\n",
              "    box-shadow: none;\n",
              "  }\n",
              "\n",
              "  .colab-df-spinner {\n",
              "    border: 2px solid var(--fill-color);\n",
              "    border-color: transparent;\n",
              "    border-bottom-color: var(--fill-color);\n",
              "    animation:\n",
              "      spin 1s steps(1) infinite;\n",
              "  }\n",
              "\n",
              "  @keyframes spin {\n",
              "    0% {\n",
              "      border-color: transparent;\n",
              "      border-bottom-color: var(--fill-color);\n",
              "      border-left-color: var(--fill-color);\n",
              "    }\n",
              "    20% {\n",
              "      border-color: transparent;\n",
              "      border-left-color: var(--fill-color);\n",
              "      border-top-color: var(--fill-color);\n",
              "    }\n",
              "    30% {\n",
              "      border-color: transparent;\n",
              "      border-left-color: var(--fill-color);\n",
              "      border-top-color: var(--fill-color);\n",
              "      border-right-color: var(--fill-color);\n",
              "    }\n",
              "    40% {\n",
              "      border-color: transparent;\n",
              "      border-right-color: var(--fill-color);\n",
              "      border-top-color: var(--fill-color);\n",
              "    }\n",
              "    60% {\n",
              "      border-color: transparent;\n",
              "      border-right-color: var(--fill-color);\n",
              "    }\n",
              "    80% {\n",
              "      border-color: transparent;\n",
              "      border-right-color: var(--fill-color);\n",
              "      border-bottom-color: var(--fill-color);\n",
              "    }\n",
              "    90% {\n",
              "      border-color: transparent;\n",
              "      border-bottom-color: var(--fill-color);\n",
              "    }\n",
              "  }\n",
              "</style>\n",
              "\n",
              "  <script>\n",
              "    async function quickchart(key) {\n",
              "      const quickchartButtonEl =\n",
              "        document.querySelector('#' + key + ' button');\n",
              "      quickchartButtonEl.disabled = true;  // To prevent multiple clicks.\n",
              "      quickchartButtonEl.classList.add('colab-df-spinner');\n",
              "      try {\n",
              "        const charts = await google.colab.kernel.invokeFunction(\n",
              "            'suggestCharts', [key], {});\n",
              "      } catch (error) {\n",
              "        console.error('Error during call to suggestCharts:', error);\n",
              "      }\n",
              "      quickchartButtonEl.classList.remove('colab-df-spinner');\n",
              "      quickchartButtonEl.classList.add('colab-df-quickchart-complete');\n",
              "    }\n",
              "    (() => {\n",
              "      let quickchartButtonEl =\n",
              "        document.querySelector('#df-f29f06e7-39bf-40a1-8b9a-6d3273ae005a button');\n",
              "      quickchartButtonEl.style.display =\n",
              "        google.colab.kernel.accessAllowed ? 'block' : 'none';\n",
              "    })();\n",
              "  </script>\n",
              "</div>\n",
              "    </div>\n",
              "  </div>\n"
            ]
          },
          "metadata": {},
          "execution_count": 24
        }
      ],
      "source": [
        "# load the training dataset\n",
        "# TODO\n",
        "df = pd.read_json(root_path + 'Data/trip_data.json')\n",
        "df.head()"
      ]
    },
    {
      "cell_type": "code",
      "execution_count": 25,
      "metadata": {
        "id": "99AiupjuFs2R",
        "outputId": "05ea6434-c647-4f32-a930-dde69ad6ba2a",
        "colab": {
          "base_uri": "https://localhost:8080/",
          "height": 206
        }
      },
      "outputs": [
        {
          "output_type": "execute_result",
          "data": {
            "text/plain": [
              "   user_id  Day                         origin  \\\n",
              "0       24    6        [pool, [35.65, 51.225]]   \n",
              "1       46    2  [university, [35.625, 51.25]]   \n",
              "2       27    5        [pool, [35.65, 51.225]]   \n",
              "3        7    4       [work, [35.875, 51.375]]   \n",
              "4       27    3       [work, [35.625, 51.375]]   \n",
              "\n",
              "                      destination          start_time            end_time  \\\n",
              "0          [home, [35.64, 51.27]] 2024-01-30 11:58:00 2024-01-30 12:12:00   \n",
              "1   [restaurant, [35.69, 51.295]] 2024-01-30 21:58:00 2024-01-30 22:18:00   \n",
              "2  [restaurant, [35.865, 51.045]] 2024-01-30 20:05:00 2024-01-30 20:58:00   \n",
              "3         [home, [35.89, 51.315]] 2024-01-30 17:39:00 2024-01-30 18:17:00   \n",
              "4   [restaurant, [35.65, 51.385]] 2024-01-30 13:16:00 2024-01-30 13:19:00   \n",
              "\n",
              "   price  \n",
              "0  10.00  \n",
              "1  11.84  \n",
              "2  23.36  \n",
              "3  13.74  \n",
              "4  15.08  "
            ],
            "text/html": [
              "\n",
              "  <div id=\"df-9ae2054b-c5fd-4a2f-8e59-42ed8f4ebe4e\" class=\"colab-df-container\">\n",
              "    <div>\n",
              "<style scoped>\n",
              "    .dataframe tbody tr th:only-of-type {\n",
              "        vertical-align: middle;\n",
              "    }\n",
              "\n",
              "    .dataframe tbody tr th {\n",
              "        vertical-align: top;\n",
              "    }\n",
              "\n",
              "    .dataframe thead th {\n",
              "        text-align: right;\n",
              "    }\n",
              "</style>\n",
              "<table border=\"1\" class=\"dataframe\">\n",
              "  <thead>\n",
              "    <tr style=\"text-align: right;\">\n",
              "      <th></th>\n",
              "      <th>user_id</th>\n",
              "      <th>Day</th>\n",
              "      <th>origin</th>\n",
              "      <th>destination</th>\n",
              "      <th>start_time</th>\n",
              "      <th>end_time</th>\n",
              "      <th>price</th>\n",
              "    </tr>\n",
              "  </thead>\n",
              "  <tbody>\n",
              "    <tr>\n",
              "      <th>0</th>\n",
              "      <td>24</td>\n",
              "      <td>6</td>\n",
              "      <td>[pool, [35.65, 51.225]]</td>\n",
              "      <td>[home, [35.64, 51.27]]</td>\n",
              "      <td>2024-01-30 11:58:00</td>\n",
              "      <td>2024-01-30 12:12:00</td>\n",
              "      <td>10.00</td>\n",
              "    </tr>\n",
              "    <tr>\n",
              "      <th>1</th>\n",
              "      <td>46</td>\n",
              "      <td>2</td>\n",
              "      <td>[university, [35.625, 51.25]]</td>\n",
              "      <td>[restaurant, [35.69, 51.295]]</td>\n",
              "      <td>2024-01-30 21:58:00</td>\n",
              "      <td>2024-01-30 22:18:00</td>\n",
              "      <td>11.84</td>\n",
              "    </tr>\n",
              "    <tr>\n",
              "      <th>2</th>\n",
              "      <td>27</td>\n",
              "      <td>5</td>\n",
              "      <td>[pool, [35.65, 51.225]]</td>\n",
              "      <td>[restaurant, [35.865, 51.045]]</td>\n",
              "      <td>2024-01-30 20:05:00</td>\n",
              "      <td>2024-01-30 20:58:00</td>\n",
              "      <td>23.36</td>\n",
              "    </tr>\n",
              "    <tr>\n",
              "      <th>3</th>\n",
              "      <td>7</td>\n",
              "      <td>4</td>\n",
              "      <td>[work, [35.875, 51.375]]</td>\n",
              "      <td>[home, [35.89, 51.315]]</td>\n",
              "      <td>2024-01-30 17:39:00</td>\n",
              "      <td>2024-01-30 18:17:00</td>\n",
              "      <td>13.74</td>\n",
              "    </tr>\n",
              "    <tr>\n",
              "      <th>4</th>\n",
              "      <td>27</td>\n",
              "      <td>3</td>\n",
              "      <td>[work, [35.625, 51.375]]</td>\n",
              "      <td>[restaurant, [35.65, 51.385]]</td>\n",
              "      <td>2024-01-30 13:16:00</td>\n",
              "      <td>2024-01-30 13:19:00</td>\n",
              "      <td>15.08</td>\n",
              "    </tr>\n",
              "  </tbody>\n",
              "</table>\n",
              "</div>\n",
              "    <div class=\"colab-df-buttons\">\n",
              "\n",
              "  <div class=\"colab-df-container\">\n",
              "    <button class=\"colab-df-convert\" onclick=\"convertToInteractive('df-9ae2054b-c5fd-4a2f-8e59-42ed8f4ebe4e')\"\n",
              "            title=\"Convert this dataframe to an interactive table.\"\n",
              "            style=\"display:none;\">\n",
              "\n",
              "  <svg xmlns=\"http://www.w3.org/2000/svg\" height=\"24px\" viewBox=\"0 -960 960 960\">\n",
              "    <path d=\"M120-120v-720h720v720H120Zm60-500h600v-160H180v160Zm220 220h160v-160H400v160Zm0 220h160v-160H400v160ZM180-400h160v-160H180v160Zm440 0h160v-160H620v160ZM180-180h160v-160H180v160Zm440 0h160v-160H620v160Z\"/>\n",
              "  </svg>\n",
              "    </button>\n",
              "\n",
              "  <style>\n",
              "    .colab-df-container {\n",
              "      display:flex;\n",
              "      gap: 12px;\n",
              "    }\n",
              "\n",
              "    .colab-df-convert {\n",
              "      background-color: #E8F0FE;\n",
              "      border: none;\n",
              "      border-radius: 50%;\n",
              "      cursor: pointer;\n",
              "      display: none;\n",
              "      fill: #1967D2;\n",
              "      height: 32px;\n",
              "      padding: 0 0 0 0;\n",
              "      width: 32px;\n",
              "    }\n",
              "\n",
              "    .colab-df-convert:hover {\n",
              "      background-color: #E2EBFA;\n",
              "      box-shadow: 0px 1px 2px rgba(60, 64, 67, 0.3), 0px 1px 3px 1px rgba(60, 64, 67, 0.15);\n",
              "      fill: #174EA6;\n",
              "    }\n",
              "\n",
              "    .colab-df-buttons div {\n",
              "      margin-bottom: 4px;\n",
              "    }\n",
              "\n",
              "    [theme=dark] .colab-df-convert {\n",
              "      background-color: #3B4455;\n",
              "      fill: #D2E3FC;\n",
              "    }\n",
              "\n",
              "    [theme=dark] .colab-df-convert:hover {\n",
              "      background-color: #434B5C;\n",
              "      box-shadow: 0px 1px 3px 1px rgba(0, 0, 0, 0.15);\n",
              "      filter: drop-shadow(0px 1px 2px rgba(0, 0, 0, 0.3));\n",
              "      fill: #FFFFFF;\n",
              "    }\n",
              "  </style>\n",
              "\n",
              "    <script>\n",
              "      const buttonEl =\n",
              "        document.querySelector('#df-9ae2054b-c5fd-4a2f-8e59-42ed8f4ebe4e button.colab-df-convert');\n",
              "      buttonEl.style.display =\n",
              "        google.colab.kernel.accessAllowed ? 'block' : 'none';\n",
              "\n",
              "      async function convertToInteractive(key) {\n",
              "        const element = document.querySelector('#df-9ae2054b-c5fd-4a2f-8e59-42ed8f4ebe4e');\n",
              "        const dataTable =\n",
              "          await google.colab.kernel.invokeFunction('convertToInteractive',\n",
              "                                                    [key], {});\n",
              "        if (!dataTable) return;\n",
              "\n",
              "        const docLinkHtml = 'Like what you see? Visit the ' +\n",
              "          '<a target=\"_blank\" href=https://colab.research.google.com/notebooks/data_table.ipynb>data table notebook</a>'\n",
              "          + ' to learn more about interactive tables.';\n",
              "        element.innerHTML = '';\n",
              "        dataTable['output_type'] = 'display_data';\n",
              "        await google.colab.output.renderOutput(dataTable, element);\n",
              "        const docLink = document.createElement('div');\n",
              "        docLink.innerHTML = docLinkHtml;\n",
              "        element.appendChild(docLink);\n",
              "      }\n",
              "    </script>\n",
              "  </div>\n",
              "\n",
              "\n",
              "<div id=\"df-9fe98aab-e0a2-45ab-8a32-5a5699582fe7\">\n",
              "  <button class=\"colab-df-quickchart\" onclick=\"quickchart('df-9fe98aab-e0a2-45ab-8a32-5a5699582fe7')\"\n",
              "            title=\"Suggest charts\"\n",
              "            style=\"display:none;\">\n",
              "\n",
              "<svg xmlns=\"http://www.w3.org/2000/svg\" height=\"24px\"viewBox=\"0 0 24 24\"\n",
              "     width=\"24px\">\n",
              "    <g>\n",
              "        <path d=\"M19 3H5c-1.1 0-2 .9-2 2v14c0 1.1.9 2 2 2h14c1.1 0 2-.9 2-2V5c0-1.1-.9-2-2-2zM9 17H7v-7h2v7zm4 0h-2V7h2v10zm4 0h-2v-4h2v4z\"/>\n",
              "    </g>\n",
              "</svg>\n",
              "  </button>\n",
              "\n",
              "<style>\n",
              "  .colab-df-quickchart {\n",
              "      --bg-color: #E8F0FE;\n",
              "      --fill-color: #1967D2;\n",
              "      --hover-bg-color: #E2EBFA;\n",
              "      --hover-fill-color: #174EA6;\n",
              "      --disabled-fill-color: #AAA;\n",
              "      --disabled-bg-color: #DDD;\n",
              "  }\n",
              "\n",
              "  [theme=dark] .colab-df-quickchart {\n",
              "      --bg-color: #3B4455;\n",
              "      --fill-color: #D2E3FC;\n",
              "      --hover-bg-color: #434B5C;\n",
              "      --hover-fill-color: #FFFFFF;\n",
              "      --disabled-bg-color: #3B4455;\n",
              "      --disabled-fill-color: #666;\n",
              "  }\n",
              "\n",
              "  .colab-df-quickchart {\n",
              "    background-color: var(--bg-color);\n",
              "    border: none;\n",
              "    border-radius: 50%;\n",
              "    cursor: pointer;\n",
              "    display: none;\n",
              "    fill: var(--fill-color);\n",
              "    height: 32px;\n",
              "    padding: 0;\n",
              "    width: 32px;\n",
              "  }\n",
              "\n",
              "  .colab-df-quickchart:hover {\n",
              "    background-color: var(--hover-bg-color);\n",
              "    box-shadow: 0 1px 2px rgba(60, 64, 67, 0.3), 0 1px 3px 1px rgba(60, 64, 67, 0.15);\n",
              "    fill: var(--button-hover-fill-color);\n",
              "  }\n",
              "\n",
              "  .colab-df-quickchart-complete:disabled,\n",
              "  .colab-df-quickchart-complete:disabled:hover {\n",
              "    background-color: var(--disabled-bg-color);\n",
              "    fill: var(--disabled-fill-color);\n",
              "    box-shadow: none;\n",
              "  }\n",
              "\n",
              "  .colab-df-spinner {\n",
              "    border: 2px solid var(--fill-color);\n",
              "    border-color: transparent;\n",
              "    border-bottom-color: var(--fill-color);\n",
              "    animation:\n",
              "      spin 1s steps(1) infinite;\n",
              "  }\n",
              "\n",
              "  @keyframes spin {\n",
              "    0% {\n",
              "      border-color: transparent;\n",
              "      border-bottom-color: var(--fill-color);\n",
              "      border-left-color: var(--fill-color);\n",
              "    }\n",
              "    20% {\n",
              "      border-color: transparent;\n",
              "      border-left-color: var(--fill-color);\n",
              "      border-top-color: var(--fill-color);\n",
              "    }\n",
              "    30% {\n",
              "      border-color: transparent;\n",
              "      border-left-color: var(--fill-color);\n",
              "      border-top-color: var(--fill-color);\n",
              "      border-right-color: var(--fill-color);\n",
              "    }\n",
              "    40% {\n",
              "      border-color: transparent;\n",
              "      border-right-color: var(--fill-color);\n",
              "      border-top-color: var(--fill-color);\n",
              "    }\n",
              "    60% {\n",
              "      border-color: transparent;\n",
              "      border-right-color: var(--fill-color);\n",
              "    }\n",
              "    80% {\n",
              "      border-color: transparent;\n",
              "      border-right-color: var(--fill-color);\n",
              "      border-bottom-color: var(--fill-color);\n",
              "    }\n",
              "    90% {\n",
              "      border-color: transparent;\n",
              "      border-bottom-color: var(--fill-color);\n",
              "    }\n",
              "  }\n",
              "</style>\n",
              "\n",
              "  <script>\n",
              "    async function quickchart(key) {\n",
              "      const quickchartButtonEl =\n",
              "        document.querySelector('#' + key + ' button');\n",
              "      quickchartButtonEl.disabled = true;  // To prevent multiple clicks.\n",
              "      quickchartButtonEl.classList.add('colab-df-spinner');\n",
              "      try {\n",
              "        const charts = await google.colab.kernel.invokeFunction(\n",
              "            'suggestCharts', [key], {});\n",
              "      } catch (error) {\n",
              "        console.error('Error during call to suggestCharts:', error);\n",
              "      }\n",
              "      quickchartButtonEl.classList.remove('colab-df-spinner');\n",
              "      quickchartButtonEl.classList.add('colab-df-quickchart-complete');\n",
              "    }\n",
              "    (() => {\n",
              "      let quickchartButtonEl =\n",
              "        document.querySelector('#df-9fe98aab-e0a2-45ab-8a32-5a5699582fe7 button');\n",
              "      quickchartButtonEl.style.display =\n",
              "        google.colab.kernel.accessAllowed ? 'block' : 'none';\n",
              "    })();\n",
              "  </script>\n",
              "</div>\n",
              "    </div>\n",
              "  </div>\n"
            ]
          },
          "metadata": {},
          "execution_count": 25
        }
      ],
      "source": [
        "# load the test dataset\n",
        "# TODO\n",
        "df_test = pd.read_json(root_path + 'Data/trip_data_test.json')\n",
        "df_test.head()"
      ]
    },
    {
      "cell_type": "code",
      "source": [
        "def convert(df):\n",
        "    df['origin lat'] = df['origin'].apply(lambda x: x[1][0])\n",
        "    df['origin long'] = df['origin'].apply(lambda x: x[1][1])\n",
        "    df['origin'] = df['origin'].apply(lambda x: x[0])\n",
        "    # df['dest lat'] = df['destination'].apply(lambda x: x[1][0])\n",
        "    # df['dest long'] = df['destination'].apply(lambda x: x[1][1])\n",
        "    df['target'] = df['destination'].apply(lambda x: x[0])\n",
        "    df['shour'] = df['start_time'].dt.hour\n",
        "    df['smin'] = df['start_time'].dt.minute\n",
        "    df = df.drop(['start_time', 'end_time', 'price', 'destination'], axis = 1)\n",
        "\n",
        "    return df\n"
      ],
      "metadata": {
        "id": "Y6zjddtmwYrC"
      },
      "execution_count": 26,
      "outputs": []
    },
    {
      "cell_type": "code",
      "execution_count": 27,
      "metadata": {
        "id": "Z8v_hEkmFs2R",
        "outputId": "417d9748-61e7-49d9-dab5-87d740dea0ed",
        "colab": {
          "base_uri": "https://localhost:8080/",
          "height": 206
        }
      },
      "outputs": [
        {
          "output_type": "execute_result",
          "data": {
            "text/plain": [
              "   user_id  Day      origin  origin lat  origin long      target  shour  smin\n",
              "0        0    0        work      35.625       51.375  restaurant     13     7\n",
              "1        0    0  restaurant      36.000       51.085        work     15    13\n",
              "2        0    0        home      35.680       51.445  restaurant     20    41\n",
              "3        0    0  restaurant      35.745       51.465        home     21    24\n",
              "4        0    1        work      35.625       51.375        home     23    38"
            ],
            "text/html": [
              "\n",
              "  <div id=\"df-e41d8766-abc8-46a0-ad78-cb0d88c45e6e\" class=\"colab-df-container\">\n",
              "    <div>\n",
              "<style scoped>\n",
              "    .dataframe tbody tr th:only-of-type {\n",
              "        vertical-align: middle;\n",
              "    }\n",
              "\n",
              "    .dataframe tbody tr th {\n",
              "        vertical-align: top;\n",
              "    }\n",
              "\n",
              "    .dataframe thead th {\n",
              "        text-align: right;\n",
              "    }\n",
              "</style>\n",
              "<table border=\"1\" class=\"dataframe\">\n",
              "  <thead>\n",
              "    <tr style=\"text-align: right;\">\n",
              "      <th></th>\n",
              "      <th>user_id</th>\n",
              "      <th>Day</th>\n",
              "      <th>origin</th>\n",
              "      <th>origin lat</th>\n",
              "      <th>origin long</th>\n",
              "      <th>target</th>\n",
              "      <th>shour</th>\n",
              "      <th>smin</th>\n",
              "    </tr>\n",
              "  </thead>\n",
              "  <tbody>\n",
              "    <tr>\n",
              "      <th>0</th>\n",
              "      <td>0</td>\n",
              "      <td>0</td>\n",
              "      <td>work</td>\n",
              "      <td>35.625</td>\n",
              "      <td>51.375</td>\n",
              "      <td>restaurant</td>\n",
              "      <td>13</td>\n",
              "      <td>7</td>\n",
              "    </tr>\n",
              "    <tr>\n",
              "      <th>1</th>\n",
              "      <td>0</td>\n",
              "      <td>0</td>\n",
              "      <td>restaurant</td>\n",
              "      <td>36.000</td>\n",
              "      <td>51.085</td>\n",
              "      <td>work</td>\n",
              "      <td>15</td>\n",
              "      <td>13</td>\n",
              "    </tr>\n",
              "    <tr>\n",
              "      <th>2</th>\n",
              "      <td>0</td>\n",
              "      <td>0</td>\n",
              "      <td>home</td>\n",
              "      <td>35.680</td>\n",
              "      <td>51.445</td>\n",
              "      <td>restaurant</td>\n",
              "      <td>20</td>\n",
              "      <td>41</td>\n",
              "    </tr>\n",
              "    <tr>\n",
              "      <th>3</th>\n",
              "      <td>0</td>\n",
              "      <td>0</td>\n",
              "      <td>restaurant</td>\n",
              "      <td>35.745</td>\n",
              "      <td>51.465</td>\n",
              "      <td>home</td>\n",
              "      <td>21</td>\n",
              "      <td>24</td>\n",
              "    </tr>\n",
              "    <tr>\n",
              "      <th>4</th>\n",
              "      <td>0</td>\n",
              "      <td>1</td>\n",
              "      <td>work</td>\n",
              "      <td>35.625</td>\n",
              "      <td>51.375</td>\n",
              "      <td>home</td>\n",
              "      <td>23</td>\n",
              "      <td>38</td>\n",
              "    </tr>\n",
              "  </tbody>\n",
              "</table>\n",
              "</div>\n",
              "    <div class=\"colab-df-buttons\">\n",
              "\n",
              "  <div class=\"colab-df-container\">\n",
              "    <button class=\"colab-df-convert\" onclick=\"convertToInteractive('df-e41d8766-abc8-46a0-ad78-cb0d88c45e6e')\"\n",
              "            title=\"Convert this dataframe to an interactive table.\"\n",
              "            style=\"display:none;\">\n",
              "\n",
              "  <svg xmlns=\"http://www.w3.org/2000/svg\" height=\"24px\" viewBox=\"0 -960 960 960\">\n",
              "    <path d=\"M120-120v-720h720v720H120Zm60-500h600v-160H180v160Zm220 220h160v-160H400v160Zm0 220h160v-160H400v160ZM180-400h160v-160H180v160Zm440 0h160v-160H620v160ZM180-180h160v-160H180v160Zm440 0h160v-160H620v160Z\"/>\n",
              "  </svg>\n",
              "    </button>\n",
              "\n",
              "  <style>\n",
              "    .colab-df-container {\n",
              "      display:flex;\n",
              "      gap: 12px;\n",
              "    }\n",
              "\n",
              "    .colab-df-convert {\n",
              "      background-color: #E8F0FE;\n",
              "      border: none;\n",
              "      border-radius: 50%;\n",
              "      cursor: pointer;\n",
              "      display: none;\n",
              "      fill: #1967D2;\n",
              "      height: 32px;\n",
              "      padding: 0 0 0 0;\n",
              "      width: 32px;\n",
              "    }\n",
              "\n",
              "    .colab-df-convert:hover {\n",
              "      background-color: #E2EBFA;\n",
              "      box-shadow: 0px 1px 2px rgba(60, 64, 67, 0.3), 0px 1px 3px 1px rgba(60, 64, 67, 0.15);\n",
              "      fill: #174EA6;\n",
              "    }\n",
              "\n",
              "    .colab-df-buttons div {\n",
              "      margin-bottom: 4px;\n",
              "    }\n",
              "\n",
              "    [theme=dark] .colab-df-convert {\n",
              "      background-color: #3B4455;\n",
              "      fill: #D2E3FC;\n",
              "    }\n",
              "\n",
              "    [theme=dark] .colab-df-convert:hover {\n",
              "      background-color: #434B5C;\n",
              "      box-shadow: 0px 1px 3px 1px rgba(0, 0, 0, 0.15);\n",
              "      filter: drop-shadow(0px 1px 2px rgba(0, 0, 0, 0.3));\n",
              "      fill: #FFFFFF;\n",
              "    }\n",
              "  </style>\n",
              "\n",
              "    <script>\n",
              "      const buttonEl =\n",
              "        document.querySelector('#df-e41d8766-abc8-46a0-ad78-cb0d88c45e6e button.colab-df-convert');\n",
              "      buttonEl.style.display =\n",
              "        google.colab.kernel.accessAllowed ? 'block' : 'none';\n",
              "\n",
              "      async function convertToInteractive(key) {\n",
              "        const element = document.querySelector('#df-e41d8766-abc8-46a0-ad78-cb0d88c45e6e');\n",
              "        const dataTable =\n",
              "          await google.colab.kernel.invokeFunction('convertToInteractive',\n",
              "                                                    [key], {});\n",
              "        if (!dataTable) return;\n",
              "\n",
              "        const docLinkHtml = 'Like what you see? Visit the ' +\n",
              "          '<a target=\"_blank\" href=https://colab.research.google.com/notebooks/data_table.ipynb>data table notebook</a>'\n",
              "          + ' to learn more about interactive tables.';\n",
              "        element.innerHTML = '';\n",
              "        dataTable['output_type'] = 'display_data';\n",
              "        await google.colab.output.renderOutput(dataTable, element);\n",
              "        const docLink = document.createElement('div');\n",
              "        docLink.innerHTML = docLinkHtml;\n",
              "        element.appendChild(docLink);\n",
              "      }\n",
              "    </script>\n",
              "  </div>\n",
              "\n",
              "\n",
              "<div id=\"df-793da955-357f-495e-bfd7-9e40d8fcffd4\">\n",
              "  <button class=\"colab-df-quickchart\" onclick=\"quickchart('df-793da955-357f-495e-bfd7-9e40d8fcffd4')\"\n",
              "            title=\"Suggest charts\"\n",
              "            style=\"display:none;\">\n",
              "\n",
              "<svg xmlns=\"http://www.w3.org/2000/svg\" height=\"24px\"viewBox=\"0 0 24 24\"\n",
              "     width=\"24px\">\n",
              "    <g>\n",
              "        <path d=\"M19 3H5c-1.1 0-2 .9-2 2v14c0 1.1.9 2 2 2h14c1.1 0 2-.9 2-2V5c0-1.1-.9-2-2-2zM9 17H7v-7h2v7zm4 0h-2V7h2v10zm4 0h-2v-4h2v4z\"/>\n",
              "    </g>\n",
              "</svg>\n",
              "  </button>\n",
              "\n",
              "<style>\n",
              "  .colab-df-quickchart {\n",
              "      --bg-color: #E8F0FE;\n",
              "      --fill-color: #1967D2;\n",
              "      --hover-bg-color: #E2EBFA;\n",
              "      --hover-fill-color: #174EA6;\n",
              "      --disabled-fill-color: #AAA;\n",
              "      --disabled-bg-color: #DDD;\n",
              "  }\n",
              "\n",
              "  [theme=dark] .colab-df-quickchart {\n",
              "      --bg-color: #3B4455;\n",
              "      --fill-color: #D2E3FC;\n",
              "      --hover-bg-color: #434B5C;\n",
              "      --hover-fill-color: #FFFFFF;\n",
              "      --disabled-bg-color: #3B4455;\n",
              "      --disabled-fill-color: #666;\n",
              "  }\n",
              "\n",
              "  .colab-df-quickchart {\n",
              "    background-color: var(--bg-color);\n",
              "    border: none;\n",
              "    border-radius: 50%;\n",
              "    cursor: pointer;\n",
              "    display: none;\n",
              "    fill: var(--fill-color);\n",
              "    height: 32px;\n",
              "    padding: 0;\n",
              "    width: 32px;\n",
              "  }\n",
              "\n",
              "  .colab-df-quickchart:hover {\n",
              "    background-color: var(--hover-bg-color);\n",
              "    box-shadow: 0 1px 2px rgba(60, 64, 67, 0.3), 0 1px 3px 1px rgba(60, 64, 67, 0.15);\n",
              "    fill: var(--button-hover-fill-color);\n",
              "  }\n",
              "\n",
              "  .colab-df-quickchart-complete:disabled,\n",
              "  .colab-df-quickchart-complete:disabled:hover {\n",
              "    background-color: var(--disabled-bg-color);\n",
              "    fill: var(--disabled-fill-color);\n",
              "    box-shadow: none;\n",
              "  }\n",
              "\n",
              "  .colab-df-spinner {\n",
              "    border: 2px solid var(--fill-color);\n",
              "    border-color: transparent;\n",
              "    border-bottom-color: var(--fill-color);\n",
              "    animation:\n",
              "      spin 1s steps(1) infinite;\n",
              "  }\n",
              "\n",
              "  @keyframes spin {\n",
              "    0% {\n",
              "      border-color: transparent;\n",
              "      border-bottom-color: var(--fill-color);\n",
              "      border-left-color: var(--fill-color);\n",
              "    }\n",
              "    20% {\n",
              "      border-color: transparent;\n",
              "      border-left-color: var(--fill-color);\n",
              "      border-top-color: var(--fill-color);\n",
              "    }\n",
              "    30% {\n",
              "      border-color: transparent;\n",
              "      border-left-color: var(--fill-color);\n",
              "      border-top-color: var(--fill-color);\n",
              "      border-right-color: var(--fill-color);\n",
              "    }\n",
              "    40% {\n",
              "      border-color: transparent;\n",
              "      border-right-color: var(--fill-color);\n",
              "      border-top-color: var(--fill-color);\n",
              "    }\n",
              "    60% {\n",
              "      border-color: transparent;\n",
              "      border-right-color: var(--fill-color);\n",
              "    }\n",
              "    80% {\n",
              "      border-color: transparent;\n",
              "      border-right-color: var(--fill-color);\n",
              "      border-bottom-color: var(--fill-color);\n",
              "    }\n",
              "    90% {\n",
              "      border-color: transparent;\n",
              "      border-bottom-color: var(--fill-color);\n",
              "    }\n",
              "  }\n",
              "</style>\n",
              "\n",
              "  <script>\n",
              "    async function quickchart(key) {\n",
              "      const quickchartButtonEl =\n",
              "        document.querySelector('#' + key + ' button');\n",
              "      quickchartButtonEl.disabled = true;  // To prevent multiple clicks.\n",
              "      quickchartButtonEl.classList.add('colab-df-spinner');\n",
              "      try {\n",
              "        const charts = await google.colab.kernel.invokeFunction(\n",
              "            'suggestCharts', [key], {});\n",
              "      } catch (error) {\n",
              "        console.error('Error during call to suggestCharts:', error);\n",
              "      }\n",
              "      quickchartButtonEl.classList.remove('colab-df-spinner');\n",
              "      quickchartButtonEl.classList.add('colab-df-quickchart-complete');\n",
              "    }\n",
              "    (() => {\n",
              "      let quickchartButtonEl =\n",
              "        document.querySelector('#df-793da955-357f-495e-bfd7-9e40d8fcffd4 button');\n",
              "      quickchartButtonEl.style.display =\n",
              "        google.colab.kernel.accessAllowed ? 'block' : 'none';\n",
              "    })();\n",
              "  </script>\n",
              "</div>\n",
              "    </div>\n",
              "  </div>\n"
            ]
          },
          "metadata": {},
          "execution_count": 27
        }
      ],
      "source": [
        "# Extract features and do preprocessing if needed\n",
        "df = convert(df)\n",
        "df.head()\n",
        "# TODO"
      ]
    },
    {
      "cell_type": "code",
      "execution_count": 28,
      "metadata": {
        "id": "E-qn3PLdFs2R",
        "outputId": "2eb9de8f-aab2-470c-fcda-e912d67ed1e8",
        "colab": {
          "base_uri": "https://localhost:8080/",
          "height": 206
        }
      },
      "outputs": [
        {
          "output_type": "execute_result",
          "data": {
            "text/plain": [
              "   user_id  Day      origin  origin lat  origin long      target  shour  smin\n",
              "0       24    6        pool      35.650       51.225        home     11    58\n",
              "1       46    2  university      35.625       51.250  restaurant     21    58\n",
              "2       27    5        pool      35.650       51.225  restaurant     20     5\n",
              "3        7    4        work      35.875       51.375        home     17    39\n",
              "4       27    3        work      35.625       51.375  restaurant     13    16"
            ],
            "text/html": [
              "\n",
              "  <div id=\"df-ab356bec-d8a1-4d8e-b1f4-150607fa86ed\" class=\"colab-df-container\">\n",
              "    <div>\n",
              "<style scoped>\n",
              "    .dataframe tbody tr th:only-of-type {\n",
              "        vertical-align: middle;\n",
              "    }\n",
              "\n",
              "    .dataframe tbody tr th {\n",
              "        vertical-align: top;\n",
              "    }\n",
              "\n",
              "    .dataframe thead th {\n",
              "        text-align: right;\n",
              "    }\n",
              "</style>\n",
              "<table border=\"1\" class=\"dataframe\">\n",
              "  <thead>\n",
              "    <tr style=\"text-align: right;\">\n",
              "      <th></th>\n",
              "      <th>user_id</th>\n",
              "      <th>Day</th>\n",
              "      <th>origin</th>\n",
              "      <th>origin lat</th>\n",
              "      <th>origin long</th>\n",
              "      <th>target</th>\n",
              "      <th>shour</th>\n",
              "      <th>smin</th>\n",
              "    </tr>\n",
              "  </thead>\n",
              "  <tbody>\n",
              "    <tr>\n",
              "      <th>0</th>\n",
              "      <td>24</td>\n",
              "      <td>6</td>\n",
              "      <td>pool</td>\n",
              "      <td>35.650</td>\n",
              "      <td>51.225</td>\n",
              "      <td>home</td>\n",
              "      <td>11</td>\n",
              "      <td>58</td>\n",
              "    </tr>\n",
              "    <tr>\n",
              "      <th>1</th>\n",
              "      <td>46</td>\n",
              "      <td>2</td>\n",
              "      <td>university</td>\n",
              "      <td>35.625</td>\n",
              "      <td>51.250</td>\n",
              "      <td>restaurant</td>\n",
              "      <td>21</td>\n",
              "      <td>58</td>\n",
              "    </tr>\n",
              "    <tr>\n",
              "      <th>2</th>\n",
              "      <td>27</td>\n",
              "      <td>5</td>\n",
              "      <td>pool</td>\n",
              "      <td>35.650</td>\n",
              "      <td>51.225</td>\n",
              "      <td>restaurant</td>\n",
              "      <td>20</td>\n",
              "      <td>5</td>\n",
              "    </tr>\n",
              "    <tr>\n",
              "      <th>3</th>\n",
              "      <td>7</td>\n",
              "      <td>4</td>\n",
              "      <td>work</td>\n",
              "      <td>35.875</td>\n",
              "      <td>51.375</td>\n",
              "      <td>home</td>\n",
              "      <td>17</td>\n",
              "      <td>39</td>\n",
              "    </tr>\n",
              "    <tr>\n",
              "      <th>4</th>\n",
              "      <td>27</td>\n",
              "      <td>3</td>\n",
              "      <td>work</td>\n",
              "      <td>35.625</td>\n",
              "      <td>51.375</td>\n",
              "      <td>restaurant</td>\n",
              "      <td>13</td>\n",
              "      <td>16</td>\n",
              "    </tr>\n",
              "  </tbody>\n",
              "</table>\n",
              "</div>\n",
              "    <div class=\"colab-df-buttons\">\n",
              "\n",
              "  <div class=\"colab-df-container\">\n",
              "    <button class=\"colab-df-convert\" onclick=\"convertToInteractive('df-ab356bec-d8a1-4d8e-b1f4-150607fa86ed')\"\n",
              "            title=\"Convert this dataframe to an interactive table.\"\n",
              "            style=\"display:none;\">\n",
              "\n",
              "  <svg xmlns=\"http://www.w3.org/2000/svg\" height=\"24px\" viewBox=\"0 -960 960 960\">\n",
              "    <path d=\"M120-120v-720h720v720H120Zm60-500h600v-160H180v160Zm220 220h160v-160H400v160Zm0 220h160v-160H400v160ZM180-400h160v-160H180v160Zm440 0h160v-160H620v160ZM180-180h160v-160H180v160Zm440 0h160v-160H620v160Z\"/>\n",
              "  </svg>\n",
              "    </button>\n",
              "\n",
              "  <style>\n",
              "    .colab-df-container {\n",
              "      display:flex;\n",
              "      gap: 12px;\n",
              "    }\n",
              "\n",
              "    .colab-df-convert {\n",
              "      background-color: #E8F0FE;\n",
              "      border: none;\n",
              "      border-radius: 50%;\n",
              "      cursor: pointer;\n",
              "      display: none;\n",
              "      fill: #1967D2;\n",
              "      height: 32px;\n",
              "      padding: 0 0 0 0;\n",
              "      width: 32px;\n",
              "    }\n",
              "\n",
              "    .colab-df-convert:hover {\n",
              "      background-color: #E2EBFA;\n",
              "      box-shadow: 0px 1px 2px rgba(60, 64, 67, 0.3), 0px 1px 3px 1px rgba(60, 64, 67, 0.15);\n",
              "      fill: #174EA6;\n",
              "    }\n",
              "\n",
              "    .colab-df-buttons div {\n",
              "      margin-bottom: 4px;\n",
              "    }\n",
              "\n",
              "    [theme=dark] .colab-df-convert {\n",
              "      background-color: #3B4455;\n",
              "      fill: #D2E3FC;\n",
              "    }\n",
              "\n",
              "    [theme=dark] .colab-df-convert:hover {\n",
              "      background-color: #434B5C;\n",
              "      box-shadow: 0px 1px 3px 1px rgba(0, 0, 0, 0.15);\n",
              "      filter: drop-shadow(0px 1px 2px rgba(0, 0, 0, 0.3));\n",
              "      fill: #FFFFFF;\n",
              "    }\n",
              "  </style>\n",
              "\n",
              "    <script>\n",
              "      const buttonEl =\n",
              "        document.querySelector('#df-ab356bec-d8a1-4d8e-b1f4-150607fa86ed button.colab-df-convert');\n",
              "      buttonEl.style.display =\n",
              "        google.colab.kernel.accessAllowed ? 'block' : 'none';\n",
              "\n",
              "      async function convertToInteractive(key) {\n",
              "        const element = document.querySelector('#df-ab356bec-d8a1-4d8e-b1f4-150607fa86ed');\n",
              "        const dataTable =\n",
              "          await google.colab.kernel.invokeFunction('convertToInteractive',\n",
              "                                                    [key], {});\n",
              "        if (!dataTable) return;\n",
              "\n",
              "        const docLinkHtml = 'Like what you see? Visit the ' +\n",
              "          '<a target=\"_blank\" href=https://colab.research.google.com/notebooks/data_table.ipynb>data table notebook</a>'\n",
              "          + ' to learn more about interactive tables.';\n",
              "        element.innerHTML = '';\n",
              "        dataTable['output_type'] = 'display_data';\n",
              "        await google.colab.output.renderOutput(dataTable, element);\n",
              "        const docLink = document.createElement('div');\n",
              "        docLink.innerHTML = docLinkHtml;\n",
              "        element.appendChild(docLink);\n",
              "      }\n",
              "    </script>\n",
              "  </div>\n",
              "\n",
              "\n",
              "<div id=\"df-02d4823d-d46e-4122-9c8f-daa2c1d58f67\">\n",
              "  <button class=\"colab-df-quickchart\" onclick=\"quickchart('df-02d4823d-d46e-4122-9c8f-daa2c1d58f67')\"\n",
              "            title=\"Suggest charts\"\n",
              "            style=\"display:none;\">\n",
              "\n",
              "<svg xmlns=\"http://www.w3.org/2000/svg\" height=\"24px\"viewBox=\"0 0 24 24\"\n",
              "     width=\"24px\">\n",
              "    <g>\n",
              "        <path d=\"M19 3H5c-1.1 0-2 .9-2 2v14c0 1.1.9 2 2 2h14c1.1 0 2-.9 2-2V5c0-1.1-.9-2-2-2zM9 17H7v-7h2v7zm4 0h-2V7h2v10zm4 0h-2v-4h2v4z\"/>\n",
              "    </g>\n",
              "</svg>\n",
              "  </button>\n",
              "\n",
              "<style>\n",
              "  .colab-df-quickchart {\n",
              "      --bg-color: #E8F0FE;\n",
              "      --fill-color: #1967D2;\n",
              "      --hover-bg-color: #E2EBFA;\n",
              "      --hover-fill-color: #174EA6;\n",
              "      --disabled-fill-color: #AAA;\n",
              "      --disabled-bg-color: #DDD;\n",
              "  }\n",
              "\n",
              "  [theme=dark] .colab-df-quickchart {\n",
              "      --bg-color: #3B4455;\n",
              "      --fill-color: #D2E3FC;\n",
              "      --hover-bg-color: #434B5C;\n",
              "      --hover-fill-color: #FFFFFF;\n",
              "      --disabled-bg-color: #3B4455;\n",
              "      --disabled-fill-color: #666;\n",
              "  }\n",
              "\n",
              "  .colab-df-quickchart {\n",
              "    background-color: var(--bg-color);\n",
              "    border: none;\n",
              "    border-radius: 50%;\n",
              "    cursor: pointer;\n",
              "    display: none;\n",
              "    fill: var(--fill-color);\n",
              "    height: 32px;\n",
              "    padding: 0;\n",
              "    width: 32px;\n",
              "  }\n",
              "\n",
              "  .colab-df-quickchart:hover {\n",
              "    background-color: var(--hover-bg-color);\n",
              "    box-shadow: 0 1px 2px rgba(60, 64, 67, 0.3), 0 1px 3px 1px rgba(60, 64, 67, 0.15);\n",
              "    fill: var(--button-hover-fill-color);\n",
              "  }\n",
              "\n",
              "  .colab-df-quickchart-complete:disabled,\n",
              "  .colab-df-quickchart-complete:disabled:hover {\n",
              "    background-color: var(--disabled-bg-color);\n",
              "    fill: var(--disabled-fill-color);\n",
              "    box-shadow: none;\n",
              "  }\n",
              "\n",
              "  .colab-df-spinner {\n",
              "    border: 2px solid var(--fill-color);\n",
              "    border-color: transparent;\n",
              "    border-bottom-color: var(--fill-color);\n",
              "    animation:\n",
              "      spin 1s steps(1) infinite;\n",
              "  }\n",
              "\n",
              "  @keyframes spin {\n",
              "    0% {\n",
              "      border-color: transparent;\n",
              "      border-bottom-color: var(--fill-color);\n",
              "      border-left-color: var(--fill-color);\n",
              "    }\n",
              "    20% {\n",
              "      border-color: transparent;\n",
              "      border-left-color: var(--fill-color);\n",
              "      border-top-color: var(--fill-color);\n",
              "    }\n",
              "    30% {\n",
              "      border-color: transparent;\n",
              "      border-left-color: var(--fill-color);\n",
              "      border-top-color: var(--fill-color);\n",
              "      border-right-color: var(--fill-color);\n",
              "    }\n",
              "    40% {\n",
              "      border-color: transparent;\n",
              "      border-right-color: var(--fill-color);\n",
              "      border-top-color: var(--fill-color);\n",
              "    }\n",
              "    60% {\n",
              "      border-color: transparent;\n",
              "      border-right-color: var(--fill-color);\n",
              "    }\n",
              "    80% {\n",
              "      border-color: transparent;\n",
              "      border-right-color: var(--fill-color);\n",
              "      border-bottom-color: var(--fill-color);\n",
              "    }\n",
              "    90% {\n",
              "      border-color: transparent;\n",
              "      border-bottom-color: var(--fill-color);\n",
              "    }\n",
              "  }\n",
              "</style>\n",
              "\n",
              "  <script>\n",
              "    async function quickchart(key) {\n",
              "      const quickchartButtonEl =\n",
              "        document.querySelector('#' + key + ' button');\n",
              "      quickchartButtonEl.disabled = true;  // To prevent multiple clicks.\n",
              "      quickchartButtonEl.classList.add('colab-df-spinner');\n",
              "      try {\n",
              "        const charts = await google.colab.kernel.invokeFunction(\n",
              "            'suggestCharts', [key], {});\n",
              "      } catch (error) {\n",
              "        console.error('Error during call to suggestCharts:', error);\n",
              "      }\n",
              "      quickchartButtonEl.classList.remove('colab-df-spinner');\n",
              "      quickchartButtonEl.classList.add('colab-df-quickchart-complete');\n",
              "    }\n",
              "    (() => {\n",
              "      let quickchartButtonEl =\n",
              "        document.querySelector('#df-02d4823d-d46e-4122-9c8f-daa2c1d58f67 button');\n",
              "      quickchartButtonEl.style.display =\n",
              "        google.colab.kernel.accessAllowed ? 'block' : 'none';\n",
              "    })();\n",
              "  </script>\n",
              "</div>\n",
              "    </div>\n",
              "  </div>\n"
            ]
          },
          "metadata": {},
          "execution_count": 28
        }
      ],
      "source": [
        "# Extract features and do preprocessing if needed\n",
        "# TODO\n",
        "df_test = convert(df_test)\n",
        "df_test.head()"
      ]
    },
    {
      "cell_type": "code",
      "execution_count": 29,
      "metadata": {
        "id": "d_tUAPWEFs2R",
        "outputId": "cdca4d52-0f45-4017-ff08-9674ea3250ae",
        "colab": {
          "base_uri": "https://localhost:8080/"
        }
      },
      "outputs": [
        {
          "output_type": "stream",
          "name": "stdout",
          "text": [
            "column user_id: [ 0  1  2  3  4  5  6  7  8  9 10 11 12 13 14 15 16 17 18 19 20 21 22 23\n",
            " 24 25 26 27 28 29 30 31 32 33 34 35 36 37 38 39 40 41 42 43 44 45 46 47\n",
            " 48 49 50 51 52 53 54 55 56 57 58 59]\n",
            "\n",
            "column Day: [0 1 2 3 4 6 5]\n",
            "\n",
            "column origin: ['work' 'restaurant' 'home' 'park' 'university' 'gym' 'pool']\n",
            "\n",
            "column origin lat: [35.625 36.    35.68  35.745 35.705 35.815 35.75  35.65  35.675 35.69\n",
            " 35.785 35.995 35.875 35.5   35.805 35.95  35.575 35.505 35.56  35.51\n",
            " 35.565 35.54  35.52  35.91  35.735 35.76  35.55  35.82  35.765 35.945\n",
            " 35.7   35.97  35.865 35.74  35.955 35.725 35.8   35.525 35.98  35.62\n",
            " 35.81  35.635 35.975 35.89  35.615 35.59  35.535 35.77  35.555 35.84\n",
            " 35.845 35.64  35.595 35.99  35.775 35.53  35.855 35.71  35.545 35.9\n",
            " 35.93  35.905 35.825 35.83 ]\n",
            "\n",
            "column origin long: [51.375 51.085 51.445 51.465 51.295 51.32  51.385 51.31  51.37  51.24\n",
            " 51.    51.045 51.275 51.315 51.5   51.345 51.185 51.42  51.18  51.415\n",
            " 51.155 51.06  51.285 51.19  51.4   51.225 51.075 51.17  51.115 51.25\n",
            " 51.135 51.215 51.025 51.26  51.2   51.195 51.12  51.245 51.15  51.3\n",
            " 51.1   51.05  51.47  51.435 51.46  51.125 51.21  51.175 51.305 51.28\n",
            " 51.13  51.165 51.235 51.27  51.475 51.39  51.485 51.09  51.29  51.145\n",
            " 51.095 51.495 51.11  51.035 51.35 ]\n",
            "\n",
            "column target: ['restaurant' 'work' 'home' 'park' 'university' 'gym' 'pool']\n",
            "\n",
            "column shour: [13 15 20 21 23  7 14 22 12 17 16  8 11  9 10 18 19  6]\n",
            "\n",
            "column smin: [ 7 13 41 24 38 59 19 55 11  8  3  0 50 23 40 28  1  5 54 29 44 36 49 21\n",
            " 33 51 35 30 56 17  6 42 15 53 20 37 32 46 26 25 22  9 48 34  4 16 45 27\n",
            " 12 31 57 52 18  2 47 10 43 58 14 39]\n",
            "\n"
          ]
        }
      ],
      "source": [
        "# print out the unique values for each column\n",
        "# TODO\n",
        "for column in df.columns:\n",
        "    unique_values = df[column].unique()\n",
        "    print(f'column {column}: {unique_values}\\n')"
      ]
    },
    {
      "cell_type": "code",
      "execution_count": 30,
      "metadata": {
        "id": "YWW_TKSlFs2R",
        "outputId": "c52a5a96-d551-4f55-8c80-d4c8b51e4307",
        "colab": {
          "base_uri": "https://localhost:8080/"
        }
      },
      "outputs": [
        {
          "output_type": "stream",
          "name": "stdout",
          "text": [
            "<class 'pandas.core.frame.DataFrame'>\n",
            "RangeIndex: 17994 entries, 0 to 17993\n",
            "Data columns (total 8 columns):\n",
            " #   Column       Non-Null Count  Dtype  \n",
            "---  ------       --------------  -----  \n",
            " 0   user_id      17994 non-null  int64  \n",
            " 1   Day          17994 non-null  int64  \n",
            " 2   origin       17994 non-null  object \n",
            " 3   origin lat   17994 non-null  float64\n",
            " 4   origin long  17994 non-null  float64\n",
            " 5   target       17994 non-null  object \n",
            " 6   shour        17994 non-null  int64  \n",
            " 7   smin         17994 non-null  int64  \n",
            "dtypes: float64(2), int64(4), object(2)\n",
            "memory usage: 1.1+ MB\n"
          ]
        }
      ],
      "source": [
        "import pandas as pd\n",
        "\n",
        "# print out the data type of each column\n",
        "# TODO\n",
        "df.info()"
      ]
    },
    {
      "cell_type": "markdown",
      "metadata": {
        "id": "FwbGR9UrFs2R"
      },
      "source": [
        "Based on your features and how you extracted them, you may need to use some encodings for your data. For example, if you have different classes as names (`str` data type. E.g. \"gym\") you need to make it a numeric value in order to feed it into your neural network. You can use `sklearn`'s functions (such as `LabelEncoder`, `OneHotEncoder`, `StandardScaler`, etc.) to do these kind of stuff!"
      ]
    },
    {
      "cell_type": "code",
      "execution_count": 31,
      "metadata": {
        "id": "aUqM76XeFs2S"
      },
      "outputs": [],
      "source": [
        "import pandas as pd\n",
        "from sklearn.model_selection import train_test_split\n",
        "from sklearn.preprocessing import StandardScaler, LabelEncoder\n",
        "\n",
        "# Finalize the data (do all preprocessing needed)\n",
        "# TODO\n",
        "\n",
        "\n",
        "\n",
        "target_encoder = LabelEncoder()\n",
        "\n",
        "df['target'] = target_encoder.fit_transform(df['target'])\n",
        "df_test['target'] = target_encoder.transform(df_test['target'])\n",
        "\n",
        "df_train_y = df['target'].copy()\n",
        "df_train_x = df.drop('target', axis = 1).copy()\n",
        "\n",
        "df_test_y = df_test['target'].copy()\n",
        "df_test_x = df_test.drop('target', axis = 1).copy()\n"
      ]
    },
    {
      "cell_type": "code",
      "source": [
        "df_train_xd = pd.get_dummies(df_train_x, columns=['origin', 'Day'])\n",
        "df_test_xd = pd.get_dummies(df_test_x, columns=['origin', 'Day'])"
      ],
      "metadata": {
        "id": "xKrOlYKsKdc8"
      },
      "execution_count": 32,
      "outputs": []
    },
    {
      "cell_type": "code",
      "source": [
        "scaler = StandardScaler()\n",
        "df_train_ready_x = pd.DataFrame(scaler.fit_transform(df_train_xd), columns=df_train_xd.columns)\n",
        "df_test_ready_x = pd.DataFrame(scaler.transform(df_test_xd), columns=df_test_xd.columns)"
      ],
      "metadata": {
        "id": "A2LCfjEL5gtu"
      },
      "execution_count": 33,
      "outputs": []
    },
    {
      "cell_type": "code",
      "source": [
        "df_train_ready_y = pd.get_dummies(df_train_y)\n",
        "df_test_ready_y = pd.get_dummies(df_test_y)"
      ],
      "metadata": {
        "id": "jjVAXbvL_Xum"
      },
      "execution_count": 34,
      "outputs": []
    },
    {
      "cell_type": "code",
      "source": [
        "X_train = df_train_ready_x.values\n",
        "y_train = df_train_ready_y.values\n",
        "\n",
        "X_test = df_test_ready_x.values\n",
        "y_test = df_test_ready_y.values\n",
        "print(X_test.shape, y_test.shape)\n",
        "print(X_train.shape, y_train.shape)"
      ],
      "metadata": {
        "colab": {
          "base_uri": "https://localhost:8080/"
        },
        "id": "B-ZHAspZATqZ",
        "outputId": "dfe5a0a3-89cb-4c77-bb2c-a85fd216c716"
      },
      "execution_count": 35,
      "outputs": [
        {
          "output_type": "stream",
          "name": "stdout",
          "text": [
            "(4499, 19) (4499, 7)\n",
            "(17994, 19) (17994, 7)\n"
          ]
        }
      ]
    },
    {
      "cell_type": "markdown",
      "metadata": {
        "id": "V3njkuqUFs2S"
      },
      "source": [
        "Create `train_dataset` and its loader, also create `test_dataset` and its loader. You should also create `val_dataset` and its loader if you want to use validation set. You may need to implement a custom `torch.Dataset` class for your ease. Your loaders should be able to load data in batches."
      ]
    },
    {
      "cell_type": "code",
      "execution_count": 36,
      "metadata": {
        "id": "-7723Ie9Fs2S"
      },
      "outputs": [],
      "source": [
        "import pandas as pd\n",
        "from sklearn.model_selection import train_test_split\n",
        "import torch\n",
        "from torch.utils.data import Dataset, DataLoader\n",
        "import torch.nn as nn\n",
        "import torch.nn.functional as F\n",
        "import torch.optim as optim\n",
        "import matplotlib.pyplot as plt\n",
        "\n",
        "import numpy as np\n",
        "import torch\n",
        "from torch.utils.data import Dataset, DataLoader\n",
        "from sklearn.model_selection import train_test_split\n",
        "\n",
        "\n",
        "class CustomDataset(Dataset):\n",
        "    def __init__(self, features, targets):\n",
        "        self.features = torch.tensor(features, dtype=torch.float32)\n",
        "        self.targets = torch.tensor(targets, dtype=torch.float32)\n",
        "\n",
        "    def __len__(self):\n",
        "        return len(self.features)\n",
        "\n",
        "    def __getitem__(self, idx):\n",
        "        return self.features[idx], self.targets[idx]\n",
        "\n",
        "X_train, X_val, y_train, y_val = train_test_split(X_train, y_train, test_size=0.1, random_state=42)\n",
        "\n",
        "train_dataset = CustomDataset(X_train, y_train)\n",
        "val_dataset = CustomDataset(X_val, y_val)\n",
        "test_dataset = CustomDataset(X_test, y_test)\n",
        "\n",
        "batch_size = 32\n",
        "train_loader = DataLoader(train_dataset, batch_size=batch_size, shuffle=True)\n",
        "val_loader = DataLoader(val_dataset, batch_size=batch_size, shuffle=True)\n",
        "test_loader = DataLoader(test_dataset, batch_size=batch_size, shuffle=False)\n"
      ]
    },
    {
      "cell_type": "markdown",
      "metadata": {
        "id": "mifairNdFs2S"
      },
      "source": [
        "## Neural Network Model"
      ]
    },
    {
      "cell_type": "markdown",
      "metadata": {
        "id": "A3jLBvNfFs2S"
      },
      "source": [
        "Here, you should implement your neural network model. You should use `pytorch`. **Note** that you should plot the loss function of your model during the training phase. (on both training and validation sets)"
      ]
    },
    {
      "cell_type": "code",
      "source": [
        "import torch\n",
        "import torch.nn as nn\n",
        "import torch.optim as optim\n",
        "import matplotlib.pyplot as plt\n",
        "\n",
        "class MLP(nn.Module):\n",
        "    def __init__(self, input_dim, output_dim):\n",
        "        super(MLP, self).__init__()\n",
        "        self.fc1 = nn.Linear(input_dim, 64)\n",
        "        self.relu1 = nn.ReLU()\n",
        "        self.fc2 = nn.Linear(64, 32)\n",
        "        self.relu2 = nn.ReLU()\n",
        "        self.fc3 = nn.Linear(32, output_dim)\n",
        "\n",
        "    def forward(self, x):\n",
        "        x = self.fc1(x)\n",
        "        x = self.relu1(x)\n",
        "        x = self.fc2(x)\n",
        "        x = self.fc3(self.relu2(x))\n",
        "        return x\n",
        "\n",
        "input_dim = 19\n",
        "output_dim = 7\n",
        "model = MLP(input_dim=input_dim, output_dim=output_dim)\n",
        "criterion = nn.CrossEntropyLoss()\n",
        "optimizer = optim.Adam(model.parameters(), lr=0.001)\n",
        "\n",
        "def train_model(model, train_loader, val_loader, criterion, optimizer, epochs):\n",
        "    train_losses = []\n",
        "    val_losses = []\n",
        "    best_val_loss = float('inf')\n",
        "    best_model_params = None\n",
        "\n",
        "    for epoch in range(epochs):\n",
        "        model.train()\n",
        "        train_loss = 0.0\n",
        "\n",
        "        for inputs, labels in train_loader:\n",
        "            optimizer.zero_grad()\n",
        "            outputs = model(inputs)\n",
        "            loss = criterion(outputs, labels)\n",
        "            loss.backward()\n",
        "            optimizer.step()\n",
        "            train_loss += loss.item()\n",
        "\n",
        "        train_loss /= len(train_loader)\n",
        "        train_losses.append(train_loss)\n",
        "\n",
        "        model.eval()\n",
        "        val_loss = 0.0\n",
        "\n",
        "        with torch.no_grad():\n",
        "            for inputs, labels in val_loader:\n",
        "                outputs = model(inputs)\n",
        "                loss = criterion(outputs, labels)\n",
        "                val_loss += loss.item()\n",
        "\n",
        "        val_loss /= len(val_loader)\n",
        "        val_losses.append(val_loss)\n",
        "\n",
        "        print(f\"Epoch {epoch + 1}/{epochs}, Train Loss: {train_loss:.4f}, Val Loss: {val_loss:.4f}\")\n",
        "        if val_loss < best_val_loss:\n",
        "            best_val_loss = val_loss\n",
        "            best_model_params = model.state_dict()\n",
        "    return best_model_params\n",
        "\n",
        "    plt.plot(range(1, epochs + 1), train_losses, label='Training Loss')\n",
        "    plt.plot(range(1, epochs + 1), val_losses, label='Validation Loss')\n",
        "    plt.xlabel('Epoch')\n",
        "    plt.ylabel('Loss')\n",
        "    plt.legend()\n",
        "    plt.show()\n",
        "\n"
      ],
      "metadata": {
        "id": "4X0cAkoOCfJW"
      },
      "execution_count": 37,
      "outputs": []
    },
    {
      "cell_type": "code",
      "execution_count": 38,
      "metadata": {
        "id": "7rF_vfe9Fs2S",
        "outputId": "30df4c1c-418b-4d30-8cb8-d7b05433eb76",
        "colab": {
          "base_uri": "https://localhost:8080/"
        }
      },
      "outputs": [
        {
          "output_type": "stream",
          "name": "stdout",
          "text": [
            "Epoch 1/100, Train Loss: 0.8584, Val Loss: 0.5673\n",
            "Epoch 2/100, Train Loss: 0.4901, Val Loss: 0.4593\n",
            "Epoch 3/100, Train Loss: 0.4168, Val Loss: 0.3964\n",
            "Epoch 4/100, Train Loss: 0.3723, Val Loss: 0.3533\n",
            "Epoch 5/100, Train Loss: 0.3426, Val Loss: 0.3267\n",
            "Epoch 6/100, Train Loss: 0.3248, Val Loss: 0.3131\n",
            "Epoch 7/100, Train Loss: 0.3116, Val Loss: 0.3281\n",
            "Epoch 8/100, Train Loss: 0.3024, Val Loss: 0.3055\n",
            "Epoch 9/100, Train Loss: 0.2961, Val Loss: 0.2958\n",
            "Epoch 10/100, Train Loss: 0.2907, Val Loss: 0.2874\n",
            "Epoch 11/100, Train Loss: 0.2856, Val Loss: 0.3011\n",
            "Epoch 12/100, Train Loss: 0.2824, Val Loss: 0.2938\n",
            "Epoch 13/100, Train Loss: 0.2785, Val Loss: 0.2884\n",
            "Epoch 14/100, Train Loss: 0.2771, Val Loss: 0.2823\n",
            "Epoch 15/100, Train Loss: 0.2746, Val Loss: 0.2776\n",
            "Epoch 16/100, Train Loss: 0.2699, Val Loss: 0.2701\n",
            "Epoch 17/100, Train Loss: 0.2666, Val Loss: 0.2737\n",
            "Epoch 18/100, Train Loss: 0.2664, Val Loss: 0.2666\n",
            "Epoch 19/100, Train Loss: 0.2643, Val Loss: 0.2789\n",
            "Epoch 20/100, Train Loss: 0.2618, Val Loss: 0.2724\n",
            "Epoch 21/100, Train Loss: 0.2627, Val Loss: 0.2640\n",
            "Epoch 22/100, Train Loss: 0.2575, Val Loss: 0.2718\n",
            "Epoch 23/100, Train Loss: 0.2542, Val Loss: 0.2747\n",
            "Epoch 24/100, Train Loss: 0.2553, Val Loss: 0.2671\n",
            "Epoch 25/100, Train Loss: 0.2514, Val Loss: 0.2630\n",
            "Epoch 26/100, Train Loss: 0.2506, Val Loss: 0.2695\n",
            "Epoch 27/100, Train Loss: 0.2481, Val Loss: 0.2708\n",
            "Epoch 28/100, Train Loss: 0.2487, Val Loss: 0.2699\n",
            "Epoch 29/100, Train Loss: 0.2463, Val Loss: 0.2665\n",
            "Epoch 30/100, Train Loss: 0.2467, Val Loss: 0.2668\n",
            "Epoch 31/100, Train Loss: 0.2445, Val Loss: 0.2575\n",
            "Epoch 32/100, Train Loss: 0.2431, Val Loss: 0.2669\n",
            "Epoch 33/100, Train Loss: 0.2436, Val Loss: 0.2649\n",
            "Epoch 34/100, Train Loss: 0.2403, Val Loss: 0.2629\n",
            "Epoch 35/100, Train Loss: 0.2398, Val Loss: 0.2670\n",
            "Epoch 36/100, Train Loss: 0.2371, Val Loss: 0.2624\n",
            "Epoch 37/100, Train Loss: 0.2375, Val Loss: 0.2558\n",
            "Epoch 38/100, Train Loss: 0.2356, Val Loss: 0.2630\n",
            "Epoch 39/100, Train Loss: 0.2351, Val Loss: 0.2668\n",
            "Epoch 40/100, Train Loss: 0.2322, Val Loss: 0.2651\n",
            "Epoch 41/100, Train Loss: 0.2320, Val Loss: 0.2612\n",
            "Epoch 42/100, Train Loss: 0.2309, Val Loss: 0.2535\n",
            "Epoch 43/100, Train Loss: 0.2308, Val Loss: 0.2720\n",
            "Epoch 44/100, Train Loss: 0.2287, Val Loss: 0.2595\n",
            "Epoch 45/100, Train Loss: 0.2315, Val Loss: 0.2777\n",
            "Epoch 46/100, Train Loss: 0.2298, Val Loss: 0.2701\n",
            "Epoch 47/100, Train Loss: 0.2270, Val Loss: 0.2545\n",
            "Epoch 48/100, Train Loss: 0.2247, Val Loss: 0.2638\n",
            "Epoch 49/100, Train Loss: 0.2271, Val Loss: 0.2569\n",
            "Epoch 50/100, Train Loss: 0.2265, Val Loss: 0.2655\n",
            "Epoch 51/100, Train Loss: 0.2248, Val Loss: 0.2649\n",
            "Epoch 52/100, Train Loss: 0.2218, Val Loss: 0.2447\n",
            "Epoch 53/100, Train Loss: 0.2210, Val Loss: 0.2657\n",
            "Epoch 54/100, Train Loss: 0.2195, Val Loss: 0.2561\n",
            "Epoch 55/100, Train Loss: 0.2175, Val Loss: 0.2524\n",
            "Epoch 56/100, Train Loss: 0.2174, Val Loss: 0.2553\n",
            "Epoch 57/100, Train Loss: 0.2169, Val Loss: 0.2663\n",
            "Epoch 58/100, Train Loss: 0.2161, Val Loss: 0.2466\n",
            "Epoch 59/100, Train Loss: 0.2153, Val Loss: 0.2628\n",
            "Epoch 60/100, Train Loss: 0.2147, Val Loss: 0.2527\n",
            "Epoch 61/100, Train Loss: 0.2130, Val Loss: 0.2569\n",
            "Epoch 62/100, Train Loss: 0.2144, Val Loss: 0.2503\n",
            "Epoch 63/100, Train Loss: 0.2129, Val Loss: 0.2605\n",
            "Epoch 64/100, Train Loss: 0.2107, Val Loss: 0.2609\n",
            "Epoch 65/100, Train Loss: 0.2093, Val Loss: 0.2609\n",
            "Epoch 66/100, Train Loss: 0.2097, Val Loss: 0.2586\n",
            "Epoch 67/100, Train Loss: 0.2097, Val Loss: 0.2499\n",
            "Epoch 68/100, Train Loss: 0.2077, Val Loss: 0.2444\n",
            "Epoch 69/100, Train Loss: 0.2073, Val Loss: 0.2464\n",
            "Epoch 70/100, Train Loss: 0.2083, Val Loss: 0.2494\n",
            "Epoch 71/100, Train Loss: 0.2075, Val Loss: 0.2487\n",
            "Epoch 72/100, Train Loss: 0.2055, Val Loss: 0.2508\n",
            "Epoch 73/100, Train Loss: 0.2057, Val Loss: 0.2472\n",
            "Epoch 74/100, Train Loss: 0.2040, Val Loss: 0.2535\n",
            "Epoch 75/100, Train Loss: 0.2044, Val Loss: 0.2500\n",
            "Epoch 76/100, Train Loss: 0.2033, Val Loss: 0.2523\n",
            "Epoch 77/100, Train Loss: 0.2025, Val Loss: 0.2472\n",
            "Epoch 78/100, Train Loss: 0.2013, Val Loss: 0.2504\n",
            "Epoch 79/100, Train Loss: 0.1993, Val Loss: 0.2439\n",
            "Epoch 80/100, Train Loss: 0.1995, Val Loss: 0.2583\n",
            "Epoch 81/100, Train Loss: 0.2017, Val Loss: 0.2413\n",
            "Epoch 82/100, Train Loss: 0.2006, Val Loss: 0.2532\n",
            "Epoch 83/100, Train Loss: 0.2003, Val Loss: 0.2546\n",
            "Epoch 84/100, Train Loss: 0.1999, Val Loss: 0.2413\n",
            "Epoch 85/100, Train Loss: 0.1977, Val Loss: 0.2417\n",
            "Epoch 86/100, Train Loss: 0.1965, Val Loss: 0.2427\n",
            "Epoch 87/100, Train Loss: 0.1957, Val Loss: 0.2507\n",
            "Epoch 88/100, Train Loss: 0.1962, Val Loss: 0.2434\n",
            "Epoch 89/100, Train Loss: 0.1955, Val Loss: 0.2472\n",
            "Epoch 90/100, Train Loss: 0.1916, Val Loss: 0.2479\n",
            "Epoch 91/100, Train Loss: 0.1948, Val Loss: 0.2444\n",
            "Epoch 92/100, Train Loss: 0.1937, Val Loss: 0.2520\n",
            "Epoch 93/100, Train Loss: 0.1937, Val Loss: 0.2438\n",
            "Epoch 94/100, Train Loss: 0.1934, Val Loss: 0.2586\n",
            "Epoch 95/100, Train Loss: 0.1910, Val Loss: 0.2422\n",
            "Epoch 96/100, Train Loss: 0.1924, Val Loss: 0.2451\n",
            "Epoch 97/100, Train Loss: 0.1928, Val Loss: 0.2401\n",
            "Epoch 98/100, Train Loss: 0.1895, Val Loss: 0.2577\n",
            "Epoch 99/100, Train Loss: 0.1927, Val Loss: 0.2436\n",
            "Epoch 100/100, Train Loss: 0.1915, Val Loss: 0.2510\n"
          ]
        }
      ],
      "source": [
        "best_params = train_model(model, train_loader, val_loader, criterion, optimizer, epochs=100)"
      ]
    },
    {
      "cell_type": "markdown",
      "metadata": {
        "id": "jTRgAk5KFs2S"
      },
      "source": [
        "## Evaluate Neural Network Model"
      ]
    },
    {
      "cell_type": "markdown",
      "metadata": {
        "id": "Dne4uBTsFs2S"
      },
      "source": [
        "Report the model's accuracy on the test set."
      ]
    },
    {
      "cell_type": "code",
      "execution_count": 39,
      "metadata": {
        "id": "JQ-jTDNKFs2T",
        "outputId": "f30c92e8-f80f-4f86-e799-ebd9b76dc482",
        "colab": {
          "base_uri": "https://localhost:8080/"
        }
      },
      "outputs": [
        {
          "output_type": "execute_result",
          "data": {
            "text/plain": [
              "0.8899755501222494"
            ]
          },
          "metadata": {},
          "execution_count": 39
        }
      ],
      "source": [
        "# report model accuracy on test data\n",
        "# TODO\n",
        "def calculate_accuracy(model, dataloader):\n",
        "    model.eval()\n",
        "    correct = 0\n",
        "    total = 0\n",
        "\n",
        "    with torch.no_grad():\n",
        "        for inputs, labels in dataloader:\n",
        "            outputs = model(inputs)\n",
        "            _, predicted = torch.max(outputs, 1)\n",
        "            total += labels.size(0)\n",
        "            _, labels = torch.max(labels, 1)\n",
        "            correct += (predicted == labels).sum().item()\n",
        "\n",
        "    accuracy = correct / total\n",
        "    return accuracy\n",
        "\n",
        "model.load_state_dict(best_params)\n",
        "calculate_accuracy(model, test_loader)"
      ]
    },
    {
      "cell_type": "markdown",
      "metadata": {
        "id": "EcD_PmSYFs2T"
      },
      "source": [
        "Just for the sake of curiosity, let's take a random sample from the test set and see the model's prediction. So, randomly choose a sample from the test set and print it out (to see its features and also the correct output). Then, feed the features into your model and see what it predicts. Is it correct?"
      ]
    },
    {
      "cell_type": "code",
      "execution_count": 40,
      "metadata": {
        "id": "eDGw0kOyFs2T",
        "outputId": "b41fcda6-0658-4607-a597-bc92bd21348f",
        "colab": {
          "base_uri": "https://localhost:8080/"
        }
      },
      "outputs": [
        {
          "output_type": "execute_result",
          "data": {
            "text/plain": [
              "user_id              0.753298\n",
              "origin lat          -0.035854\n",
              "origin long          1.688047\n",
              "shour                0.183275\n",
              "smin                -1.533597\n",
              "origin_gym          -0.181033\n",
              "origin_home         -0.669397\n",
              "origin_park         -0.179554\n",
              "origin_pool         -0.180869\n",
              "origin_restaurant    1.587219\n",
              "origin_university   -0.245773\n",
              "origin_work         -0.584752\n",
              "Day_0               -0.452126\n",
              "Day_1               -0.433813\n",
              "Day_2               -0.429191\n",
              "Day_3               -0.429555\n",
              "Day_4                2.312378\n",
              "Day_5               -0.335244\n",
              "Day_6               -0.336985\n",
              "Name: 3850, dtype: float64"
            ]
          },
          "metadata": {},
          "execution_count": 40
        }
      ],
      "source": [
        "import random\n",
        "# TODO: choose a random sample from test data and print it out\n",
        "rsi = random.randint(0, len(df_test_ready_x)-1)\n",
        "rs = df_test_ready_x.iloc[rsi]\n",
        "rs_label = df_test_ready_y.iloc[rsi]\n",
        "rs"
      ]
    },
    {
      "cell_type": "code",
      "execution_count": 41,
      "metadata": {
        "id": "Rbedkf44Fs2T",
        "outputId": "d9d51f5f-98cb-45a2-8a2e-fad1217e1a76",
        "colab": {
          "base_uri": "https://localhost:8080/"
        }
      },
      "outputs": [
        {
          "output_type": "execute_result",
          "data": {
            "text/plain": [
              "tensor(6)"
            ]
          },
          "metadata": {},
          "execution_count": 41
        }
      ],
      "source": [
        "# TODO: predict the destination of the above sample\n",
        "# print out the prediction\n",
        "data = rs.values\n",
        "model.eval()\n",
        "with torch.no_grad():\n",
        "    data = torch.FloatTensor(data)\n",
        "    outputs = model(data)\n",
        "    _, pred = torch.max(outputs, 0)\n",
        "\n",
        "pred\n",
        "\n",
        "\n"
      ]
    },
    {
      "cell_type": "code",
      "execution_count": 42,
      "metadata": {
        "id": "Yc8_Gw-nFs2T",
        "outputId": "0ede5c63-8f5c-46b2-f313-dac281c24e24",
        "colab": {
          "base_uri": "https://localhost:8080/"
        }
      },
      "outputs": [
        {
          "output_type": "execute_result",
          "data": {
            "text/plain": [
              "6"
            ]
          },
          "metadata": {},
          "execution_count": 42
        }
      ],
      "source": [
        "# TODO: print out the actual destination of the above sample\n",
        "np.argmax(rs_label)\n"
      ]
    },
    {
      "cell_type": "markdown",
      "metadata": {
        "id": "_Fjo1vp4Fs2T"
      },
      "source": [
        "Now, use the inverse transform of the encoding you used earlier to get the name of the destination from the predicted class. Print it out and see if it's correct."
      ]
    },
    {
      "cell_type": "code",
      "execution_count": 43,
      "metadata": {
        "id": "5eoFQ2alFs2T",
        "outputId": "299eb9d1-73d4-4c6a-fba9-d47bd3fd56de",
        "colab": {
          "base_uri": "https://localhost:8080/"
        }
      },
      "outputs": [
        {
          "output_type": "execute_result",
          "data": {
            "text/plain": [
              "array(['work'], dtype=object)"
            ]
          },
          "metadata": {},
          "execution_count": 43
        }
      ],
      "source": [
        "# TODO: use inverse_transform to print out the actual name of destination of the above sample\n",
        "res = pred.detach().numpy()\n",
        "decoded_data = target_encoder.inverse_transform([res])\n",
        "decoded_data"
      ]
    },
    {
      "cell_type": "markdown",
      "metadata": {
        "id": "RR_qlaLwFs2T"
      },
      "source": [
        "**QUESTION**: What do you think about this approach? Is it a good idea to use Neural Networks for this problem? Why (or why not)? If the patterns in our datatset (passengers' history) get more complicated, will our model be robust to it in comparison to other models?\n",
        "\n",
        "Your Answer: this model performed well and appeared to be a good estimator because it is very powerfull in estimating complex functions. it will be robust because we monitored it's learning with val set and it didn't overfitt on the training and therefore perfomed well on the test set. So it is robust because we can say that it didn't memorize the data and learned the patterns truely."
      ]
    },
    {
      "cell_type": "markdown",
      "metadata": {
        "id": "Um19GINGFs2U"
      },
      "source": [
        "# How to Submit:\n",
        "\n",
        "Please upload your notebook (`.ipynb`) compressed (as a `.zip` file) or uncompressed on Quera. **Note** that for each part, the accuracy of your model on the given test dataset is important. So, your accuracy should be **at least** same as ours (or better). Also, we will check your code after the submission. So, please make sure that there are no **data snooping** or **data leakage** in your code. You **can not** use the test data in any stages for your model, except for the final evaluation part! So, please be ware of that, or you may lose points.\n",
        "\n",
        "Your project is graded via 2 main parts:\n",
        "1. Checking out your implementation (to check if there are no \"data snooping\" and \"data leakage\")\n",
        "   \n",
        "2. Checking accuracies of your models on the test set.\n",
        "\n",
        "3. Running again your code by you in the \"in-person\" session and hearing your explanations (on the parts that we asked questions about the models, overfitting and etc. with tag \"QUESTION\" in the notebook)."
      ]
    },
    {
      "cell_type": "markdown",
      "metadata": {
        "id": "3z4wGOmEFs2U"
      },
      "source": []
    }
  ],
  "metadata": {
    "kernelspec": {
      "display_name": "Python 3",
      "language": "python",
      "name": "python3"
    },
    "language_info": {
      "codemirror_mode": {
        "name": "ipython",
        "version": 3
      },
      "file_extension": ".py",
      "mimetype": "text/x-python",
      "name": "python",
      "nbconvert_exporter": "python",
      "pygments_lexer": "ipython3",
      "version": "3.11.0"
    },
    "vscode": {
      "interpreter": {
        "hash": "de47f5c92c0ee6f12a59a5613ac5feff6aab19ddff207ba0b3964cced08c4ccc"
      }
    },
    "colab": {
      "provenance": []
    },
    "widgets": {
      "application/vnd.jupyter.widget-state+json": {
        "88d34b6c57994346ba0f026e61b27806": {
          "model_module": "keplergl-jupyter",
          "model_name": "KeplerGlModal",
          "model_module_version": "^0.3.2",
          "state": {
            "_dom_classes": [],
            "_model_module": "keplergl-jupyter",
            "_model_module_version": "^0.3.2",
            "_model_name": "KeplerGlModal",
            "_view_count": null,
            "_view_module": "keplergl-jupyter",
            "_view_module_version": "^0.3.2",
            "_view_name": "KeplerGlView",
            "config": {},
            "data": {
              "my_data": {
                "index": [
                  9161,
                  9162,
                  9163,
                  9164,
                  9165,
                  9166,
                  9167,
                  9168,
                  9169,
                  9170,
                  9171,
                  9172,
                  9173,
                  9174,
                  9175,
                  9176,
                  9177,
                  9178,
                  9179,
                  9180,
                  9181,
                  9182,
                  9183,
                  9184,
                  9185,
                  9186,
                  9187,
                  9188,
                  9189,
                  9190,
                  9191,
                  9192,
                  9193,
                  9194,
                  9195,
                  9196,
                  9197,
                  9198,
                  9199,
                  9200,
                  9201,
                  9202,
                  9203,
                  9204,
                  9205,
                  9206,
                  9207,
                  9208,
                  9209,
                  9210,
                  9211,
                  9212,
                  9213,
                  9214,
                  9215,
                  9216,
                  9217,
                  9218,
                  9219,
                  9220,
                  9221,
                  9222,
                  9223,
                  9224,
                  9225,
                  9226,
                  9227,
                  9228,
                  9229,
                  9230,
                  9231,
                  9232,
                  9233,
                  9234,
                  9235,
                  9236,
                  9237,
                  9238,
                  9239,
                  9240,
                  9241,
                  9242,
                  9243,
                  9244,
                  9245,
                  9246,
                  9247,
                  9248,
                  9249,
                  9250,
                  9251,
                  9252,
                  9253,
                  9254,
                  9255,
                  9256,
                  9257,
                  9258,
                  9259,
                  9260,
                  9261,
                  9262,
                  9263,
                  9264,
                  9265,
                  9266,
                  9267,
                  9268,
                  9269,
                  9270,
                  9271,
                  9272,
                  9273,
                  9274,
                  9275,
                  9276,
                  9277,
                  9278,
                  9279,
                  9280,
                  9281,
                  9282,
                  9283,
                  9284,
                  9285,
                  9286,
                  9287,
                  9288,
                  9289,
                  9290,
                  9291,
                  9292,
                  9293,
                  9294,
                  9295,
                  9296,
                  9297,
                  9298,
                  9299,
                  9300,
                  9301,
                  9302,
                  9303,
                  9304,
                  9305,
                  9306,
                  9307,
                  9308,
                  9309,
                  9310,
                  9311,
                  9312,
                  9313,
                  9314,
                  9315,
                  9316,
                  9317,
                  9318,
                  9319,
                  9320,
                  9321,
                  9322,
                  9323,
                  9324,
                  9325,
                  9326,
                  9327,
                  9328,
                  9329,
                  9330,
                  9331,
                  9332,
                  9333,
                  9334,
                  9335,
                  9336,
                  9337,
                  9338,
                  9339,
                  9340,
                  9341,
                  9342,
                  9343,
                  9344,
                  9345,
                  9346,
                  9347,
                  9348,
                  9349,
                  9350,
                  9351,
                  9352,
                  9353
                ],
                "columns": [
                  "dest lat",
                  "dest lon"
                ],
                "data": [
                  [
                    35.625,
                    51.25
                  ],
                  [
                    35.95,
                    51.28
                  ],
                  [
                    35.82,
                    51.225
                  ],
                  [
                    35.95,
                    51.28
                  ],
                  [
                    35.625,
                    51.25
                  ],
                  [
                    35.69,
                    51.295
                  ],
                  [
                    35.95,
                    51.28
                  ],
                  [
                    35.95,
                    51.28
                  ],
                  [
                    35.75,
                    51.385
                  ],
                  [
                    35.95,
                    51.28
                  ],
                  [
                    35.765,
                    51.075
                  ],
                  [
                    35.625,
                    51.25
                  ],
                  [
                    36,
                    51.085
                  ],
                  [
                    35.54,
                    51.5
                  ],
                  [
                    35.625,
                    51.25
                  ],
                  [
                    35.975,
                    51.25
                  ],
                  [
                    35.95,
                    51.28
                  ],
                  [
                    36,
                    51
                  ],
                  [
                    35.95,
                    51.28
                  ],
                  [
                    35.65,
                    51.385
                  ],
                  [
                    35.95,
                    51.28
                  ],
                  [
                    35.625,
                    51.25
                  ],
                  [
                    35.745,
                    51.465
                  ],
                  [
                    35.95,
                    51.28
                  ],
                  [
                    35.625,
                    51.25
                  ],
                  [
                    35.55,
                    51.185
                  ],
                  [
                    35.625,
                    51.25
                  ],
                  [
                    35.95,
                    51.28
                  ],
                  [
                    35.815,
                    51.32
                  ],
                  [
                    36,
                    51
                  ],
                  [
                    35.95,
                    51.28
                  ],
                  [
                    35.51,
                    51.155
                  ],
                  [
                    35.95,
                    51.28
                  ],
                  [
                    35.69,
                    51.295
                  ],
                  [
                    35.52,
                    51.285
                  ],
                  [
                    35.95,
                    51.28
                  ],
                  [
                    35.785,
                    51.315
                  ],
                  [
                    35.625,
                    51.25
                  ],
                  [
                    35.675,
                    51.31
                  ],
                  [
                    35.625,
                    51.25
                  ],
                  [
                    35.74,
                    51.2
                  ],
                  [
                    35.625,
                    51.25
                  ],
                  [
                    35.575,
                    51.15
                  ],
                  [
                    35.69,
                    51.295
                  ],
                  [
                    35.95,
                    51.28
                  ],
                  [
                    35.95,
                    51.28
                  ],
                  [
                    35.625,
                    51.25
                  ],
                  [
                    35.95,
                    51.28
                  ],
                  [
                    36,
                    51.37
                  ],
                  [
                    35.765,
                    51.075
                  ],
                  [
                    35.625,
                    51.25
                  ],
                  [
                    35.95,
                    51.28
                  ],
                  [
                    35.69,
                    51.295
                  ],
                  [
                    35.95,
                    51.28
                  ],
                  [
                    35.675,
                    51.31
                  ],
                  [
                    35.95,
                    51.28
                  ],
                  [
                    35.525,
                    51.1
                  ],
                  [
                    35.76,
                    51.4
                  ],
                  [
                    36,
                    51
                  ],
                  [
                    35.95,
                    51.28
                  ],
                  [
                    36,
                    51.37
                  ],
                  [
                    35.95,
                    51.28
                  ],
                  [
                    35.625,
                    51.25
                  ],
                  [
                    35.875,
                    51.275
                  ],
                  [
                    35.95,
                    51.28
                  ],
                  [
                    35.76,
                    51.4
                  ],
                  [
                    35.625,
                    51.25
                  ],
                  [
                    35.65,
                    51.385
                  ],
                  [
                    35.95,
                    51.28
                  ],
                  [
                    35.625,
                    51.25
                  ],
                  [
                    35.625,
                    51.25
                  ],
                  [
                    35.95,
                    51.28
                  ],
                  [
                    35.725,
                    51.3
                  ],
                  [
                    35.82,
                    51.225
                  ],
                  [
                    36,
                    51
                  ],
                  [
                    35.95,
                    51.28
                  ],
                  [
                    35.95,
                    51.28
                  ],
                  [
                    35.625,
                    51.25
                  ],
                  [
                    35.625,
                    51.25
                  ],
                  [
                    35.95,
                    51.28
                  ],
                  [
                    35.82,
                    51.225
                  ],
                  [
                    35.625,
                    51.25
                  ],
                  [
                    35.865,
                    51.045
                  ],
                  [
                    35.625,
                    51.25
                  ],
                  [
                    35.975,
                    51.25
                  ],
                  [
                    35.95,
                    51.28
                  ],
                  [
                    35.625,
                    51.25
                  ],
                  [
                    35.565,
                    51.06
                  ],
                  [
                    35.95,
                    51.28
                  ],
                  [
                    35.625,
                    51.25
                  ],
                  [
                    35.65,
                    51.26
                  ],
                  [
                    35.975,
                    51.25
                  ],
                  [
                    35.95,
                    51.28
                  ],
                  [
                    35.745,
                    51.045
                  ],
                  [
                    35.95,
                    51.28
                  ],
                  [
                    35.765,
                    51.075
                  ],
                  [
                    35.625,
                    51.25
                  ],
                  [
                    35.705,
                    51.295
                  ],
                  [
                    35.625,
                    51.25
                  ],
                  [
                    35.675,
                    51.31
                  ],
                  [
                    35.625,
                    51.25
                  ],
                  [
                    35.95,
                    51.28
                  ],
                  [
                    35.505,
                    51.18
                  ],
                  [
                    35.625,
                    51.25
                  ],
                  [
                    35.95,
                    51.28
                  ],
                  [
                    35.65,
                    51.26
                  ],
                  [
                    35.95,
                    51.28
                  ],
                  [
                    35.69,
                    51.295
                  ],
                  [
                    35.95,
                    51.28
                  ],
                  [
                    35.625,
                    51.25
                  ],
                  [
                    35.95,
                    51.28
                  ],
                  [
                    35.625,
                    51.25
                  ],
                  [
                    35.65,
                    51.385
                  ],
                  [
                    35.95,
                    51.28
                  ],
                  [
                    36,
                    51.37
                  ],
                  [
                    35.625,
                    51.25
                  ],
                  [
                    35.95,
                    51.28
                  ],
                  [
                    35.975,
                    51.25
                  ],
                  [
                    36,
                    51
                  ],
                  [
                    35.95,
                    51.28
                  ],
                  [
                    35.625,
                    51.25
                  ],
                  [
                    35.995,
                    51
                  ],
                  [
                    36,
                    51.085
                  ],
                  [
                    35.95,
                    51.28
                  ],
                  [
                    35.625,
                    51.25
                  ],
                  [
                    35.875,
                    51.275
                  ],
                  [
                    35.95,
                    51.28
                  ],
                  [
                    35.625,
                    51.25
                  ],
                  [
                    35.75,
                    51.385
                  ],
                  [
                    35.95,
                    51.28
                  ],
                  [
                    35.625,
                    51.25
                  ],
                  [
                    35.675,
                    51.31
                  ],
                  [
                    35.95,
                    51.28
                  ],
                  [
                    35.975,
                    51.25
                  ],
                  [
                    35.95,
                    51.28
                  ],
                  [
                    35.95,
                    51.28
                  ],
                  [
                    35.675,
                    51.31
                  ],
                  [
                    35.95,
                    51.28
                  ],
                  [
                    35.785,
                    51.315
                  ],
                  [
                    35.95,
                    51.28
                  ],
                  [
                    35.98,
                    51.05
                  ],
                  [
                    35.625,
                    51.25
                  ],
                  [
                    35.55,
                    51.185
                  ],
                  [
                    35.625,
                    51.25
                  ],
                  [
                    35.625,
                    51.25
                  ],
                  [
                    35.705,
                    51.295
                  ],
                  [
                    35.625,
                    51.25
                  ],
                  [
                    35.745,
                    51.045
                  ],
                  [
                    35.625,
                    51.25
                  ],
                  [
                    35.55,
                    51.185
                  ],
                  [
                    35.95,
                    51.28
                  ],
                  [
                    35.975,
                    51.25
                  ],
                  [
                    35.95,
                    51.28
                  ],
                  [
                    35.625,
                    51.25
                  ],
                  [
                    35.675,
                    51.31
                  ],
                  [
                    35.95,
                    51.28
                  ],
                  [
                    35.875,
                    51.275
                  ],
                  [
                    35.625,
                    51.25
                  ],
                  [
                    35.625,
                    51.25
                  ],
                  [
                    35.995,
                    51
                  ],
                  [
                    35.625,
                    51.25
                  ],
                  [
                    35.575,
                    51.15
                  ],
                  [
                    35.805,
                    51.345
                  ],
                  [
                    35.95,
                    51.28
                  ],
                  [
                    35.745,
                    51.045
                  ],
                  [
                    35.625,
                    51.25
                  ],
                  [
                    35.95,
                    51.28
                  ],
                  [
                    35.625,
                    51.25
                  ],
                  [
                    35.675,
                    51.31
                  ],
                  [
                    35.625,
                    51.25
                  ],
                  [
                    35.95,
                    51.28
                  ],
                  [
                    35.95,
                    51.28
                  ],
                  [
                    35.975,
                    51.25
                  ],
                  [
                    35.95,
                    51.315
                  ],
                  [
                    35.95,
                    51.28
                  ],
                  [
                    36,
                    51
                  ],
                  [
                    35.95,
                    51.315
                  ],
                  [
                    35.97,
                    51.215
                  ],
                  [
                    35.95,
                    51.28
                  ],
                  [
                    35.705,
                    51.295
                  ],
                  [
                    35.95,
                    51.28
                  ],
                  [
                    35.625,
                    51.25
                  ],
                  [
                    35.56,
                    51.415
                  ],
                  [
                    35.625,
                    51.25
                  ],
                  [
                    35.95,
                    51.28
                  ],
                  [
                    35.95,
                    51.28
                  ],
                  [
                    35.815,
                    51.32
                  ],
                  [
                    35.95,
                    51.28
                  ],
                  [
                    35.625,
                    51.25
                  ],
                  [
                    35.65,
                    51.26
                  ],
                  [
                    35.95,
                    51.28
                  ],
                  [
                    35.875,
                    51.275
                  ],
                  [
                    35.95,
                    51.28
                  ]
                ]
              }
            },
            "height": 400,
            "layout": "IPY_MODEL_0bf076abcd44460780bd2bc83d129f31",
            "value": "Hello World!"
          }
        },
        "0bf076abcd44460780bd2bc83d129f31": {
          "model_module": "@jupyter-widgets/base",
          "model_name": "LayoutModel",
          "model_module_version": "1.2.0",
          "state": {
            "_model_module": "@jupyter-widgets/base",
            "_model_module_version": "1.2.0",
            "_model_name": "LayoutModel",
            "_view_count": null,
            "_view_module": "@jupyter-widgets/base",
            "_view_module_version": "1.2.0",
            "_view_name": "LayoutView",
            "align_content": null,
            "align_items": null,
            "align_self": null,
            "border": null,
            "bottom": null,
            "display": null,
            "flex": null,
            "flex_flow": null,
            "grid_area": null,
            "grid_auto_columns": null,
            "grid_auto_flow": null,
            "grid_auto_rows": null,
            "grid_column": null,
            "grid_gap": null,
            "grid_row": null,
            "grid_template_areas": null,
            "grid_template_columns": null,
            "grid_template_rows": null,
            "height": null,
            "justify_content": null,
            "justify_items": null,
            "left": null,
            "margin": null,
            "max_height": null,
            "max_width": null,
            "min_height": null,
            "min_width": null,
            "object_fit": null,
            "object_position": null,
            "order": null,
            "overflow": null,
            "overflow_x": null,
            "overflow_y": null,
            "padding": null,
            "right": null,
            "top": null,
            "visibility": null,
            "width": null
          }
        }
      }
    }
  },
  "nbformat": 4,
  "nbformat_minor": 0
}