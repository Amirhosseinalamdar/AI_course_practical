{
 "cells": [
  {
   "attachments": {},
   "cell_type": "markdown",
   "metadata": {},
   "source": [
    "# <center>پیدا کردن ربات</center>\n",
    "\n",
    "<div dir=\"rtl\" style=\"font-size:18px\">\n",
    "احتمالا کارتون WALL-E را بخاطر دارید. رباتی که توانست زمین را نجات دهد و باقیمانده نسل انسان‌ها را به زمین برگرداند. پس از بازگشت انسان‌ها به زمین و پس از محبوبیت زیاد WALL-E، او دوستان زیادی پیدا کرد. بهترین دوست او WALL-F یکی از بازیگوش‌ترین ربات‌هایی است که تاحالا دیده‌اید.\n",
    "<br>\n",
    "یکی از دفعاتی که WALL-F به بیرون رفته بود، راهی به درون یک هزار‌تو میابد. تصویر زیر از او در این هزارتو گرفته شده است.\n",
    "</div>\n",
    "<br>\n",
    "<br>\n",
    "<center>\n",
    "\n",
    "![WALL-F Ai-Generated](Assets/robot.jpg)\n",
    "\n",
    "</center>"
   ]
  },
  {
   "attachments": {},
   "cell_type": "markdown",
   "metadata": {},
   "source": [
    "<div dir=\"rtl\">\n",
    "در ادامه میخواهیم با روش‌های مختلفی پیدا کنیم که در حال حاضر ربات در چه خانه‌ای قرار دارد. در هرکدام از تست‌کیس‌هایی که لازم است بررسی کنید. خانه 0 و 0 خانه بالا و چپ هزارتو خواهد بود. در ادامه برای هر خانه مشخص خواهد شد که دیواری به هرکدام از جهات دارد یا خیر. \n",
    "به طور مثال عبارت\n",
    "''R L''\n",
    "به این معنی است که این خانه فقط به چپ و راست خود راه دارد. همچنین شماره‌گذاری خانه‌ها به صورت زیر است.\n",
    "در هر مرحله او به شما میگوید که در کدام خانه از جدول است. عددی که ربات به شما میگوید یک عدد تصادفی است که در یک ماتریس به شما داده میشود. عدد سطر \n",
    "$i$ \n",
    "و ستون \n",
    "$j$ \n",
    "احتمال این را نشان می‌دهد که ربات در خانه \n",
    "$i$ \n",
    "باشد اما خانه \n",
    "$j$ \n",
    "را شما گزارش دهد. این ربات در پایان هر مرحله با احتمال برابر به یکی از خانه‌های مجاور میرود. همینطور خانه شروع این ربات هم توزیعی یکنواخت دارد.\n",
    "</div>\n",
    "<br>\n",
    "<br>\n",
    "<center>\n",
    "\n",
    "![grid](Assets/grid.jpg)\n",
    "\n",
    "</center>"
   ]
  },
  {
   "attachments": {},
   "cell_type": "markdown",
   "metadata": {},
   "source": [
    "<div dir=\"rtl\">\n",
    "در ابتدا برای پیاده‌سازی ۲ الگوریتمی که در ادامه خواهید دید به آبجکتی از نوع Grid نیاز خواهید داشت. عملکرد این آبجکت را میتوانید از مسیر Assets/helpers.py ببینید. به طور مثال هزارتو زیر را در نظر بگیرید.\n",
    "</div>\n",
    "\n",
    "<center>\n",
    "\n",
    "![maze](Assets/grid2.jpg)\n",
    "\n",
    "</center>"
   ]
  },
  {
   "attachments": {},
   "cell_type": "markdown",
   "metadata": {},
   "source": [
    "<div dir=\"rtl\">\n",
    "grid متناظر با این هزارتو را میتوانید از طریق تابع get_sample_grid بگیرید و با توابع آن آشنا شوید. در صورت لزوم میتوانید هر تابع دلخواهی به این کلاس اضافه کنید. برای اطلاع از تعداد سطرهای grid میتوانید از grid.n و برای اطلاع از تعداد ستون‌ها میتوانید از grid.m استفاده کنید.\n",
    "</div>"
   ]
  },
  {
   "cell_type": "code",
   "execution_count": 1,
   "metadata": {},
   "outputs": [],
   "source": [
    "from Assets.helpers import get_sample_grid\n"
   ]
  },
  {
   "cell_type": "code",
   "execution_count": 2,
   "metadata": {},
   "outputs": [
    {
     "name": "stdout",
     "output_type": "stream",
     "text": [
      "[[['R'], ['L', 'R', 'D'], ['L']], [['R'], ['L', 'R', 'U'], ['L']]]\n"
     ]
    }
   ],
   "source": [
    "grid = get_sample_grid()\n",
    "print(grid.moves)"
   ]
  },
  {
   "attachments": {},
   "cell_type": "markdown",
   "metadata": {},
   "source": [
    "# Particle Filtering"
   ]
  },
  {
   "attachments": {},
   "cell_type": "markdown",
   "metadata": {},
   "source": [
    "<div dir=\"rtl\">\n",
    "در این قسمت باید آخرین خانه‌ای که این ربات در آن قرار دارد را با استفاده از الگوریتم Particle Filtering پیدا کنید. برای اینکار در ابتدا تعداد Particle هایی با تعدادی از اردر تعداد خانه‌های هزارتو بسازید. در پایان هر مرحله جمعیت را با توجه به وزن آنها نصف کنید و ذراتی جدید متناسب با تعداد ذرات درون هرخانه بسازید. در پایان خانه‌ای که بیشترین ذرات در آن قرار دارد را برگردانید.\n",
    "</div>"
   ]
  },
  {
   "cell_type": "code",
   "execution_count": 7,
   "metadata": {},
   "outputs": [],
   "source": [
    "import random\n",
    "import numpy as np\n",
    "def PF(grid, prob, obs):\n",
    "    \"\"\"\n",
    "    input:\n",
    "\n",
    "    grid: object of type Grid\n",
    "    obs: array of ints, each one is an observation\n",
    "\n",
    "    output: \n",
    "    number of the last cell\n",
    "    \"\"\"\n",
    "    s = grid.n * grid.m\n",
    "    particle = np.random.randint(0, s, size = s * 10)\n",
    "    for report in obs:\n",
    "        for p in range(len(particle)):\n",
    "            neighbours = grid.get_neighbors(particle[p])\n",
    "            particle[p] = random.choice(neighbours)\n",
    "\n",
    "        probs = np.array(prob[:, report])\n",
    "        \n",
    "        probs = probs[particle]\n",
    "        probs /= probs.sum()\n",
    "        \n",
    "        particle = np.random.choice(particle, size=len(particle), replace=True, p=probs)\n",
    "\n",
    "    counts = np.bincount(particle)\n",
    "    return np.argmax(counts)\n",
    "    "
   ]
  },
  {
   "cell_type": "code",
   "execution_count": 8,
   "metadata": {},
   "outputs": [
    {
     "name": "stdout",
     "output_type": "stream",
     "text": [
      "PF PASSED!\n"
     ]
    }
   ],
   "source": [
    "from Assets.helpers import PF_checker\n",
    "PF_checker(PF)"
   ]
  },
  {
   "attachments": {},
   "cell_type": "markdown",
   "metadata": {},
   "source": [
    "# HMM"
   ]
  },
  {
   "attachments": {},
   "cell_type": "markdown",
   "metadata": {},
   "source": [
    "<div dir=\"rtl\">\n",
    "در این قسمت غیر از اینکه باید بفهمیم WALL-F در کدام خانه قرار دارد. میخواهیم بدانیم که محتمل‌ترین مسیری که طی کرده‌ است چه مسیری است. برای اینکار الگوریتم viterbi را پیاده‌سازی کنید.\n",
    "</div>"
   ]
  },
  {
   "cell_type": "code",
   "execution_count": 183,
   "metadata": {},
   "outputs": [],
   "source": [
    "def viterbi(grid, prob, obs):\n",
    "    \"\"\"\n",
    "    Viterbi algorithm for finding the most likely sequence of hidden states.\n",
    "\n",
    "    Parameters:\n",
    "    - grid: object of type Grid\n",
    "    - prob: array representing probabilities\n",
    "    - obs: array of ints, each one is an observation\n",
    "\n",
    "    Returns:\n",
    "    - array of cell numbers, same shape as obs\n",
    "    \"\"\"\n",
    "    s = grid.m * grid.n\n",
    "\n",
    "\n",
    "    transition_mat = np.zeros((s, s))\n",
    "    for i in range(s):\n",
    "        for j in grid.get_neighbors(i):\n",
    "            transition_mat[i, j] = 1\n",
    "        transition_mat[i] = transition_mat[i] / np.sum(transition_mat[i])\n",
    "\n",
    "\n",
    "    \n",
    "    dp = np.zeros((s, len(obs)))\n",
    "    parent = np.zeros((s, len(obs)), dtype=int)\n",
    "\n",
    "    dp[:, 0] = prob[:, obs[0]]\n",
    "\n",
    "    for idx, report in enumerate(obs):\n",
    "        if idx == 0: continue\n",
    "        for i in range(s):\n",
    "            neighbors = grid.get_neighbors(i)\n",
    "            max_prob = float('-inf')\n",
    "            max_parent = -1\n",
    "\n",
    "            for n in neighbors:\n",
    "                current_prob = dp[n, idx - 1] * transition_mat[n, i]\n",
    "                if current_prob > max_prob:\n",
    "                    max_prob = current_prob\n",
    "                    max_parent = n\n",
    "\n",
    "            dp[i, idx] = max_prob *  prob[i, report]\n",
    "            parent[i, idx] = max_parent\n",
    "\n",
    "    res = [np.argmax(dp[:, -1])]\n",
    "    idx = len(obs) - 1\n",
    "\n",
    "    while idx > 0:\n",
    "        res.append(parent[res[-1], idx])\n",
    "        idx -= 1\n",
    "    return res[::-1]\n"
   ]
  },
  {
   "cell_type": "code",
   "execution_count": 184,
   "metadata": {},
   "outputs": [
    {
     "name": "stdout",
     "output_type": "stream",
     "text": [
      "VITERBI PASSED!\n"
     ]
    }
   ],
   "source": [
    "from Assets.helpers import viterbi_checker\n",
    "viterbi_checker(viterbi)"
   ]
  }
 ],
 "metadata": {
  "kernelspec": {
   "display_name": "Python 3",
   "language": "python",
   "name": "python3"
  },
  "language_info": {
   "codemirror_mode": {
    "name": "ipython",
    "version": 3
   },
   "file_extension": ".py",
   "mimetype": "text/x-python",
   "name": "python",
   "nbconvert_exporter": "python",
   "pygments_lexer": "ipython3",
   "version": "3.11.0"
  },
  "orig_nbformat": 4,
  "vscode": {
   "interpreter": {
    "hash": "de47f5c92c0ee6f12a59a5613ac5feff6aab19ddff207ba0b3964cced08c4ccc"
   }
  }
 },
 "nbformat": 4,
 "nbformat_minor": 2
}
